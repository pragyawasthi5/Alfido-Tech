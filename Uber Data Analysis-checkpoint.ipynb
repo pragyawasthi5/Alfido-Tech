{
 "cells": [
  {
   "cell_type": "markdown",
   "id": "1a10c004",
   "metadata": {},
   "source": [
    "\n",
    "# Introduction:\n",
    "\n",
    "The Uber data analysis project offers a comprehensive exploration of ride data, employing Python and various data analysis libraries. This project encompasses diverse aspects, including data cleaning, exploratory data analysis (EDA), time-based analysis, correlation analysis, and even ventures into predictive modeling. By delving into ride trends, popular destinations, and the correlation between numerical features, the project seeks to uncover insights that contribute to a richer understanding of Uber ride patterns."
   ]
  },
  {
   "cell_type": "markdown",
   "id": "9356c6b1",
   "metadata": {},
   "source": [
    "# Objectives:\n",
    "\n",
    "### Data Cleaning and Preprocessing:\n",
    "\n",
    "Identification and handling of missing values in crucial columns such as \"END_DATE,\" \"CATEGORY,\" \"START,\" and \"STOP.\"\n",
    "Imputation of missing \"PURPOSE\" values with \"Unknown.\"\n",
    "Conversion of the \"START_DATE\" and \"END_DATE\" columns to datetime format.\n",
    "Extraction of date-related features for further analysis.\n",
    "\n",
    "\n",
    "### Exploratory Data Analysis (EDA):\n",
    "\n",
    "Exploration of unique values in \"CATEGORY\" and \"PURPOSE\" columns.\n",
    "Removal of duplicate rows for a cleaner dataset.\n",
    "Examination of the distribution of ride distances using histograms.\n",
    "Detection and visualization of outliers through box plots and scatter plots.\n",
    "In-depth EDA exploring ride patterns by category, day of the week, and popular destinations.\n",
    "\n",
    "\n",
    "### Time-Based Analysis:\n",
    "\n",
    "Calculation of ride duration and its inclusion as a new feature.\n",
    "Analysis of ride trends per month, day, and hour to discern temporal patterns.\n",
    "\n",
    "\n",
    "### Correlation Analysis:\n",
    "\n",
    "Exploration of the correlation matrix for numerical features to understand relationships within the dataset.\n",
    "\n",
    "\n",
    "### Predictive Modeling:\n",
    "\n",
    "Utilization of linear regression for predicting ride durations based on selected features.\n",
    "Evaluation of the model's performance using metrics such as Mean Squared Error (MSE) and R-squared.\n",
    "Visualization of actual versus predicted ride durations."
   ]
  },
  {
   "cell_type": "code",
   "execution_count": 30,
   "id": "2819ce88",
   "metadata": {},
   "outputs": [],
   "source": [
    "# import important libraries\n",
    "import numpy as np\n",
    "import pandas as pd\n",
    "import seaborn as sns\n",
    "import matplotlib.pyplot as plt\n",
    "import plotly.express as px"
   ]
  },
  {
   "cell_type": "code",
   "execution_count": 31,
   "id": "7a3cb3f4",
   "metadata": {},
   "outputs": [],
   "source": [
    "#load the dataset\n",
    "df= pd.read_csv(\"UberDataset.csv\")\n"
   ]
  },
  {
   "cell_type": "code",
   "execution_count": 32,
   "id": "b56c912e",
   "metadata": {},
   "outputs": [
    {
     "data": {
      "text/html": [
       "<div>\n",
       "<style scoped>\n",
       "    .dataframe tbody tr th:only-of-type {\n",
       "        vertical-align: middle;\n",
       "    }\n",
       "\n",
       "    .dataframe tbody tr th {\n",
       "        vertical-align: top;\n",
       "    }\n",
       "\n",
       "    .dataframe thead th {\n",
       "        text-align: right;\n",
       "    }\n",
       "</style>\n",
       "<table border=\"1\" class=\"dataframe\">\n",
       "  <thead>\n",
       "    <tr style=\"text-align: right;\">\n",
       "      <th></th>\n",
       "      <th>START_DATE</th>\n",
       "      <th>END_DATE</th>\n",
       "      <th>CATEGORY</th>\n",
       "      <th>START</th>\n",
       "      <th>STOP</th>\n",
       "      <th>MILES</th>\n",
       "      <th>PURPOSE</th>\n",
       "    </tr>\n",
       "  </thead>\n",
       "  <tbody>\n",
       "    <tr>\n",
       "      <th>0</th>\n",
       "      <td>01-01-2016 21:11</td>\n",
       "      <td>01-01-2016 21:17</td>\n",
       "      <td>Business</td>\n",
       "      <td>Fort Pierce</td>\n",
       "      <td>Fort Pierce</td>\n",
       "      <td>5.1</td>\n",
       "      <td>Meal/Entertain</td>\n",
       "    </tr>\n",
       "    <tr>\n",
       "      <th>1</th>\n",
       "      <td>01-02-2016 01:25</td>\n",
       "      <td>01-02-2016 01:37</td>\n",
       "      <td>Business</td>\n",
       "      <td>Fort Pierce</td>\n",
       "      <td>Fort Pierce</td>\n",
       "      <td>5.0</td>\n",
       "      <td>NaN</td>\n",
       "    </tr>\n",
       "    <tr>\n",
       "      <th>2</th>\n",
       "      <td>01-02-2016 20:25</td>\n",
       "      <td>01-02-2016 20:38</td>\n",
       "      <td>Business</td>\n",
       "      <td>Fort Pierce</td>\n",
       "      <td>Fort Pierce</td>\n",
       "      <td>4.8</td>\n",
       "      <td>Errand/Supplies</td>\n",
       "    </tr>\n",
       "    <tr>\n",
       "      <th>3</th>\n",
       "      <td>01-05-2016 17:31</td>\n",
       "      <td>01-05-2016 17:45</td>\n",
       "      <td>Business</td>\n",
       "      <td>Fort Pierce</td>\n",
       "      <td>Fort Pierce</td>\n",
       "      <td>4.7</td>\n",
       "      <td>Meeting</td>\n",
       "    </tr>\n",
       "    <tr>\n",
       "      <th>4</th>\n",
       "      <td>01-06-2016 14:42</td>\n",
       "      <td>01-06-2016 15:49</td>\n",
       "      <td>Business</td>\n",
       "      <td>Fort Pierce</td>\n",
       "      <td>West Palm Beach</td>\n",
       "      <td>63.7</td>\n",
       "      <td>Customer Visit</td>\n",
       "    </tr>\n",
       "    <tr>\n",
       "      <th>...</th>\n",
       "      <td>...</td>\n",
       "      <td>...</td>\n",
       "      <td>...</td>\n",
       "      <td>...</td>\n",
       "      <td>...</td>\n",
       "      <td>...</td>\n",
       "      <td>...</td>\n",
       "    </tr>\n",
       "    <tr>\n",
       "      <th>1151</th>\n",
       "      <td>12/31/2016 13:24</td>\n",
       "      <td>12/31/2016 13:42</td>\n",
       "      <td>Business</td>\n",
       "      <td>Kar?chi</td>\n",
       "      <td>Unknown Location</td>\n",
       "      <td>3.9</td>\n",
       "      <td>Temporary Site</td>\n",
       "    </tr>\n",
       "    <tr>\n",
       "      <th>1152</th>\n",
       "      <td>12/31/2016 15:03</td>\n",
       "      <td>12/31/2016 15:38</td>\n",
       "      <td>Business</td>\n",
       "      <td>Unknown Location</td>\n",
       "      <td>Unknown Location</td>\n",
       "      <td>16.2</td>\n",
       "      <td>Meeting</td>\n",
       "    </tr>\n",
       "    <tr>\n",
       "      <th>1153</th>\n",
       "      <td>12/31/2016 21:32</td>\n",
       "      <td>12/31/2016 21:50</td>\n",
       "      <td>Business</td>\n",
       "      <td>Katunayake</td>\n",
       "      <td>Gampaha</td>\n",
       "      <td>6.4</td>\n",
       "      <td>Temporary Site</td>\n",
       "    </tr>\n",
       "    <tr>\n",
       "      <th>1154</th>\n",
       "      <td>12/31/2016 22:08</td>\n",
       "      <td>12/31/2016 23:51</td>\n",
       "      <td>Business</td>\n",
       "      <td>Gampaha</td>\n",
       "      <td>Ilukwatta</td>\n",
       "      <td>48.2</td>\n",
       "      <td>Temporary Site</td>\n",
       "    </tr>\n",
       "    <tr>\n",
       "      <th>1155</th>\n",
       "      <td>Totals</td>\n",
       "      <td>NaN</td>\n",
       "      <td>NaN</td>\n",
       "      <td>NaN</td>\n",
       "      <td>NaN</td>\n",
       "      <td>12204.7</td>\n",
       "      <td>NaN</td>\n",
       "    </tr>\n",
       "  </tbody>\n",
       "</table>\n",
       "<p>1156 rows × 7 columns</p>\n",
       "</div>"
      ],
      "text/plain": [
       "            START_DATE          END_DATE  CATEGORY             START  \\\n",
       "0     01-01-2016 21:11  01-01-2016 21:17  Business       Fort Pierce   \n",
       "1     01-02-2016 01:25  01-02-2016 01:37  Business       Fort Pierce   \n",
       "2     01-02-2016 20:25  01-02-2016 20:38  Business       Fort Pierce   \n",
       "3     01-05-2016 17:31  01-05-2016 17:45  Business       Fort Pierce   \n",
       "4     01-06-2016 14:42  01-06-2016 15:49  Business       Fort Pierce   \n",
       "...                ...               ...       ...               ...   \n",
       "1151  12/31/2016 13:24  12/31/2016 13:42  Business           Kar?chi   \n",
       "1152  12/31/2016 15:03  12/31/2016 15:38  Business  Unknown Location   \n",
       "1153  12/31/2016 21:32  12/31/2016 21:50  Business        Katunayake   \n",
       "1154  12/31/2016 22:08  12/31/2016 23:51  Business           Gampaha   \n",
       "1155            Totals               NaN       NaN               NaN   \n",
       "\n",
       "                  STOP    MILES          PURPOSE  \n",
       "0          Fort Pierce      5.1   Meal/Entertain  \n",
       "1          Fort Pierce      5.0              NaN  \n",
       "2          Fort Pierce      4.8  Errand/Supplies  \n",
       "3          Fort Pierce      4.7          Meeting  \n",
       "4      West Palm Beach     63.7   Customer Visit  \n",
       "...                ...      ...              ...  \n",
       "1151  Unknown Location      3.9   Temporary Site  \n",
       "1152  Unknown Location     16.2          Meeting  \n",
       "1153           Gampaha      6.4   Temporary Site  \n",
       "1154         Ilukwatta     48.2   Temporary Site  \n",
       "1155               NaN  12204.7              NaN  \n",
       "\n",
       "[1156 rows x 7 columns]"
      ]
     },
     "execution_count": 32,
     "metadata": {},
     "output_type": "execute_result"
    }
   ],
   "source": [
    "df"
   ]
  },
  {
   "cell_type": "code",
   "execution_count": 33,
   "id": "b9609a95",
   "metadata": {},
   "outputs": [
    {
     "data": {
      "text/html": [
       "<div>\n",
       "<style scoped>\n",
       "    .dataframe tbody tr th:only-of-type {\n",
       "        vertical-align: middle;\n",
       "    }\n",
       "\n",
       "    .dataframe tbody tr th {\n",
       "        vertical-align: top;\n",
       "    }\n",
       "\n",
       "    .dataframe thead th {\n",
       "        text-align: right;\n",
       "    }\n",
       "</style>\n",
       "<table border=\"1\" class=\"dataframe\">\n",
       "  <thead>\n",
       "    <tr style=\"text-align: right;\">\n",
       "      <th></th>\n",
       "      <th>START_DATE</th>\n",
       "      <th>END_DATE</th>\n",
       "      <th>CATEGORY</th>\n",
       "      <th>START</th>\n",
       "      <th>STOP</th>\n",
       "      <th>MILES</th>\n",
       "      <th>PURPOSE</th>\n",
       "    </tr>\n",
       "  </thead>\n",
       "  <tbody>\n",
       "    <tr>\n",
       "      <th>0</th>\n",
       "      <td>01-01-2016 21:11</td>\n",
       "      <td>01-01-2016 21:17</td>\n",
       "      <td>Business</td>\n",
       "      <td>Fort Pierce</td>\n",
       "      <td>Fort Pierce</td>\n",
       "      <td>5.1</td>\n",
       "      <td>Meal/Entertain</td>\n",
       "    </tr>\n",
       "    <tr>\n",
       "      <th>1</th>\n",
       "      <td>01-02-2016 01:25</td>\n",
       "      <td>01-02-2016 01:37</td>\n",
       "      <td>Business</td>\n",
       "      <td>Fort Pierce</td>\n",
       "      <td>Fort Pierce</td>\n",
       "      <td>5.0</td>\n",
       "      <td>NaN</td>\n",
       "    </tr>\n",
       "    <tr>\n",
       "      <th>2</th>\n",
       "      <td>01-02-2016 20:25</td>\n",
       "      <td>01-02-2016 20:38</td>\n",
       "      <td>Business</td>\n",
       "      <td>Fort Pierce</td>\n",
       "      <td>Fort Pierce</td>\n",
       "      <td>4.8</td>\n",
       "      <td>Errand/Supplies</td>\n",
       "    </tr>\n",
       "    <tr>\n",
       "      <th>3</th>\n",
       "      <td>01-05-2016 17:31</td>\n",
       "      <td>01-05-2016 17:45</td>\n",
       "      <td>Business</td>\n",
       "      <td>Fort Pierce</td>\n",
       "      <td>Fort Pierce</td>\n",
       "      <td>4.7</td>\n",
       "      <td>Meeting</td>\n",
       "    </tr>\n",
       "    <tr>\n",
       "      <th>4</th>\n",
       "      <td>01-06-2016 14:42</td>\n",
       "      <td>01-06-2016 15:49</td>\n",
       "      <td>Business</td>\n",
       "      <td>Fort Pierce</td>\n",
       "      <td>West Palm Beach</td>\n",
       "      <td>63.7</td>\n",
       "      <td>Customer Visit</td>\n",
       "    </tr>\n",
       "  </tbody>\n",
       "</table>\n",
       "</div>"
      ],
      "text/plain": [
       "         START_DATE          END_DATE  CATEGORY        START             STOP  \\\n",
       "0  01-01-2016 21:11  01-01-2016 21:17  Business  Fort Pierce      Fort Pierce   \n",
       "1  01-02-2016 01:25  01-02-2016 01:37  Business  Fort Pierce      Fort Pierce   \n",
       "2  01-02-2016 20:25  01-02-2016 20:38  Business  Fort Pierce      Fort Pierce   \n",
       "3  01-05-2016 17:31  01-05-2016 17:45  Business  Fort Pierce      Fort Pierce   \n",
       "4  01-06-2016 14:42  01-06-2016 15:49  Business  Fort Pierce  West Palm Beach   \n",
       "\n",
       "   MILES          PURPOSE  \n",
       "0    5.1   Meal/Entertain  \n",
       "1    5.0              NaN  \n",
       "2    4.8  Errand/Supplies  \n",
       "3    4.7          Meeting  \n",
       "4   63.7   Customer Visit  "
      ]
     },
     "execution_count": 33,
     "metadata": {},
     "output_type": "execute_result"
    }
   ],
   "source": [
    "df.head()"
   ]
  },
  {
   "cell_type": "code",
   "execution_count": 34,
   "id": "dc00c7d8",
   "metadata": {},
   "outputs": [
    {
     "data": {
      "text/html": [
       "<div>\n",
       "<style scoped>\n",
       "    .dataframe tbody tr th:only-of-type {\n",
       "        vertical-align: middle;\n",
       "    }\n",
       "\n",
       "    .dataframe tbody tr th {\n",
       "        vertical-align: top;\n",
       "    }\n",
       "\n",
       "    .dataframe thead th {\n",
       "        text-align: right;\n",
       "    }\n",
       "</style>\n",
       "<table border=\"1\" class=\"dataframe\">\n",
       "  <thead>\n",
       "    <tr style=\"text-align: right;\">\n",
       "      <th></th>\n",
       "      <th>START_DATE</th>\n",
       "      <th>END_DATE</th>\n",
       "      <th>CATEGORY</th>\n",
       "      <th>START</th>\n",
       "      <th>STOP</th>\n",
       "      <th>MILES</th>\n",
       "      <th>PURPOSE</th>\n",
       "    </tr>\n",
       "  </thead>\n",
       "  <tbody>\n",
       "    <tr>\n",
       "      <th>1151</th>\n",
       "      <td>12/31/2016 13:24</td>\n",
       "      <td>12/31/2016 13:42</td>\n",
       "      <td>Business</td>\n",
       "      <td>Kar?chi</td>\n",
       "      <td>Unknown Location</td>\n",
       "      <td>3.9</td>\n",
       "      <td>Temporary Site</td>\n",
       "    </tr>\n",
       "    <tr>\n",
       "      <th>1152</th>\n",
       "      <td>12/31/2016 15:03</td>\n",
       "      <td>12/31/2016 15:38</td>\n",
       "      <td>Business</td>\n",
       "      <td>Unknown Location</td>\n",
       "      <td>Unknown Location</td>\n",
       "      <td>16.2</td>\n",
       "      <td>Meeting</td>\n",
       "    </tr>\n",
       "    <tr>\n",
       "      <th>1153</th>\n",
       "      <td>12/31/2016 21:32</td>\n",
       "      <td>12/31/2016 21:50</td>\n",
       "      <td>Business</td>\n",
       "      <td>Katunayake</td>\n",
       "      <td>Gampaha</td>\n",
       "      <td>6.4</td>\n",
       "      <td>Temporary Site</td>\n",
       "    </tr>\n",
       "    <tr>\n",
       "      <th>1154</th>\n",
       "      <td>12/31/2016 22:08</td>\n",
       "      <td>12/31/2016 23:51</td>\n",
       "      <td>Business</td>\n",
       "      <td>Gampaha</td>\n",
       "      <td>Ilukwatta</td>\n",
       "      <td>48.2</td>\n",
       "      <td>Temporary Site</td>\n",
       "    </tr>\n",
       "    <tr>\n",
       "      <th>1155</th>\n",
       "      <td>Totals</td>\n",
       "      <td>NaN</td>\n",
       "      <td>NaN</td>\n",
       "      <td>NaN</td>\n",
       "      <td>NaN</td>\n",
       "      <td>12204.7</td>\n",
       "      <td>NaN</td>\n",
       "    </tr>\n",
       "  </tbody>\n",
       "</table>\n",
       "</div>"
      ],
      "text/plain": [
       "            START_DATE          END_DATE  CATEGORY             START  \\\n",
       "1151  12/31/2016 13:24  12/31/2016 13:42  Business           Kar?chi   \n",
       "1152  12/31/2016 15:03  12/31/2016 15:38  Business  Unknown Location   \n",
       "1153  12/31/2016 21:32  12/31/2016 21:50  Business        Katunayake   \n",
       "1154  12/31/2016 22:08  12/31/2016 23:51  Business           Gampaha   \n",
       "1155            Totals               NaN       NaN               NaN   \n",
       "\n",
       "                  STOP    MILES         PURPOSE  \n",
       "1151  Unknown Location      3.9  Temporary Site  \n",
       "1152  Unknown Location     16.2         Meeting  \n",
       "1153           Gampaha      6.4  Temporary Site  \n",
       "1154         Ilukwatta     48.2  Temporary Site  \n",
       "1155               NaN  12204.7             NaN  "
      ]
     },
     "execution_count": 34,
     "metadata": {},
     "output_type": "execute_result"
    }
   ],
   "source": [
    "df.tail()"
   ]
  },
  {
   "cell_type": "code",
   "execution_count": 35,
   "id": "c76a6b43",
   "metadata": {},
   "outputs": [
    {
     "name": "stdout",
     "output_type": "stream",
     "text": [
      "<class 'pandas.core.frame.DataFrame'>\n",
      "RangeIndex: 1156 entries, 0 to 1155\n",
      "Data columns (total 7 columns):\n",
      " #   Column      Non-Null Count  Dtype  \n",
      "---  ------      --------------  -----  \n",
      " 0   START_DATE  1156 non-null   object \n",
      " 1   END_DATE    1155 non-null   object \n",
      " 2   CATEGORY    1155 non-null   object \n",
      " 3   START       1155 non-null   object \n",
      " 4   STOP        1155 non-null   object \n",
      " 5   MILES       1156 non-null   float64\n",
      " 6   PURPOSE     653 non-null    object \n",
      "dtypes: float64(1), object(6)\n",
      "memory usage: 63.3+ KB\n"
     ]
    }
   ],
   "source": [
    "df.info()"
   ]
  },
  {
   "cell_type": "markdown",
   "id": "d6e19d62",
   "metadata": {},
   "source": [
    "# Data Cleaning"
   ]
  },
  {
   "cell_type": "code",
   "execution_count": 36,
   "id": "2ba4ac9f",
   "metadata": {},
   "outputs": [
    {
     "data": {
      "text/plain": [
       "START_DATE      0\n",
       "END_DATE        1\n",
       "CATEGORY        1\n",
       "START           1\n",
       "STOP            1\n",
       "MILES           0\n",
       "PURPOSE       503\n",
       "dtype: int64"
      ]
     },
     "execution_count": 36,
     "metadata": {},
     "output_type": "execute_result"
    }
   ],
   "source": [
    "df.isnull().sum()"
   ]
  },
  {
   "cell_type": "code",
   "execution_count": 37,
   "id": "aa0d389a",
   "metadata": {},
   "outputs": [
    {
     "data": {
      "text/plain": [
       "START_DATE     object\n",
       "END_DATE       object\n",
       "CATEGORY       object\n",
       "START          object\n",
       "STOP           object\n",
       "MILES         float64\n",
       "PURPOSE        object\n",
       "dtype: object"
      ]
     },
     "execution_count": 37,
     "metadata": {},
     "output_type": "execute_result"
    }
   ],
   "source": [
    "df.dtypes"
   ]
  },
  {
   "cell_type": "markdown",
   "id": "a0b9fae4",
   "metadata": {},
   "source": [
    "# Handling Missing Values"
   ]
  },
  {
   "cell_type": "code",
   "execution_count": 38,
   "id": "48ca37f6",
   "metadata": {},
   "outputs": [],
   "source": [
    "df.dropna(subset=[\"END_DATE\"], inplace=True)\n",
    "df.dropna(subset=[\"CATEGORY\"], inplace=True)\n",
    "df.dropna(subset=[\"START\"], inplace=True)\n",
    "df.dropna(subset=[\"STOP\"], inplace=True)\n",
    "#filling missing \"PURPOSE\" values with \"Unknown\"\n",
    "df[\"PURPOSE\"].fillna(\"Unknown\", inplace=True)"
   ]
  },
  {
   "cell_type": "code",
   "execution_count": 39,
   "id": "cb27ecf2",
   "metadata": {},
   "outputs": [],
   "source": [
    "#convert datatype of START_DATE and STOP_DATE columns to datetime format.\n",
    "df[\"START_DATE\"]= pd.to_datetime(df[\"START_DATE\"])\n",
    "df[\"END_DATE\"]= pd.to_datetime(df[\"END_DATE\"])"
   ]
  },
  {
   "cell_type": "code",
   "execution_count": 40,
   "id": "3092b491",
   "metadata": {},
   "outputs": [],
   "source": [
    "# Extract date-related features\n",
    "df['START_DAY'] = df['START_DATE'].dt.day_name()\n",
    "df['END_DAY'] = df['END_DATE'].dt.day_name()"
   ]
  },
  {
   "cell_type": "code",
   "execution_count": 41,
   "id": "ef150316",
   "metadata": {},
   "outputs": [
    {
     "data": {
      "text/plain": [
       "START_DATE    datetime64[ns]\n",
       "END_DATE      datetime64[ns]\n",
       "CATEGORY              object\n",
       "START                 object\n",
       "STOP                  object\n",
       "MILES                float64\n",
       "PURPOSE               object\n",
       "START_DAY             object\n",
       "END_DAY               object\n",
       "dtype: object"
      ]
     },
     "execution_count": 41,
     "metadata": {},
     "output_type": "execute_result"
    }
   ],
   "source": [
    "df.dtypes"
   ]
  },
  {
   "cell_type": "markdown",
   "id": "0ee530e5",
   "metadata": {},
   "source": [
    "# Check unique values in \"CATEGORY\" and \"PURPOSE\" column."
   ]
  },
  {
   "cell_type": "code",
   "execution_count": 42,
   "id": "6698b4a6",
   "metadata": {},
   "outputs": [
    {
     "name": "stdout",
     "output_type": "stream",
     "text": [
      "Unique Categories\n",
      "['Business' 'Personal']\n",
      "Unique Purpose\n",
      "['Meal/Entertain' 'Unknown' 'Errand/Supplies' 'Meeting' 'Customer Visit'\n",
      " 'Temporary Site' 'Between Offices' 'Charity ($)' 'Commute' 'Moving'\n",
      " 'Airport/Travel']\n"
     ]
    }
   ],
   "source": [
    "unique_category= df[\"CATEGORY\"].unique()\n",
    "unique_purpose=df[\"PURPOSE\"].unique()\n",
    "\n",
    "print(\"Unique Categories\")\n",
    "print(unique_category)\n",
    "\n",
    "print(\"Unique Purpose\")\n",
    "print(unique_purpose)"
   ]
  },
  {
   "cell_type": "code",
   "execution_count": 43,
   "id": "f1a9c571",
   "metadata": {},
   "outputs": [
    {
     "name": "stdout",
     "output_type": "stream",
     "text": [
      "1\n"
     ]
    }
   ],
   "source": [
    "# check for duplicate rows in entire dataframe.\n",
    "duplicates=df.duplicated()\n",
    "print(duplicates.sum())"
   ]
  },
  {
   "cell_type": "code",
   "execution_count": 44,
   "id": "508a158c",
   "metadata": {},
   "outputs": [
    {
     "name": "stdout",
     "output_type": "stream",
     "text": [
      "             START_DATE            END_DATE  CATEGORY   START  STOP  MILES  \\\n",
      "492 2016-06-28 23:34:00 2016-06-28 23:59:00  Business  Durham  Cary    9.9   \n",
      "\n",
      "     PURPOSE START_DAY  END_DAY  \n",
      "492  Meeting   Tuesday  Tuesday  \n"
     ]
    }
   ],
   "source": [
    "duplicate_row= df[df.duplicated()]\n",
    "print(duplicate_row)"
   ]
  },
  {
   "cell_type": "code",
   "execution_count": 45,
   "id": "1549732b",
   "metadata": {},
   "outputs": [],
   "source": [
    "df.drop_duplicates(inplace=True)"
   ]
  },
  {
   "cell_type": "code",
   "execution_count": 46,
   "id": "bf3fe9c8",
   "metadata": {},
   "outputs": [
    {
     "name": "stdout",
     "output_type": "stream",
     "text": [
      "             MILES\n",
      "count  1154.000000\n",
      "mean     10.567418\n",
      "std      21.588452\n",
      "min       0.500000\n",
      "25%       2.900000\n",
      "50%       6.000000\n",
      "75%      10.400000\n",
      "max     310.300000\n"
     ]
    }
   ],
   "source": [
    "summary_stats= df.describe()\n",
    "print(summary_stats)"
   ]
  },
  {
   "cell_type": "code",
   "execution_count": 47,
   "id": "010cec89",
   "metadata": {},
   "outputs": [
    {
     "data": {
      "image/png": "[encoded data removed]",
      "text/plain": [
       "<Figure size 800x600 with 1 Axes>"
      ]
     },
     "metadata": {},
     "output_type": "display_data"
    }
   ],
   "source": [
    "#histogram of \"MILES\" to check distribution and outliers\n",
    "plt.figure(figsize=(8,6))\n",
    "sns.histplot(df[\"MILES\"], bins=20, kde=True)\n",
    "plt.xlabel(\"Miles\")\n",
    "plt.ylabel(\"Frequency\")\n",
    "plt.title(\"Distribution of Miles\")\n",
    "plt.show()"
   ]
  },
  {
   "cell_type": "code",
   "execution_count": 48,
   "id": "08f356db",
   "metadata": {},
   "outputs": [
    {
     "data": {
      "application/vnd.plotly.v1+json": {
       "config": {
        "plotlyServerURL": "https://plot.ly"
       },
       "data": [
        {
         "alignmentgroup": "True",
         "hovertemplate": "MILES=%{y}<extra></extra>",
         "legendgroup": "",
         "marker": {
          "color": "#636efa"
         },
         "name": "",
         "notched": false,
         "offsetgroup": "",
         "orientation": "v",
         "showlegend": false,
         "type": "box",
         "x0": " ",
         "xaxis": "x",
         "y": [
          5.1,
          5,
          4.8,
          4.7,
          63.7,
          4.3,
          7.1,
          0.8,
          8.3,
          16.5,
          10.8,
          7.5,
          6.2,
          6.4,
          1.6,
          1.7,
          1.9,
          1.9,
          4,
          1.8,
          2.4,
          2,
          15.1,
          11.2,
          11.8,
          21.9,
          3.9,
          8,
          10.4,
          10.4,
          4.8,
          4.7,
          7.2,
          7.6,
          17.1,
          15.1,
          40.2,
          1.6,
          2.4,
          1,
          2,
          2.3,
          1.9,
          1.4,
          0.5,
          1.8,
          18.7,
          3.4,
          2.7,
          12.9,
          19,
          14.7,
          15.7,
          4.6,
          5.2,
          10.4,
          10.1,
          5.8,
          5.5,
          5.7,
          5.7,
          19.4,
          23.3,
          3.9,
          8.3,
          6,
          1.6,
          5.2,
          9.7,
          1.6,
          1.1,
          1.6,
          9,
          7.7,
          10.4,
          10.4,
          11.4,
          9,
          3.2,
          5.6,
          5.7,
          6.1,
          6.1,
          4.3,
          2.7,
          5.3,
          3,
          5.1,
          1.5,
          6.1,
          6.1,
          17.3,
          5.7,
          13.5,
          6.1,
          8.5,
          2.6,
          17,
          18,
          8.4,
          11.5,
          8.9,
          2.7,
          1.8,
          8.1,
          2,
          13,
          13.9,
          43.7,
          14.1,
          2.6,
          4.5,
          1.7,
          1.8,
          6,
          1.1,
          3.6,
          14.7,
          1.7,
          21.4,
          0.5,
          23.5,
          12.7,
          6,
          5.2,
          10,
          18.3,
          11.2,
          7.6,
          1.5,
          1,
          7.3,
          3.5,
          4.2,
          13.6,
          2.5,
          14.4,
          3,
          1.5,
          18.4,
          23.1,
          16.5,
          3.2,
          7.7,
          14.5,
          2.4,
          4.6,
          8.8,
          8.3,
          22.7,
          13,
          8.1,
          2.2,
          9.7,
          20,
          8.1,
          1.5,
          1.7,
          3.1,
          3.2,
          6,
          5.8,
          6.3,
          1.7,
          10.6,
          9.9,
          1.9,
          4.2,
          2,
          7.7,
          6.8,
          2.1,
          3.8,
          5.6,
          2.6,
          6.6,
          8,
          8,
          2.2,
          2.3,
          5.2,
          7.6,
          17.3,
          9.9,
          9.9,
          10.4,
          10.9,
          15.7,
          4.9,
          0.8,
          13.5,
          1.9,
          2,
          6.5,
          4.2,
          3.5,
          7.8,
          7.8,
          3.9,
          2.8,
          12.4,
          5.9,
          9.4,
          11.9,
          7.2,
          7.6,
          1.6,
          8.4,
          12.8,
          2.3,
          1.6,
          2,
          0.8,
          1.2,
          1,
          2.1,
          2.2,
          1.9,
          5.7,
          8.4,
          6.2,
          10.5,
          7.2,
          12.5,
          2,
          2.7,
          2,
          2.8,
          1.7,
          2,
          2.1,
          1.7,
          136,
          30.2,
          15.5,
          4.9,
          12.6,
          10.4,
          1.1,
          1.1,
          13.2,
          1,
          9.2,
          9.4,
          12,
          35.1,
          36.5,
          3.1,
          2.1,
          1.2,
          7.5,
          57,
          5.9,
          6.2,
          10.4,
          1.2,
          9.6,
          1,
          0.9,
          8.8,
          25.6,
          23,
          8.1,
          1.4,
          1.7,
          1.6,
          2,
          2.2,
          144,
          310.3,
          201,
          6.7,
          8.8,
          1.2,
          2.1,
          6.6,
          6.1,
          6.9,
          7.3,
          3.6,
          27.2,
          25.7,
          13.6,
          6.2,
          6,
          13.8,
          28.8,
          16.1,
          16.4,
          11,
          15.5,
          20.3,
          0.7,
          5.5,
          5.1,
          77.3,
          80.5,
          174.2,
          144,
          159.3,
          7.9,
          8,
          6.1,
          6.1,
          10.5,
          8.7,
          1.8,
          19.1,
          18.6,
          2.8,
          8.9,
          7.5,
          15.9,
          6.5,
          15.3,
          13.7,
          11.9,
          1.4,
          15.2,
          6,
          6.1,
          8.2,
          8,
          13.6,
          22.5,
          10.4,
          10,
          6,
          6.5,
          3.1,
          1.9,
          4.2,
          4.9,
          4.8,
          12.4,
          32.8,
          5.5,
          9.9,
          10,
          14.2,
          18.2,
          7.7,
          6.8,
          2.1,
          2.3,
          6.2,
          7.5,
          3.1,
          2.2,
          3.9,
          2.5,
          8.7,
          14.5,
          4.5,
          5,
          14.2,
          2.9,
          12.9,
          14.4,
          17,
          7.9,
          8.4,
          20.5,
          9.8,
          17.6,
          9.3,
          7.9,
          25.6,
          8.1,
          3.1,
          3.1,
          2.8,
          2.7,
          1.9,
          8.4,
          7.6,
          2.9,
          11.2,
          8.2,
          3,
          2.5,
          3.6,
          3.6,
          4.5,
          1.2,
          1.7,
          4.7,
          6.1,
          11.3,
          14.9,
          14,
          1.8,
          6.7,
          9.6,
          10.4,
          9.9,
          6,
          3.3,
          3.1,
          1.7,
          4,
          7.8,
          7.8,
          3.8,
          2.5,
          9.9,
          9.9,
          3,
          2.4,
          5.7,
          7.2,
          10.4,
          9.9,
          10.4,
          9.9,
          8.7,
          22.3,
          3.3,
          0.7,
          2.5,
          0.5,
          0.9,
          4.8,
          16.3,
          10.4,
          9.9,
          3.7,
          4.6,
          1.7,
          10.4,
          9.9,
          2.5,
          4.3,
          2.8,
          8.4,
          13.2,
          3.9,
          5.1,
          5.2,
          9.8,
          11.6,
          5.1,
          9.3,
          12.4,
          1.9,
          6.4,
          5.5,
          1.5,
          14.5,
          2.7,
          15,
          12.9,
          13.6,
          12.2,
          8.7,
          6,
          5.9,
          19.3,
          16.6,
          7.1,
          2.1,
          8.6,
          9,
          3.1,
          8.4,
          12.8,
          4.5,
          11.8,
          1.1,
          17,
          1.7,
          15.5,
          1.6,
          1.5,
          12.6,
          4.8,
          2.2,
          13,
          46.9,
          2.5,
          8.6,
          5.2,
          7.6,
          1.8,
          4.7,
          2.8,
          30,
          4.4,
          1,
          8.2,
          10.4,
          9.9,
          7.3,
          7.4,
          1.6,
          1.8,
          10.4,
          9.9,
          9.9,
          9.9,
          13.3,
          11.3,
          10.5,
          9.9,
          10.1,
          9.9,
          3.1,
          3.1,
          9.9,
          9.9,
          8.8,
          8.7,
          11.8,
          1.2,
          9.9,
          0.6,
          9.9,
          8.6,
          6.3,
          9.9,
          9.9,
          3.3,
          3.1,
          7.9,
          8.9,
          12.8,
          7.7,
          7,
          12.5,
          13.2,
          13,
          4.9,
          8.5,
          1.3,
          1.8,
          13.6,
          13.4,
          12.3,
          1.4,
          8.7,
          23.5,
          2.2,
          4.4,
          3.3,
          11.8,
          195.3,
          8.3,
          3.2,
          22.4,
          12.2,
          4.5,
          28.1,
          3.8,
          41.9,
          23.8,
          13,
          4.4,
          15.1,
          180.2,
          4.1,
          6.1,
          3.3,
          4.7,
          7.2,
          5.5,
          3.3,
          0.9,
          3.8,
          6.4,
          3,
          8.7,
          3.9,
          4.8,
          2.8,
          1.4,
          1.4,
          2.7,
          2.3,
          3.7,
          2.9,
          3.8,
          5.1,
          9.1,
          8,
          9.9,
          6.1,
          12.2,
          8,
          4,
          9.5,
          3,
          6.3,
          10.4,
          9.9,
          1.5,
          4.9,
          7.9,
          1.7,
          2.2,
          2.1,
          2.5,
          2.5,
          2.8,
          14.7,
          14.6,
          2.3,
          2.2,
          2.2,
          14,
          13.3,
          1.8,
          6.2,
          1.3,
          1.9,
          6.9,
          4.6,
          2.8,
          9.1,
          8.1,
          8.4,
          4.9,
          1,
          1,
          2,
          1.1,
          1.5,
          1.3,
          1.8,
          1.5,
          6.6,
          8,
          2.7,
          2.7,
          2.5,
          2.5,
          5.2,
          4,
          2.7,
          4.8,
          3.2,
          6.9,
          14.9,
          17.4,
          12.9,
          15.3,
          1,
          6,
          2.2,
          4.4,
          2.8,
          31.7,
          31.9,
          1.9,
          1.8,
          8.4,
          15.6,
          14.1,
          15.7,
          25.9,
          7.9,
          2.7,
          5.5,
          5.7,
          1.2,
          5.7,
          16.2,
          2.6,
          12.1,
          1.4,
          6.4,
          7.3,
          5.3,
          5.5,
          7.7,
          7.6,
          7.6,
          3.3,
          6.5,
          2,
          5.7,
          3.2,
          12.5,
          7.6,
          7.7,
          12.2,
          1.4,
          20.2,
          9.8,
          6.3,
          4.9,
          1.5,
          10.9,
          19,
          19,
          7.9,
          4.1,
          18.7,
          8.7,
          7.5,
          7.7,
          4.4,
          5,
          1.9,
          7.9,
          17.7,
          25.2,
          96.2,
          35,
          5.5,
          50.4,
          9.2,
          7.3,
          5,
          3.8,
          3.9,
          7.4,
          1.5,
          7.9,
          2.9,
          3.4,
          3.8,
          5.9,
          9.6,
          7,
          0.9,
          86.6,
          156.9,
          10.1,
          6.2,
          5.3,
          12.1,
          10.8,
          4.3,
          2.5,
          5.7,
          2.8,
          4,
          5.5,
          2.6,
          2.1,
          8.8,
          4.4,
          5.3,
          13,
          13,
          10.6,
          2.2,
          9.2,
          12.9,
          17.2,
          69.1,
          2.8,
          8.6,
          9.8,
          3.6,
          1.7,
          11.5,
          0.7,
          0.7,
          0.9,
          1.6,
          9.4,
          18.2,
          10.5,
          5.7,
          18,
          18.3,
          16.5,
          9.6,
          2.9,
          8.2,
          2.4,
          5.8,
          9.8,
          7.3,
          195.6,
          20.5,
          12.6,
          37.7,
          16.7,
          10.5,
          2.8,
          1.6,
          12.7,
          28.6,
          15.1,
          17.9,
          112.6,
          18.4,
          13.8,
          33.2,
          2.6,
          5.8,
          8.3,
          2.4,
          3.1,
          6.1,
          3.6,
          8,
          7.7,
          1.7,
          9.5,
          17.1,
          18.4,
          9.8,
          1,
          0.7,
          2.3,
          10.9,
          12.7,
          12.4,
          3.8,
          17,
          6.2,
          3.1,
          10.5,
          8.1,
          3.1,
          2.1,
          4.3,
          2.5,
          20.6,
          17.6,
          5.6,
          3.3,
          5.3,
          3.3,
          3.3,
          7.9,
          13,
          3,
          3,
          3.8,
          9.5,
          1.7,
          10.8,
          4.1,
          2.2,
          4.6,
          3.1,
          47.7,
          44.6,
          13.2,
          8.7,
          17.2,
          14,
          28.1,
          28.2,
          3.1,
          3.1,
          16.4,
          15.4,
          2.2,
          11.2,
          2.2,
          3.6,
          3.6,
          4.9,
          8.7,
          2.1,
          2.1,
          8.4,
          5.9,
          12.1,
          3.9,
          6.2,
          10.4,
          9.9,
          107,
          133.6,
          91.8,
          40.7,
          75.7,
          29.8,
          16.3,
          6.5,
          6.3,
          6.6,
          15.2,
          68.4,
          195.9,
          45.2,
          3.2,
          10.3,
          13.1,
          9.6,
          16.5,
          12.8,
          1.2,
          1,
          4.1,
          4.2,
          1.4,
          1.8,
          8.5,
          5,
          3.8,
          2.5,
          2.4,
          1.4,
          1.8,
          3.1,
          3.1,
          7.9,
          3.8,
          4.3,
          3.9,
          2.2,
          2.8,
          2.2,
          2.4,
          2.8,
          43.9,
          1.8,
          3.3,
          11.8,
          13.2,
          12.2,
          11.3,
          3.6,
          3,
          11.4,
          0.9,
          6.2,
          0.7,
          5.5,
          12.7,
          2.6,
          1.1,
          12.6,
          1.2,
          1.1,
          9.9,
          6,
          0.8,
          45.9,
          4,
          2.5,
          36.6,
          2.9,
          2.6,
          2.3,
          6.4,
          1.4,
          0.6,
          5.9,
          0.8,
          1.3,
          3.7,
          2.3,
          2.6,
          1.9,
          2.1,
          4,
          0.9,
          0.9,
          2.4,
          1.9,
          1.9,
          44.6,
          43.6,
          2.5,
          3.7,
          5.1,
          9.7,
          11.8,
          2.3,
          3.1,
          16.3,
          3.1,
          5.2,
          6.1,
          10.3,
          10.5,
          1.5,
          1.8,
          5.4,
          5.4,
          39.2,
          6.4,
          2.7,
          18.5,
          2.5,
          2.1,
          6.7,
          3.5,
          3.4,
          5.5,
          4.1,
          12.7,
          3,
          3.5,
          5.9,
          1.9,
          3.3,
          1.3,
          10.3,
          11.1,
          1.4,
          5.1,
          9,
          13.3,
          2.5,
          3.3,
          2.9,
          8.5,
          6.7,
          3.1,
          5.5,
          5.5,
          2.9,
          2.9,
          5.1,
          5.3,
          3.3,
          3,
          6.6,
          1.8,
          3,
          2.9,
          3.4,
          4.1,
          3.8,
          6.6,
          4,
          7,
          6.9,
          3.4,
          3.4,
          2,
          2,
          5.1,
          8.8,
          5.6,
          18.9,
          15.6,
          15.6,
          3,
          3.1,
          3,
          4.8,
          2.1,
          3.1,
          4.4,
          4.7,
          3,
          3,
          4.2,
          4.1,
          3.4,
          3.3,
          3,
          3.1,
          10.6,
          4.8,
          5.3,
          4.9,
          10.2,
          9.2,
          7.7,
          5.9,
          0.7,
          1.3,
          2.5,
          5.3,
          5.4,
          10.2,
          7.2,
          2.2,
          11,
          12,
          3.3,
          19.4,
          1.7,
          5.7,
          1.8,
          1.4,
          10.3,
          11.5,
          4.9,
          3.5,
          16.2,
          2,
          2.1,
          2.1,
          7.2,
          12,
          103,
          32.3,
          5.3,
          11.6,
          23.2,
          3.2,
          12.3,
          14,
          2.1,
          2.1,
          3,
          6.2,
          9.6,
          1.3,
          7.1,
          6.3,
          10.7,
          5.3,
          1.6,
          3.6,
          1.7,
          2.9,
          0.6,
          0.6,
          2.3,
          2.3,
          3.2,
          6.2,
          7.7,
          3.8,
          7.9,
          4.9,
          5,
          0.6,
          3.1,
          7.9,
          5.5,
          10.3,
          10.4,
          2,
          8.5,
          4.4,
          3.8,
          5.1,
          3.8,
          11.6,
          11.9,
          1.4,
          1.1,
          4.1,
          6.1,
          1.3,
          3,
          4.1,
          7.2,
          6.4,
          12.9,
          2.8,
          2.9,
          4.6,
          4.6,
          0.8,
          0.7,
          3.9,
          16.2,
          6.4,
          48.2
         ],
         "y0": " ",
         "yaxis": "y"
        }
       ],
       "layout": {
        "boxmode": "group",
        "legend": {
         "tracegroupgap": 0
        },
        "template": {
         "data": {
          "bar": [
           {
            "error_x": {
             "color": "#2a3f5f"
            },
            "error_y": {
             "color": "#2a3f5f"
            },
            "marker": {
             "line": {
              "color": "#E5ECF6",
              "width": 0.5
             },
             "pattern": {
              "fillmode": "overlay",
              "size": 10,
              "solidity": 0.2
             }
            },
            "type": "bar"
           }
          ],
          "barpolar": [
           {
            "marker": {
             "line": {
              "color": "#E5ECF6",
              "width": 0.5
             },
             "pattern": {
              "fillmode": "overlay",
              "size": 10,
              "solidity": 0.2
             }
            },
            "type": "barpolar"
           }
          ],
          "carpet": [
           {
            "aaxis": {
             "endlinecolor": "#2a3f5f",
             "gridcolor": "white",
             "linecolor": "white",
             "minorgridcolor": "white",
             "startlinecolor": "#2a3f5f"
            },
            "baxis": {
             "endlinecolor": "#2a3f5f",
             "gridcolor": "white",
             "linecolor": "white",
             "minorgridcolor": "white",
             "startlinecolor": "#2a3f5f"
            },
            "type": "carpet"
           }
          ],
          "choropleth": [
           {
            "colorbar": {
             "outlinewidth": 0,
             "ticks": ""
            },
            "type": "choropleth"
           }
          ],
          "contour": [
           {
            "colorbar": {
             "outlinewidth": 0,
             "ticks": ""
            },
            "colorscale": [
             [
              0,
              "#0d0887"
             ],
             [
              0.1111111111111111,
              "#46039f"
             ],
             [
              0.2222222222222222,
              "#7201a8"
             ],
             [
              0.3333333333333333,
              "#9c179e"
             ],
             [
              0.4444444444444444,
              "#bd3786"
             ],
             [
              0.5555555555555556,
              "#d8576b"
             ],
             [
              0.6666666666666666,
              "#ed7953"
             ],
             [
              0.7777777777777778,
              "#fb9f3a"
             ],
             [
              0.8888888888888888,
              "#fdca26"
             ],
             [
              1,
              "#f0f921"
             ]
            ],
            "type": "contour"
           }
          ],
          "contourcarpet": [
           {
            "colorbar": {
             "outlinewidth": 0,
             "ticks": ""
            },
            "type": "contourcarpet"
           }
          ],
          "heatmap": [
           {
            "colorbar": {
             "outlinewidth": 0,
             "ticks": ""
            },
            "colorscale": [
             [
              0,
              "#0d0887"
             ],
             [
              0.1111111111111111,
              "#46039f"
             ],
             [
              0.2222222222222222,
              "#7201a8"
             ],
             [
              0.3333333333333333,
              "#9c179e"
             ],
             [
              0.4444444444444444,
              "#bd3786"
             ],
             [
              0.5555555555555556,
              "#d8576b"
             ],
             [
              0.6666666666666666,
              "#ed7953"
             ],
             [
              0.7777777777777778,
              "#fb9f3a"
             ],
             [
              0.8888888888888888,
              "#fdca26"
             ],
             [
              1,
              "#f0f921"
             ]
            ],
            "type": "heatmap"
           }
          ],
          "heatmapgl": [
           {
            "colorbar": {
             "outlinewidth": 0,
             "ticks": ""
            },
            "colorscale": [
             [
              0,
              "#0d0887"
             ],
             [
              0.1111111111111111,
              "#46039f"
             ],
             [
              0.2222222222222222,
              "#7201a8"
             ],
             [
              0.3333333333333333,
              "#9c179e"
             ],
             [
              0.4444444444444444,
              "#bd3786"
             ],
             [
              0.5555555555555556,
              "#d8576b"
             ],
             [
              0.6666666666666666,
              "#ed7953"
             ],
             [
              0.7777777777777778,
              "#fb9f3a"
             ],
             [
              0.8888888888888888,
              "#fdca26"
             ],
             [
              1,
              "#f0f921"
             ]
            ],
            "type": "heatmapgl"
           }
          ],
          "histogram": [
           {
            "marker": {
             "pattern": {
              "fillmode": "overlay",
              "size": 10,
              "solidity": 0.2
             }
            },
            "type": "histogram"
           }
          ],
          "histogram2d": [
           {
            "colorbar": {
             "outlinewidth": 0,
             "ticks": ""
            },
            "colorscale": [
             [
              0,
              "#0d0887"
             ],
             [
              0.1111111111111111,
              "#46039f"
             ],
             [
              0.2222222222222222,
              "#7201a8"
             ],
             [
              0.3333333333333333,
              "#9c179e"
             ],
             [
              0.4444444444444444,
              "#bd3786"
             ],
             [
              0.5555555555555556,
              "#d8576b"
             ],
             [
              0.6666666666666666,
              "#ed7953"
             ],
             [
              0.7777777777777778,
              "#fb9f3a"
             ],
             [
              0.8888888888888888,
              "#fdca26"
             ],
             [
              1,
              "#f0f921"
             ]
            ],
            "type": "histogram2d"
           }
          ],
          "histogram2dcontour": [
           {
            "colorbar": {
             "outlinewidth": 0,
             "ticks": ""
            },
            "colorscale": [
             [
              0,
              "#0d0887"
             ],
             [
              0.1111111111111111,
              "#46039f"
             ],
             [
              0.2222222222222222,
              "#7201a8"
             ],
             [
              0.3333333333333333,
              "#9c179e"
             ],
             [
              0.4444444444444444,
              "#bd3786"
             ],
             [
              0.5555555555555556,
              "#d8576b"
             ],
             [
              0.6666666666666666,
              "#ed7953"
             ],
             [
              0.7777777777777778,
              "#fb9f3a"
             ],
             [
              0.8888888888888888,
              "#fdca26"
             ],
             [
              1,
              "#f0f921"
             ]
            ],
            "type": "histogram2dcontour"
           }
          ],
          "mesh3d": [
           {
            "colorbar": {
             "outlinewidth": 0,
             "ticks": ""
            },
            "type": "mesh3d"
           }
          ],
          "parcoords": [
           {
            "line": {
             "colorbar": {
              "outlinewidth": 0,
              "ticks": ""
             }
            },
            "type": "parcoords"
           }
          ],
          "pie": [
           {
            "automargin": true,
            "type": "pie"
           }
          ],
          "scatter": [
           {
            "fillpattern": {
             "fillmode": "overlay",
             "size": 10,
             "solidity": 0.2
            },
            "type": "scatter"
           }
          ],
          "scatter3d": [
           {
            "line": {
             "colorbar": {
              "outlinewidth": 0,
              "ticks": ""
             }
            },
            "marker": {
             "colorbar": {
              "outlinewidth": 0,
              "ticks": ""
             }
            },
            "type": "scatter3d"
           }
          ],
          "scattercarpet": [
           {
            "marker": {
             "colorbar": {
              "outlinewidth": 0,
              "ticks": ""
             }
            },
            "type": "scattercarpet"
           }
          ],
          "scattergeo": [
           {
            "marker": {
             "colorbar": {
              "outlinewidth": 0,
              "ticks": ""
             }
            },
            "type": "scattergeo"
           }
          ],
          "scattergl": [
           {
            "marker": {
             "colorbar": {
              "outlinewidth": 0,
              "ticks": ""
             }
            },
            "type": "scattergl"
           }
          ],
          "scattermapbox": [
           {
            "marker": {
             "colorbar": {
              "outlinewidth": 0,
              "ticks": ""
             }
            },
            "type": "scattermapbox"
           }
          ],
          "scatterpolar": [
           {
            "marker": {
             "colorbar": {
              "outlinewidth": 0,
              "ticks": ""
             }
            },
            "type": "scatterpolar"
           }
          ],
          "scatterpolargl": [
           {
            "marker": {
             "colorbar": {
              "outlinewidth": 0,
              "ticks": ""
             }
            },
            "type": "scatterpolargl"
           }
          ],
          "scatterternary": [
           {
            "marker": {
             "colorbar": {
              "outlinewidth": 0,
              "ticks": ""
             }
            },
            "type": "scatterternary"
           }
          ],
          "surface": [
           {
            "colorbar": {
             "outlinewidth": 0,
             "ticks": ""
            },
            "colorscale": [
             [
              0,
              "#0d0887"
             ],
             [
              0.1111111111111111,
              "#46039f"
             ],
             [
              0.2222222222222222,
              "#7201a8"
             ],
             [
              0.3333333333333333,
              "#9c179e"
             ],
             [
              0.4444444444444444,
              "#bd3786"
             ],
             [
              0.5555555555555556,
              "#d8576b"
             ],
             [
              0.6666666666666666,
              "#ed7953"
             ],
             [
              0.7777777777777778,
              "#fb9f3a"
             ],
             [
              0.8888888888888888,
              "#fdca26"
             ],
             [
              1,
              "#f0f921"
             ]
            ],
            "type": "surface"
           }
          ],
          "table": [
           {
            "cells": {
             "fill": {
              "color": "#EBF0F8"
             },
             "line": {
              "color": "white"
             }
            },
            "header": {
             "fill": {
              "color": "#C8D4E3"
             },
             "line": {
              "color": "white"
             }
            },
            "type": "table"
           }
          ]
         },
         "layout": {
          "annotationdefaults": {
           "arrowcolor": "#2a3f5f",
           "arrowhead": 0,
           "arrowwidth": 1
          },
          "autotypenumbers": "strict",
          "coloraxis": {
           "colorbar": {
            "outlinewidth": 0,
            "ticks": ""
           }
          },
          "colorscale": {
           "diverging": [
            [
             0,
             "#8e0152"
            ],
            [
             0.1,
             "#c51b7d"
            ],
            [
             0.2,
             "#de77ae"
            ],
            [
             0.3,
             "#f1b6da"
            ],
            [
             0.4,
             "#fde0ef"
            ],
            [
             0.5,
             "#f7f7f7"
            ],
            [
             0.6,
             "#e6f5d0"
            ],
            [
             0.7,
             "#b8e186"
            ],
            [
             0.8,
             "#7fbc41"
            ],
            [
             0.9,
             "#4d9221"
            ],
            [
             1,
             "#276419"
            ]
           ],
           "sequential": [
            [
             0,
             "#0d0887"
            ],
            [
             0.1111111111111111,
             "#46039f"
            ],
            [
             0.2222222222222222,
             "#7201a8"
            ],
            [
             0.3333333333333333,
             "#9c179e"
            ],
            [
             0.4444444444444444,
             "#bd3786"
            ],
            [
             0.5555555555555556,
             "#d8576b"
            ],
            [
             0.6666666666666666,
             "#ed7953"
            ],
            [
             0.7777777777777778,
             "#fb9f3a"
            ],
            [
             0.8888888888888888,
             "#fdca26"
            ],
            [
             1,
             "#f0f921"
            ]
           ],
           "sequentialminus": [
            [
             0,
             "#0d0887"
            ],
            [
             0.1111111111111111,
             "#46039f"
            ],
            [
             0.2222222222222222,
             "#7201a8"
            ],
            [
             0.3333333333333333,
             "#9c179e"
            ],
            [
             0.4444444444444444,
             "#bd3786"
            ],
            [
             0.5555555555555556,
             "#d8576b"
            ],
            [
             0.6666666666666666,
             "#ed7953"
            ],
            [
             0.7777777777777778,
             "#fb9f3a"
            ],
            [
             0.8888888888888888,
             "#fdca26"
            ],
            [
             1,
             "#f0f921"
            ]
           ]
          },
          "colorway": [
           "#636efa",
           "#EF553B",
           "#00cc96",
           "#ab63fa",
           "#FFA15A",
           "#19d3f3",
           "#FF6692",
           "#B6E880",
           "#FF97FF",
           "#FECB52"
          ],
          "font": {
           "color": "#2a3f5f"
          },
          "geo": {
           "bgcolor": "white",
           "lakecolor": "white",
           "landcolor": "#E5ECF6",
           "showlakes": true,
           "showland": true,
           "subunitcolor": "white"
          },
          "hoverlabel": {
           "align": "left"
          },
          "hovermode": "closest",
          "mapbox": {
           "style": "light"
          },
          "paper_bgcolor": "white",
          "plot_bgcolor": "#E5ECF6",
          "polar": {
           "angularaxis": {
            "gridcolor": "white",
            "linecolor": "white",
            "ticks": ""
           },
           "bgcolor": "#E5ECF6",
           "radialaxis": {
            "gridcolor": "white",
            "linecolor": "white",
            "ticks": ""
           }
          },
          "scene": {
           "xaxis": {
            "backgroundcolor": "#E5ECF6",
            "gridcolor": "white",
            "gridwidth": 2,
            "linecolor": "white",
            "showbackground": true,
            "ticks": "",
            "zerolinecolor": "white"
           },
           "yaxis": {
            "backgroundcolor": "#E5ECF6",
            "gridcolor": "white",
            "gridwidth": 2,
            "linecolor": "white",
            "showbackground": true,
            "ticks": "",
            "zerolinecolor": "white"
           },
           "zaxis": {
            "backgroundcolor": "#E5ECF6",
            "gridcolor": "white",
            "gridwidth": 2,
            "linecolor": "white",
            "showbackground": true,
            "ticks": "",
            "zerolinecolor": "white"
           }
          },
          "shapedefaults": {
           "line": {
            "color": "#2a3f5f"
           }
          },
          "ternary": {
           "aaxis": {
            "gridcolor": "white",
            "linecolor": "white",
            "ticks": ""
           },
           "baxis": {
            "gridcolor": "white",
            "linecolor": "white",
            "ticks": ""
           },
           "bgcolor": "#E5ECF6",
           "caxis": {
            "gridcolor": "white",
            "linecolor": "white",
            "ticks": ""
           }
          },
          "title": {
           "x": 0.05
          },
          "xaxis": {
           "automargin": true,
           "gridcolor": "white",
           "linecolor": "white",
           "ticks": "",
           "title": {
            "standoff": 15
           },
           "zerolinecolor": "white",
           "zerolinewidth": 2
          },
          "yaxis": {
           "automargin": true,
           "gridcolor": "white",
           "linecolor": "white",
           "ticks": "",
           "title": {
            "standoff": 15
           },
           "zerolinecolor": "white",
           "zerolinewidth": 2
          }
         }
        },
        "title": {
         "text": "Box Plot of MILES Column"
        },
        "xaxis": {
         "anchor": "y",
         "domain": [
          0,
          1
         ]
        },
        "yaxis": {
         "anchor": "x",
         "domain": [
          0,
          1
         ],
         "title": {
          "text": "MILES"
         }
        }
       }
      },
      "text/html": [
       "<div>                            <div id=\"fc4d8d46-47b4-44e7-a933-9735e76ca667\" class=\"plotly-graph-div\" style=\"height:525px; width:100%;\"></div>            <script type=\"text/javascript\">                require([\"plotly\"], function(Plotly) {                    window.PLOTLYENV=window.PLOTLYENV || {};                                    if (document.getElementById(\"fc4d8d46-47b4-44e7-a933-9735e76ca667\")) {                    Plotly.newPlot(                        \"fc4d8d46-47b4-44e7-a933-9735e76ca667\",                        [{\"alignmentgroup\":\"True\",\"hovertemplate\":\"MILES=%{y}<extra></extra>\",\"legendgroup\":\"\",\"marker\":{\"color\":\"#636efa\"},\"name\":\"\",\"notched\":false,\"offsetgroup\":\"\",\"orientation\":\"v\",\"showlegend\":false,\"x0\":\" \",\"xaxis\":\"x\",\"y\":[5.1,5.0,4.8,4.7,63.7,4.3,7.1,0.8,8.3,16.5,10.8,7.5,6.2,6.4,1.6,1.7,1.9,1.9,4.0,1.8,2.4,2.0,15.1,11.2,11.8,21.9,3.9,8.0,10.4,10.4,4.8,4.7,7.2,7.6,17.1,15.1,40.2,1.6,2.4,1.0,2.0,2.3,1.9,1.4,0.5,1.8,18.7,3.4,2.7,12.9,19.0,14.7,15.7,4.6,5.2,10.4,10.1,5.8,5.5,5.7,5.7,19.4,23.3,3.9,8.3,6.0,1.6,5.2,9.7,1.6,1.1,1.6,9.0,7.7,10.4,10.4,11.4,9.0,3.2,5.6,5.7,6.1,6.1,4.3,2.7,5.3,3.0,5.1,1.5,6.1,6.1,17.3,5.7,13.5,6.1,8.5,2.6,17.0,18.0,8.4,11.5,8.9,2.7,1.8,8.1,2.0,13.0,13.9,43.7,14.1,2.6,4.5,1.7,1.8,6.0,1.1,3.6,14.7,1.7,21.4,0.5,23.5,12.7,6.0,5.2,10.0,18.3,11.2,7.6,1.5,1.0,7.3,3.5,4.2,13.6,2.5,14.4,3.0,1.5,18.4,23.1,16.5,3.2,7.7,14.5,2.4,4.6,8.8,8.3,22.7,13.0,8.1,2.2,9.7,20.0,8.1,1.5,1.7,3.1,3.2,6.0,5.8,6.3,1.7,10.6,9.9,1.9,4.2,2.0,7.7,6.8,2.1,3.8,5.6,2.6,6.6,8.0,8.0,2.2,2.3,5.2,7.6,17.3,9.9,9.9,10.4,10.9,15.7,4.9,0.8,13.5,1.9,2.0,6.5,4.2,3.5,7.8,7.8,3.9,2.8,12.4,5.9,9.4,11.9,7.2,7.6,1.6,8.4,12.8,2.3,1.6,2.0,0.8,1.2,1.0,2.1,2.2,1.9,5.7,8.4,6.2,10.5,7.2,12.5,2.0,2.7,2.0,2.8,1.7,2.0,2.1,1.7,136.0,30.2,15.5,4.9,12.6,10.4,1.1,1.1,13.2,1.0,9.2,9.4,12.0,35.1,36.5,3.1,2.1,1.2,7.5,57.0,5.9,6.2,10.4,1.2,9.6,1.0,0.9,8.8,25.6,23.0,8.1,1.4,1.7,1.6,2.0,2.2,144.0,310.3,201.0,6.7,8.8,1.2,2.1,6.6,6.1,6.9,7.3,3.6,27.2,25.7,13.6,6.2,6.0,13.8,28.8,16.1,16.4,11.0,15.5,20.3,0.7,5.5,5.1,77.3,80.5,174.2,144.0,159.3,7.9,8.0,6.1,6.1,10.5,8.7,1.8,19.1,18.6,2.8,8.9,7.5,15.9,6.5,15.3,13.7,11.9,1.4,15.2,6.0,6.1,8.2,8.0,13.6,22.5,10.4,10.0,6.0,6.5,3.1,1.9,4.2,4.9,4.8,12.4,32.8,5.5,9.9,10.0,14.2,18.2,7.7,6.8,2.1,2.3,6.2,7.5,3.1,2.2,3.9,2.5,8.7,14.5,4.5,5.0,14.2,2.9,12.9,14.4,17.0,7.9,8.4,20.5,9.8,17.6,9.3,7.9,25.6,8.1,3.1,3.1,2.8,2.7,1.9,8.4,7.6,2.9,11.2,8.2,3.0,2.5,3.6,3.6,4.5,1.2,1.7,4.7,6.1,11.3,14.9,14.0,1.8,6.7,9.6,10.4,9.9,6.0,3.3,3.1,1.7,4.0,7.8,7.8,3.8,2.5,9.9,9.9,3.0,2.4,5.7,7.2,10.4,9.9,10.4,9.9,8.7,22.3,3.3,0.7,2.5,0.5,0.9,4.8,16.3,10.4,9.9,3.7,4.6,1.7,10.4,9.9,2.5,4.3,2.8,8.4,13.2,3.9,5.1,5.2,9.8,11.6,5.1,9.3,12.4,1.9,6.4,5.5,1.5,14.5,2.7,15.0,12.9,13.6,12.2,8.7,6.0,5.9,19.3,16.6,7.1,2.1,8.6,9.0,3.1,8.4,12.8,4.5,11.8,1.1,17.0,1.7,15.5,1.6,1.5,12.6,4.8,2.2,13.0,46.9,2.5,8.6,5.2,7.6,1.8,4.7,2.8,30.0,4.4,1.0,8.2,10.4,9.9,7.3,7.4,1.6,1.8,10.4,9.9,9.9,9.9,13.3,11.3,10.5,9.9,10.1,9.9,3.1,3.1,9.9,9.9,8.8,8.7,11.8,1.2,9.9,0.6,9.9,8.6,6.3,9.9,9.9,3.3,3.1,7.9,8.9,12.8,7.7,7.0,12.5,13.2,13.0,4.9,8.5,1.3,1.8,13.6,13.4,12.3,1.4,8.7,23.5,2.2,4.4,3.3,11.8,195.3,8.3,3.2,22.4,12.2,4.5,28.1,3.8,41.9,23.8,13.0,4.4,15.1,180.2,4.1,6.1,3.3,4.7,7.2,5.5,3.3,0.9,3.8,6.4,3.0,8.7,3.9,4.8,2.8,1.4,1.4,2.7,2.3,3.7,2.9,3.8,5.1,9.1,8.0,9.9,6.1,12.2,8.0,4.0,9.5,3.0,6.3,10.4,9.9,1.5,4.9,7.9,1.7,2.2,2.1,2.5,2.5,2.8,14.7,14.6,2.3,2.2,2.2,14.0,13.3,1.8,6.2,1.3,1.9,6.9,4.6,2.8,9.1,8.1,8.4,4.9,1.0,1.0,2.0,1.1,1.5,1.3,1.8,1.5,6.6,8.0,2.7,2.7,2.5,2.5,5.2,4.0,2.7,4.8,3.2,6.9,14.9,17.4,12.9,15.3,1.0,6.0,2.2,4.4,2.8,31.7,31.9,1.9,1.8,8.4,15.6,14.1,15.7,25.9,7.9,2.7,5.5,5.7,1.2,5.7,16.2,2.6,12.1,1.4,6.4,7.3,5.3,5.5,7.7,7.6,7.6,3.3,6.5,2.0,5.7,3.2,12.5,7.6,7.7,12.2,1.4,20.2,9.8,6.3,4.9,1.5,10.9,19.0,19.0,7.9,4.1,18.7,8.7,7.5,7.7,4.4,5.0,1.9,7.9,17.7,25.2,96.2,35.0,5.5,50.4,9.2,7.3,5.0,3.8,3.9,7.4,1.5,7.9,2.9,3.4,3.8,5.9,9.6,7.0,0.9,86.6,156.9,10.1,6.2,5.3,12.1,10.8,4.3,2.5,5.7,2.8,4.0,5.5,2.6,2.1,8.8,4.4,5.3,13.0,13.0,10.6,2.2,9.2,12.9,17.2,69.1,2.8,8.6,9.8,3.6,1.7,11.5,0.7,0.7,0.9,1.6,9.4,18.2,10.5,5.7,18.0,18.3,16.5,9.6,2.9,8.2,2.4,5.8,9.8,7.3,195.6,20.5,12.6,37.7,16.7,10.5,2.8,1.6,12.7,28.6,15.1,17.9,112.6,18.4,13.8,33.2,2.6,5.8,8.3,2.4,3.1,6.1,3.6,8.0,7.7,1.7,9.5,17.1,18.4,9.8,1.0,0.7,2.3,10.9,12.7,12.4,3.8,17.0,6.2,3.1,10.5,8.1,3.1,2.1,4.3,2.5,20.6,17.6,5.6,3.3,5.3,3.3,3.3,7.9,13.0,3.0,3.0,3.8,9.5,1.7,10.8,4.1,2.2,4.6,3.1,47.7,44.6,13.2,8.7,17.2,14.0,28.1,28.2,3.1,3.1,16.4,15.4,2.2,11.2,2.2,3.6,3.6,4.9,8.7,2.1,2.1,8.4,5.9,12.1,3.9,6.2,10.4,9.9,107.0,133.6,91.8,40.7,75.7,29.8,16.3,6.5,6.3,6.6,15.2,68.4,195.9,45.2,3.2,10.3,13.1,9.6,16.5,12.8,1.2,1.0,4.1,4.2,1.4,1.8,8.5,5.0,3.8,2.5,2.4,1.4,1.8,3.1,3.1,7.9,3.8,4.3,3.9,2.2,2.8,2.2,2.4,2.8,43.9,1.8,3.3,11.8,13.2,12.2,11.3,3.6,3.0,11.4,0.9,6.2,0.7,5.5,12.7,2.6,1.1,12.6,1.2,1.1,9.9,6.0,0.8,45.9,4.0,2.5,36.6,2.9,2.6,2.3,6.4,1.4,0.6,5.9,0.8,1.3,3.7,2.3,2.6,1.9,2.1,4.0,0.9,0.9,2.4,1.9,1.9,44.6,43.6,2.5,3.7,5.1,9.7,11.8,2.3,3.1,16.3,3.1,5.2,6.1,10.3,10.5,1.5,1.8,5.4,5.4,39.2,6.4,2.7,18.5,2.5,2.1,6.7,3.5,3.4,5.5,4.1,12.7,3.0,3.5,5.9,1.9,3.3,1.3,10.3,11.1,1.4,5.1,9.0,13.3,2.5,3.3,2.9,8.5,6.7,3.1,5.5,5.5,2.9,2.9,5.1,5.3,3.3,3.0,6.6,1.8,3.0,2.9,3.4,4.1,3.8,6.6,4.0,7.0,6.9,3.4,3.4,2.0,2.0,5.1,8.8,5.6,18.9,15.6,15.6,3.0,3.1,3.0,4.8,2.1,3.1,4.4,4.7,3.0,3.0,4.2,4.1,3.4,3.3,3.0,3.1,10.6,4.8,5.3,4.9,10.2,9.2,7.7,5.9,0.7,1.3,2.5,5.3,5.4,10.2,7.2,2.2,11.0,12.0,3.3,19.4,1.7,5.7,1.8,1.4,10.3,11.5,4.9,3.5,16.2,2.0,2.1,2.1,7.2,12.0,103.0,32.3,5.3,11.6,23.2,3.2,12.3,14.0,2.1,2.1,3.0,6.2,9.6,1.3,7.1,6.3,10.7,5.3,1.6,3.6,1.7,2.9,0.6,0.6,2.3,2.3,3.2,6.2,7.7,3.8,7.9,4.9,5.0,0.6,3.1,7.9,5.5,10.3,10.4,2.0,8.5,4.4,3.8,5.1,3.8,11.6,11.9,1.4,1.1,4.1,6.1,1.3,3.0,4.1,7.2,6.4,12.9,2.8,2.9,4.6,4.6,0.8,0.7,3.9,16.2,6.4,48.2],\"y0\":\" \",\"yaxis\":\"y\",\"type\":\"box\"}],                        {\"template\":{\"data\":{\"histogram2dcontour\":[{\"type\":\"histogram2dcontour\",\"colorbar\":{\"outlinewidth\":0,\"ticks\":\"\"},\"colorscale\":[[0.0,\"#0d0887\"],[0.1111111111111111,\"#46039f\"],[0.2222222222222222,\"#7201a8\"],[0.3333333333333333,\"#9c179e\"],[0.4444444444444444,\"#bd3786\"],[0.5555555555555556,\"#d8576b\"],[0.6666666666666666,\"#ed7953\"],[0.7777777777777778,\"#fb9f3a\"],[0.8888888888888888,\"#fdca26\"],[1.0,\"#f0f921\"]]}],\"choropleth\":[{\"type\":\"choropleth\",\"colorbar\":{\"outlinewidth\":0,\"ticks\":\"\"}}],\"histogram2d\":[{\"type\":\"histogram2d\",\"colorbar\":{\"outlinewidth\":0,\"ticks\":\"\"},\"colorscale\":[[0.0,\"#0d0887\"],[0.1111111111111111,\"#46039f\"],[0.2222222222222222,\"#7201a8\"],[0.3333333333333333,\"#9c179e\"],[0.4444444444444444,\"#bd3786\"],[0.5555555555555556,\"#d8576b\"],[0.6666666666666666,\"#ed7953\"],[0.7777777777777778,\"#fb9f3a\"],[0.8888888888888888,\"#fdca26\"],[1.0,\"#f0f921\"]]}],\"heatmap\":[{\"type\":\"heatmap\",\"colorbar\":{\"outlinewidth\":0,\"ticks\":\"\"},\"colorscale\":[[0.0,\"#0d0887\"],[0.1111111111111111,\"#46039f\"],[0.2222222222222222,\"#7201a8\"],[0.3333333333333333,\"#9c179e\"],[0.4444444444444444,\"#bd3786\"],[0.5555555555555556,\"#d8576b\"],[0.6666666666666666,\"#ed7953\"],[0.7777777777777778,\"#fb9f3a\"],[0.8888888888888888,\"#fdca26\"],[1.0,\"#f0f921\"]]}],\"heatmapgl\":[{\"type\":\"heatmapgl\",\"colorbar\":{\"outlinewidth\":0,\"ticks\":\"\"},\"colorscale\":[[0.0,\"#0d0887\"],[0.1111111111111111,\"#46039f\"],[0.2222222222222222,\"#7201a8\"],[0.3333333333333333,\"#9c179e\"],[0.4444444444444444,\"#bd3786\"],[0.5555555555555556,\"#d8576b\"],[0.6666666666666666,\"#ed7953\"],[0.7777777777777778,\"#fb9f3a\"],[0.8888888888888888,\"#fdca26\"],[1.0,\"#f0f921\"]]}],\"contourcarpet\":[{\"type\":\"contourcarpet\",\"colorbar\":{\"outlinewidth\":0,\"ticks\":\"\"}}],\"contour\":[{\"type\":\"contour\",\"colorbar\":{\"outlinewidth\":0,\"ticks\":\"\"},\"colorscale\":[[0.0,\"#0d0887\"],[0.1111111111111111,\"#46039f\"],[0.2222222222222222,\"#7201a8\"],[0.3333333333333333,\"#9c179e\"],[0.4444444444444444,\"#bd3786\"],[0.5555555555555556,\"#d8576b\"],[0.6666666666666666,\"#ed7953\"],[0.7777777777777778,\"#fb9f3a\"],[0.8888888888888888,\"#fdca26\"],[1.0,\"#f0f921\"]]}],\"surface\":[{\"type\":\"surface\",\"colorbar\":{\"outlinewidth\":0,\"ticks\":\"\"},\"colorscale\":[[0.0,\"#0d0887\"],[0.1111111111111111,\"#46039f\"],[0.2222222222222222,\"#7201a8\"],[0.3333333333333333,\"#9c179e\"],[0.4444444444444444,\"#bd3786\"],[0.5555555555555556,\"#d8576b\"],[0.6666666666666666,\"#ed7953\"],[0.7777777777777778,\"#fb9f3a\"],[0.8888888888888888,\"#fdca26\"],[1.0,\"#f0f921\"]]}],\"mesh3d\":[{\"type\":\"mesh3d\",\"colorbar\":{\"outlinewidth\":0,\"ticks\":\"\"}}],\"scatter\":[{\"fillpattern\":{\"fillmode\":\"overlay\",\"size\":10,\"solidity\":0.2},\"type\":\"scatter\"}],\"parcoords\":[{\"type\":\"parcoords\",\"line\":{\"colorbar\":{\"outlinewidth\":0,\"ticks\":\"\"}}}],\"scatterpolargl\":[{\"type\":\"scatterpolargl\",\"marker\":{\"colorbar\":{\"outlinewidth\":0,\"ticks\":\"\"}}}],\"bar\":[{\"error_x\":{\"color\":\"#2a3f5f\"},\"error_y\":{\"color\":\"#2a3f5f\"},\"marker\":{\"line\":{\"color\":\"#E5ECF6\",\"width\":0.5},\"pattern\":{\"fillmode\":\"overlay\",\"size\":10,\"solidity\":0.2}},\"type\":\"bar\"}],\"scattergeo\":[{\"type\":\"scattergeo\",\"marker\":{\"colorbar\":{\"outlinewidth\":0,\"ticks\":\"\"}}}],\"scatterpolar\":[{\"type\":\"scatterpolar\",\"marker\":{\"colorbar\":{\"outlinewidth\":0,\"ticks\":\"\"}}}],\"histogram\":[{\"marker\":{\"pattern\":{\"fillmode\":\"overlay\",\"size\":10,\"solidity\":0.2}},\"type\":\"histogram\"}],\"scattergl\":[{\"type\":\"scattergl\",\"marker\":{\"colorbar\":{\"outlinewidth\":0,\"ticks\":\"\"}}}],\"scatter3d\":[{\"type\":\"scatter3d\",\"line\":{\"colorbar\":{\"outlinewidth\":0,\"ticks\":\"\"}},\"marker\":{\"colorbar\":{\"outlinewidth\":0,\"ticks\":\"\"}}}],\"scattermapbox\":[{\"type\":\"scattermapbox\",\"marker\":{\"colorbar\":{\"outlinewidth\":0,\"ticks\":\"\"}}}],\"scatterternary\":[{\"type\":\"scatterternary\",\"marker\":{\"colorbar\":{\"outlinewidth\":0,\"ticks\":\"\"}}}],\"scattercarpet\":[{\"type\":\"scattercarpet\",\"marker\":{\"colorbar\":{\"outlinewidth\":0,\"ticks\":\"\"}}}],\"carpet\":[{\"aaxis\":{\"endlinecolor\":\"#2a3f5f\",\"gridcolor\":\"white\",\"linecolor\":\"white\",\"minorgridcolor\":\"white\",\"startlinecolor\":\"#2a3f5f\"},\"baxis\":{\"endlinecolor\":\"#2a3f5f\",\"gridcolor\":\"white\",\"linecolor\":\"white\",\"minorgridcolor\":\"white\",\"startlinecolor\":\"#2a3f5f\"},\"type\":\"carpet\"}],\"table\":[{\"cells\":{\"fill\":{\"color\":\"#EBF0F8\"},\"line\":{\"color\":\"white\"}},\"header\":{\"fill\":{\"color\":\"#C8D4E3\"},\"line\":{\"color\":\"white\"}},\"type\":\"table\"}],\"barpolar\":[{\"marker\":{\"line\":{\"color\":\"#E5ECF6\",\"width\":0.5},\"pattern\":{\"fillmode\":\"overlay\",\"size\":10,\"solidity\":0.2}},\"type\":\"barpolar\"}],\"pie\":[{\"automargin\":true,\"type\":\"pie\"}]},\"layout\":{\"autotypenumbers\":\"strict\",\"colorway\":[\"#636efa\",\"#EF553B\",\"#00cc96\",\"#ab63fa\",\"#FFA15A\",\"#19d3f3\",\"#FF6692\",\"#B6E880\",\"#FF97FF\",\"#FECB52\"],\"font\":{\"color\":\"#2a3f5f\"},\"hovermode\":\"closest\",\"hoverlabel\":{\"align\":\"left\"},\"paper_bgcolor\":\"white\",\"plot_bgcolor\":\"#E5ECF6\",\"polar\":{\"bgcolor\":\"#E5ECF6\",\"angularaxis\":{\"gridcolor\":\"white\",\"linecolor\":\"white\",\"ticks\":\"\"},\"radialaxis\":{\"gridcolor\":\"white\",\"linecolor\":\"white\",\"ticks\":\"\"}},\"ternary\":{\"bgcolor\":\"#E5ECF6\",\"aaxis\":{\"gridcolor\":\"white\",\"linecolor\":\"white\",\"ticks\":\"\"},\"baxis\":{\"gridcolor\":\"white\",\"linecolor\":\"white\",\"ticks\":\"\"},\"caxis\":{\"gridcolor\":\"white\",\"linecolor\":\"white\",\"ticks\":\"\"}},\"coloraxis\":{\"colorbar\":{\"outlinewidth\":0,\"ticks\":\"\"}},\"colorscale\":{\"sequential\":[[0.0,\"#0d0887\"],[0.1111111111111111,\"#46039f\"],[0.2222222222222222,\"#7201a8\"],[0.3333333333333333,\"#9c179e\"],[0.4444444444444444,\"#bd3786\"],[0.5555555555555556,\"#d8576b\"],[0.6666666666666666,\"#ed7953\"],[0.7777777777777778,\"#fb9f3a\"],[0.8888888888888888,\"#fdca26\"],[1.0,\"#f0f921\"]],\"sequentialminus\":[[0.0,\"#0d0887\"],[0.1111111111111111,\"#46039f\"],[0.2222222222222222,\"#7201a8\"],[0.3333333333333333,\"#9c179e\"],[0.4444444444444444,\"#bd3786\"],[0.5555555555555556,\"#d8576b\"],[0.6666666666666666,\"#ed7953\"],[0.7777777777777778,\"#fb9f3a\"],[0.8888888888888888,\"#fdca26\"],[1.0,\"#f0f921\"]],\"diverging\":[[0,\"#8e0152\"],[0.1,\"#c51b7d\"],[0.2,\"#de77ae\"],[0.3,\"#f1b6da\"],[0.4,\"#fde0ef\"],[0.5,\"#f7f7f7\"],[0.6,\"#e6f5d0\"],[0.7,\"#b8e186\"],[0.8,\"#7fbc41\"],[0.9,\"#4d9221\"],[1,\"#276419\"]]},\"xaxis\":{\"gridcolor\":\"white\",\"linecolor\":\"white\",\"ticks\":\"\",\"title\":{\"standoff\":15},\"zerolinecolor\":\"white\",\"automargin\":true,\"zerolinewidth\":2},\"yaxis\":{\"gridcolor\":\"white\",\"linecolor\":\"white\",\"ticks\":\"\",\"title\":{\"standoff\":15},\"zerolinecolor\":\"white\",\"automargin\":true,\"zerolinewidth\":2},\"scene\":{\"xaxis\":{\"backgroundcolor\":\"#E5ECF6\",\"gridcolor\":\"white\",\"linecolor\":\"white\",\"showbackground\":true,\"ticks\":\"\",\"zerolinecolor\":\"white\",\"gridwidth\":2},\"yaxis\":{\"backgroundcolor\":\"#E5ECF6\",\"gridcolor\":\"white\",\"linecolor\":\"white\",\"showbackground\":true,\"ticks\":\"\",\"zerolinecolor\":\"white\",\"gridwidth\":2},\"zaxis\":{\"backgroundcolor\":\"#E5ECF6\",\"gridcolor\":\"white\",\"linecolor\":\"white\",\"showbackground\":true,\"ticks\":\"\",\"zerolinecolor\":\"white\",\"gridwidth\":2}},\"shapedefaults\":{\"line\":{\"color\":\"#2a3f5f\"}},\"annotationdefaults\":{\"arrowcolor\":\"#2a3f5f\",\"arrowhead\":0,\"arrowwidth\":1},\"geo\":{\"bgcolor\":\"white\",\"landcolor\":\"#E5ECF6\",\"subunitcolor\":\"white\",\"showland\":true,\"showlakes\":true,\"lakecolor\":\"white\"},\"title\":{\"x\":0.05},\"mapbox\":{\"style\":\"light\"}}},\"xaxis\":{\"anchor\":\"y\",\"domain\":[0.0,1.0]},\"yaxis\":{\"anchor\":\"x\",\"domain\":[0.0,1.0],\"title\":{\"text\":\"MILES\"}},\"legend\":{\"tracegroupgap\":0},\"title\":{\"text\":\"Box Plot of MILES Column\"},\"boxmode\":\"group\"},                        {\"responsive\": true}                    ).then(function(){\n",
       "                            \n",
       "var gd = document.getElementById('fc4d8d46-47b4-44e7-a933-9735e76ca667');\n",
       "var x = new MutationObserver(function (mutations, observer) {{\n",
       "        var display = window.getComputedStyle(gd).display;\n",
       "        if (!display || display === 'none') {{\n",
       "            console.log([gd, 'removed!']);\n",
       "            Plotly.purge(gd);\n",
       "            observer.disconnect();\n",
       "        }}\n",
       "}});\n",
       "\n",
       "// Listen for the removal of the full notebook cells\n",
       "var notebookContainer = gd.closest('#notebook-container');\n",
       "if (notebookContainer) {{\n",
       "    x.observe(notebookContainer, {childList: true});\n",
       "}}\n",
       "\n",
       "// Listen for the clearing of the current output cell\n",
       "var outputEl = gd.closest('.output');\n",
       "if (outputEl) {{\n",
       "    x.observe(outputEl, {childList: true});\n",
       "}}\n",
       "\n",
       "                        })                };                });            </script>        </div>"
      ]
     },
     "metadata": {},
     "output_type": "display_data"
    },
    {
     "data": {
      "application/vnd.plotly.v1+json": {
       "config": {
        "plotlyServerURL": "https://plot.ly"
       },
       "data": [
        {
         "hovertemplate": "index=%{x}<br>MILES=%{y}<extra></extra>",
         "legendgroup": "",
         "marker": {
          "color": "#636efa",
          "symbol": "circle"
         },
         "mode": "markers",
         "name": "",
         "showlegend": false,
         "type": "scattergl",
         "x": [
          0,
          1,
          2,
          3,
          4,
          5,
          6,
          7,
          8,
          9,
          10,
          11,
          12,
          13,
          14,
          15,
          16,
          17,
          18,
          19,
          20,
          21,
          22,
          23,
          24,
          25,
          26,
          27,
          28,
          29,
          30,
          31,
          32,
          33,
          34,
          35,
          36,
          37,
          38,
          39,
          40,
          41,
          42,
          43,
          44,
          45,
          46,
          47,
          48,
          49,
          50,
          51,
          52,
          53,
          54,
          55,
          56,
          57,
          58,
          59,
          60,
          61,
          62,
          63,
          64,
          65,
          66,
          67,
          68,
          69,
          70,
          71,
          72,
          73,
          74,
          75,
          76,
          77,
          78,
          79,
          80,
          81,
          82,
          83,
          84,
          85,
          86,
          87,
          88,
          89,
          90,
          91,
          92,
          93,
          94,
          95,
          96,
          97,
          98,
          99,
          100,
          101,
          102,
          103,
          104,
          105,
          106,
          107,
          108,
          109,
          110,
          111,
          112,
          113,
          114,
          115,
          116,
          117,
          118,
          119,
          120,
          121,
          122,
          123,
          124,
          125,
          126,
          127,
          128,
          129,
          130,
          131,
          132,
          133,
          134,
          135,
          136,
          137,
          138,
          139,
          140,
          141,
          142,
          143,
          144,
          145,
          146,
          147,
          148,
          149,
          150,
          151,
          152,
          153,
          154,
          155,
          156,
          157,
          158,
          159,
          160,
          161,
          162,
          163,
          164,
          165,
          166,
          167,
          168,
          169,
          170,
          171,
          172,
          173,
          174,
          175,
          176,
          177,
          178,
          179,
          180,
          181,
          182,
          183,
          184,
          185,
          186,
          187,
          188,
          189,
          190,
          191,
          192,
          193,
          194,
          195,
          196,
          197,
          198,
          199,
          200,
          201,
          202,
          203,
          204,
          205,
          206,
          207,
          208,
          209,
          210,
          211,
          212,
          213,
          214,
          215,
          216,
          217,
          218,
          219,
          220,
          221,
          222,
          223,
          224,
          225,
          226,
          227,
          228,
          229,
          230,
          231,
          232,
          233,
          234,
          235,
          236,
          237,
          238,
          239,
          240,
          241,
          242,
          243,
          244,
          245,
          246,
          247,
          248,
          249,
          250,
          251,
          252,
          253,
          254,
          255,
          256,
          257,
          258,
          259,
          260,
          261,
          262,
          263,
          264,
          265,
          266,
          267,
          268,
          269,
          270,
          271,
          272,
          273,
          274,
          275,
          276,
          277,
          278,
          279,
          280,
          281,
          282,
          283,
          284,
          285,
          286,
          287,
          288,
          289,
          290,
          291,
          292,
          293,
          294,
          295,
          296,
          297,
          298,
          299,
          300,
          301,
          302,
          303,
          304,
          305,
          306,
          307,
          308,
          309,
          310,
          311,
          312,
          313,
          314,
          315,
          316,
          317,
          318,
          319,
          320,
          321,
          322,
          323,
          324,
          325,
          326,
          327,
          328,
          329,
          330,
          331,
          332,
          333,
          334,
          335,
          336,
          337,
          338,
          339,
          340,
          341,
          342,
          343,
          344,
          345,
          346,
          347,
          348,
          349,
          350,
          351,
          352,
          353,
          354,
          355,
          356,
          357,
          358,
          359,
          360,
          361,
          362,
          363,
          364,
          365,
          366,
          367,
          368,
          369,
          370,
          371,
          372,
          373,
          374,
          375,
          376,
          377,
          378,
          379,
          380,
          381,
          382,
          383,
          384,
          385,
          386,
          387,
          388,
          389,
          390,
          391,
          392,
          393,
          394,
          395,
          396,
          397,
          398,
          399,
          400,
          401,
          402,
          403,
          404,
          405,
          406,
          407,
          408,
          409,
          410,
          411,
          412,
          413,
          414,
          415,
          416,
          417,
          418,
          419,
          420,
          421,
          422,
          423,
          424,
          425,
          426,
          427,
          428,
          429,
          430,
          431,
          432,
          433,
          434,
          435,
          436,
          437,
          438,
          439,
          440,
          441,
          442,
          443,
          444,
          445,
          446,
          447,
          448,
          449,
          450,
          451,
          452,
          453,
          454,
          455,
          456,
          457,
          458,
          459,
          460,
          461,
          462,
          463,
          464,
          465,
          466,
          467,
          468,
          469,
          470,
          471,
          472,
          473,
          474,
          475,
          476,
          477,
          478,
          479,
          480,
          481,
          482,
          483,
          484,
          485,
          486,
          487,
          488,
          489,
          490,
          491,
          493,
          494,
          495,
          496,
          497,
          498,
          499,
          500,
          501,
          502,
          503,
          504,
          505,
          506,
          507,
          508,
          509,
          510,
          511,
          512,
          513,
          514,
          515,
          516,
          517,
          518,
          519,
          520,
          521,
          522,
          523,
          524,
          525,
          526,
          527,
          528,
          529,
          530,
          531,
          532,
          533,
          534,
          535,
          536,
          537,
          538,
          539,
          540,
          541,
          542,
          543,
          544,
          545,
          546,
          547,
          548,
          549,
          550,
          551,
          552,
          553,
          554,
          555,
          556,
          557,
          558,
          559,
          560,
          561,
          562,
          563,
          564,
          565,
          566,
          567,
          568,
          569,
          570,
          571,
          572,
          573,
          574,
          575,
          576,
          577,
          578,
          579,
          580,
          581,
          582,
          583,
          584,
          585,
          586,
          587,
          588,
          589,
          590,
          591,
          592,
          593,
          594,
          595,
          596,
          597,
          598,
          599,
          600,
          601,
          602,
          603,
          604,
          605,
          606,
          607,
          608,
          609,
          610,
          611,
          612,
          613,
          614,
          615,
          616,
          617,
          618,
          619,
          620,
          621,
          622,
          623,
          624,
          625,
          626,
          627,
          628,
          629,
          630,
          631,
          632,
          633,
          634,
          635,
          636,
          637,
          638,
          639,
          640,
          641,
          642,
          643,
          644,
          645,
          646,
          647,
          648,
          649,
          650,
          651,
          652,
          653,
          654,
          655,
          656,
          657,
          658,
          659,
          660,
          661,
          662,
          663,
          664,
          665,
          666,
          667,
          668,
          669,
          670,
          671,
          672,
          673,
          674,
          675,
          676,
          677,
          678,
          679,
          680,
          681,
          682,
          683,
          684,
          685,
          686,
          687,
          688,
          689,
          690,
          691,
          692,
          693,
          694,
          695,
          696,
          697,
          698,
          699,
          700,
          701,
          702,
          703,
          704,
          705,
          706,
          707,
          708,
          709,
          710,
          711,
          712,
          713,
          714,
          715,
          716,
          717,
          718,
          719,
          720,
          721,
          722,
          723,
          724,
          725,
          726,
          727,
          728,
          729,
          730,
          731,
          732,
          733,
          734,
          735,
          736,
          737,
          738,
          739,
          740,
          741,
          742,
          743,
          744,
          745,
          746,
          747,
          748,
          749,
          750,
          751,
          752,
          753,
          754,
          755,
          756,
          757,
          758,
          759,
          760,
          761,
          762,
          763,
          764,
          765,
          766,
          767,
          768,
          769,
          770,
          771,
          772,
          773,
          774,
          775,
          776,
          777,
          778,
          779,
          780,
          781,
          782,
          783,
          784,
          785,
          786,
          787,
          788,
          789,
          790,
          791,
          792,
          793,
          794,
          795,
          796,
          797,
          798,
          799,
          800,
          801,
          802,
          803,
          804,
          805,
          806,
          807,
          808,
          809,
          810,
          811,
          812,
          813,
          814,
          815,
          816,
          817,
          818,
          819,
          820,
          821,
          822,
          823,
          824,
          825,
          826,
          827,
          828,
          829,
          830,
          831,
          832,
          833,
          834,
          835,
          836,
          837,
          838,
          839,
          840,
          841,
          842,
          843,
          844,
          845,
          846,
          847,
          848,
          849,
          850,
          851,
          852,
          853,
          854,
          855,
          856,
          857,
          858,
          859,
          860,
          861,
          862,
          863,
          864,
          865,
          866,
          867,
          868,
          869,
          870,
          871,
          872,
          873,
          874,
          875,
          876,
          877,
          878,
          879,
          880,
          881,
          882,
          883,
          884,
          885,
          886,
          887,
          888,
          889,
          890,
          891,
          892,
          893,
          894,
          895,
          896,
          897,
          898,
          899,
          900,
          901,
          902,
          903,
          904,
          905,
          906,
          907,
          908,
          909,
          910,
          911,
          912,
          913,
          914,
          915,
          916,
          917,
          918,
          919,
          920,
          921,
          922,
          923,
          924,
          925,
          926,
          927,
          928,
          929,
          930,
          931,
          932,
          933,
          934,
          935,
          936,
          937,
          938,
          939,
          940,
          941,
          942,
          943,
          944,
          945,
          946,
          947,
          948,
          949,
          950,
          951,
          952,
          953,
          954,
          955,
          956,
          957,
          958,
          959,
          960,
          961,
          962,
          963,
          964,
          965,
          966,
          967,
          968,
          969,
          970,
          971,
          972,
          973,
          974,
          975,
          976,
          977,
          978,
          979,
          980,
          981,
          982,
          983,
          984,
          985,
          986,
          987,
          988,
          989,
          990,
          991,
          992,
          993,
          994,
          995,
          996,
          997,
          998,
          999,
          1000,
          1001,
          1002,
          1003,
          1004,
          1005,
          1006,
          1007,
          1008,
          1009,
          1010,
          1011,
          1012,
          1013,
          1014,
          1015,
          1016,
          1017,
          1018,
          1019,
          1020,
          1021,
          1022,
          1023,
          1024,
          1025,
          1026,
          1027,
          1028,
          1029,
          1030,
          1031,
          1032,
          1033,
          1034,
          1035,
          1036,
          1037,
          1038,
          1039,
          1040,
          1041,
          1042,
          1043,
          1044,
          1045,
          1046,
          1047,
          1048,
          1049,
          1050,
          1051,
          1052,
          1053,
          1054,
          1055,
          1056,
          1057,
          1058,
          1059,
          1060,
          1061,
          1062,
          1063,
          1064,
          1065,
          1066,
          1067,
          1068,
          1069,
          1070,
          1071,
          1072,
          1073,
          1074,
          1075,
          1076,
          1077,
          1078,
          1079,
          1080,
          1081,
          1082,
          1083,
          1084,
          1085,
          1086,
          1087,
          1088,
          1089,
          1090,
          1091,
          1092,
          1093,
          1094,
          1095,
          1096,
          1097,
          1098,
          1099,
          1100,
          1101,
          1102,
          1103,
          1104,
          1105,
          1106,
          1107,
          1108,
          1109,
          1110,
          1111,
          1112,
          1113,
          1114,
          1115,
          1116,
          1117,
          1118,
          1119,
          1120,
          1121,
          1122,
          1123,
          1124,
          1125,
          1126,
          1127,
          1128,
          1129,
          1130,
          1131,
          1132,
          1133,
          1134,
          1135,
          1136,
          1137,
          1138,
          1139,
          1140,
          1141,
          1142,
          1143,
          1144,
          1145,
          1146,
          1147,
          1148,
          1149,
          1150,
          1151,
          1152,
          1153,
          1154
         ],
         "xaxis": "x",
         "y": [
          5.1,
          5,
          4.8,
          4.7,
          63.7,
          4.3,
          7.1,
          0.8,
          8.3,
          16.5,
          10.8,
          7.5,
          6.2,
          6.4,
          1.6,
          1.7,
          1.9,
          1.9,
          4,
          1.8,
          2.4,
          2,
          15.1,
          11.2,
          11.8,
          21.9,
          3.9,
          8,
          10.4,
          10.4,
          4.8,
          4.7,
          7.2,
          7.6,
          17.1,
          15.1,
          40.2,
          1.6,
          2.4,
          1,
          2,
          2.3,
          1.9,
          1.4,
          0.5,
          1.8,
          18.7,
          3.4,
          2.7,
          12.9,
          19,
          14.7,
          15.7,
          4.6,
          5.2,
          10.4,
          10.1,
          5.8,
          5.5,
          5.7,
          5.7,
          19.4,
          23.3,
          3.9,
          8.3,
          6,
          1.6,
          5.2,
          9.7,
          1.6,
          1.1,
          1.6,
          9,
          7.7,
          10.4,
          10.4,
          11.4,
          9,
          3.2,
          5.6,
          5.7,
          6.1,
          6.1,
          4.3,
          2.7,
          5.3,
          3,
          5.1,
          1.5,
          6.1,
          6.1,
          17.3,
          5.7,
          13.5,
          6.1,
          8.5,
          2.6,
          17,
          18,
          8.4,
          11.5,
          8.9,
          2.7,
          1.8,
          8.1,
          2,
          13,
          13.9,
          43.7,
          14.1,
          2.6,
          4.5,
          1.7,
          1.8,
          6,
          1.1,
          3.6,
          14.7,
          1.7,
          21.4,
          0.5,
          23.5,
          12.7,
          6,
          5.2,
          10,
          18.3,
          11.2,
          7.6,
          1.5,
          1,
          7.3,
          3.5,
          4.2,
          13.6,
          2.5,
          14.4,
          3,
          1.5,
          18.4,
          23.1,
          16.5,
          3.2,
          7.7,
          14.5,
          2.4,
          4.6,
          8.8,
          8.3,
          22.7,
          13,
          8.1,
          2.2,
          9.7,
          20,
          8.1,
          1.5,
          1.7,
          3.1,
          3.2,
          6,
          5.8,
          6.3,
          1.7,
          10.6,
          9.9,
          1.9,
          4.2,
          2,
          7.7,
          6.8,
          2.1,
          3.8,
          5.6,
          2.6,
          6.6,
          8,
          8,
          2.2,
          2.3,
          5.2,
          7.6,
          17.3,
          9.9,
          9.9,
          10.4,
          10.9,
          15.7,
          4.9,
          0.8,
          13.5,
          1.9,
          2,
          6.5,
          4.2,
          3.5,
          7.8,
          7.8,
          3.9,
          2.8,
          12.4,
          5.9,
          9.4,
          11.9,
          7.2,
          7.6,
          1.6,
          8.4,
          12.8,
          2.3,
          1.6,
          2,
          0.8,
          1.2,
          1,
          2.1,
          2.2,
          1.9,
          5.7,
          8.4,
          6.2,
          10.5,
          7.2,
          12.5,
          2,
          2.7,
          2,
          2.8,
          1.7,
          2,
          2.1,
          1.7,
          136,
          30.2,
          15.5,
          4.9,
          12.6,
          10.4,
          1.1,
          1.1,
          13.2,
          1,
          9.2,
          9.4,
          12,
          35.1,
          36.5,
          3.1,
          2.1,
          1.2,
          7.5,
          57,
          5.9,
          6.2,
          10.4,
          1.2,
          9.6,
          1,
          0.9,
          8.8,
          25.6,
          23,
          8.1,
          1.4,
          1.7,
          1.6,
          2,
          2.2,
          144,
          310.3,
          201,
          6.7,
          8.8,
          1.2,
          2.1,
          6.6,
          6.1,
          6.9,
          7.3,
          3.6,
          27.2,
          25.7,
          13.6,
          6.2,
          6,
          13.8,
          28.8,
          16.1,
          16.4,
          11,
          15.5,
          20.3,
          0.7,
          5.5,
          5.1,
          77.3,
          80.5,
          174.2,
          144,
          159.3,
          7.9,
          8,
          6.1,
          6.1,
          10.5,
          8.7,
          1.8,
          19.1,
          18.6,
          2.8,
          8.9,
          7.5,
          15.9,
          6.5,
          15.3,
          13.7,
          11.9,
          1.4,
          15.2,
          6,
          6.1,
          8.2,
          8,
          13.6,
          22.5,
          10.4,
          10,
          6,
          6.5,
          3.1,
          1.9,
          4.2,
          4.9,
          4.8,
          12.4,
          32.8,
          5.5,
          9.9,
          10,
          14.2,
          18.2,
          7.7,
          6.8,
          2.1,
          2.3,
          6.2,
          7.5,
          3.1,
          2.2,
          3.9,
          2.5,
          8.7,
          14.5,
          4.5,
          5,
          14.2,
          2.9,
          12.9,
          14.4,
          17,
          7.9,
          8.4,
          20.5,
          9.8,
          17.6,
          9.3,
          7.9,
          25.6,
          8.1,
          3.1,
          3.1,
          2.8,
          2.7,
          1.9,
          8.4,
          7.6,
          2.9,
          11.2,
          8.2,
          3,
          2.5,
          3.6,
          3.6,
          4.5,
          1.2,
          1.7,
          4.7,
          6.1,
          11.3,
          14.9,
          14,
          1.8,
          6.7,
          9.6,
          10.4,
          9.9,
          6,
          3.3,
          3.1,
          1.7,
          4,
          7.8,
          7.8,
          3.8,
          2.5,
          9.9,
          9.9,
          3,
          2.4,
          5.7,
          7.2,
          10.4,
          9.9,
          10.4,
          9.9,
          8.7,
          22.3,
          3.3,
          0.7,
          2.5,
          0.5,
          0.9,
          4.8,
          16.3,
          10.4,
          9.9,
          3.7,
          4.6,
          1.7,
          10.4,
          9.9,
          2.5,
          4.3,
          2.8,
          8.4,
          13.2,
          3.9,
          5.1,
          5.2,
          9.8,
          11.6,
          5.1,
          9.3,
          12.4,
          1.9,
          6.4,
          5.5,
          1.5,
          14.5,
          2.7,
          15,
          12.9,
          13.6,
          12.2,
          8.7,
          6,
          5.9,
          19.3,
          16.6,
          7.1,
          2.1,
          8.6,
          9,
          3.1,
          8.4,
          12.8,
          4.5,
          11.8,
          1.1,
          17,
          1.7,
          15.5,
          1.6,
          1.5,
          12.6,
          4.8,
          2.2,
          13,
          46.9,
          2.5,
          8.6,
          5.2,
          7.6,
          1.8,
          4.7,
          2.8,
          30,
          4.4,
          1,
          8.2,
          10.4,
          9.9,
          7.3,
          7.4,
          1.6,
          1.8,
          10.4,
          9.9,
          9.9,
          9.9,
          13.3,
          11.3,
          10.5,
          9.9,
          10.1,
          9.9,
          3.1,
          3.1,
          9.9,
          9.9,
          8.8,
          8.7,
          11.8,
          1.2,
          9.9,
          0.6,
          9.9,
          8.6,
          6.3,
          9.9,
          9.9,
          3.3,
          3.1,
          7.9,
          8.9,
          12.8,
          7.7,
          7,
          12.5,
          13.2,
          13,
          4.9,
          8.5,
          1.3,
          1.8,
          13.6,
          13.4,
          12.3,
          1.4,
          8.7,
          23.5,
          2.2,
          4.4,
          3.3,
          11.8,
          195.3,
          8.3,
          3.2,
          22.4,
          12.2,
          4.5,
          28.1,
          3.8,
          41.9,
          23.8,
          13,
          4.4,
          15.1,
          180.2,
          4.1,
          6.1,
          3.3,
          4.7,
          7.2,
          5.5,
          3.3,
          0.9,
          3.8,
          6.4,
          3,
          8.7,
          3.9,
          4.8,
          2.8,
          1.4,
          1.4,
          2.7,
          2.3,
          3.7,
          2.9,
          3.8,
          5.1,
          9.1,
          8,
          9.9,
          6.1,
          12.2,
          8,
          4,
          9.5,
          3,
          6.3,
          10.4,
          9.9,
          1.5,
          4.9,
          7.9,
          1.7,
          2.2,
          2.1,
          2.5,
          2.5,
          2.8,
          14.7,
          14.6,
          2.3,
          2.2,
          2.2,
          14,
          13.3,
          1.8,
          6.2,
          1.3,
          1.9,
          6.9,
          4.6,
          2.8,
          9.1,
          8.1,
          8.4,
          4.9,
          1,
          1,
          2,
          1.1,
          1.5,
          1.3,
          1.8,
          1.5,
          6.6,
          8,
          2.7,
          2.7,
          2.5,
          2.5,
          5.2,
          4,
          2.7,
          4.8,
          3.2,
          6.9,
          14.9,
          17.4,
          12.9,
          15.3,
          1,
          6,
          2.2,
          4.4,
          2.8,
          31.7,
          31.9,
          1.9,
          1.8,
          8.4,
          15.6,
          14.1,
          15.7,
          25.9,
          7.9,
          2.7,
          5.5,
          5.7,
          1.2,
          5.7,
          16.2,
          2.6,
          12.1,
          1.4,
          6.4,
          7.3,
          5.3,
          5.5,
          7.7,
          7.6,
          7.6,
          3.3,
          6.5,
          2,
          5.7,
          3.2,
          12.5,
          7.6,
          7.7,
          12.2,
          1.4,
          20.2,
          9.8,
          6.3,
          4.9,
          1.5,
          10.9,
          19,
          19,
          7.9,
          4.1,
          18.7,
          8.7,
          7.5,
          7.7,
          4.4,
          5,
          1.9,
          7.9,
          17.7,
          25.2,
          96.2,
          35,
          5.5,
          50.4,
          9.2,
          7.3,
          5,
          3.8,
          3.9,
          7.4,
          1.5,
          7.9,
          2.9,
          3.4,
          3.8,
          5.9,
          9.6,
          7,
          0.9,
          86.6,
          156.9,
          10.1,
          6.2,
          5.3,
          12.1,
          10.8,
          4.3,
          2.5,
          5.7,
          2.8,
          4,
          5.5,
          2.6,
          2.1,
          8.8,
          4.4,
          5.3,
          13,
          13,
          10.6,
          2.2,
          9.2,
          12.9,
          17.2,
          69.1,
          2.8,
          8.6,
          9.8,
          3.6,
          1.7,
          11.5,
          0.7,
          0.7,
          0.9,
          1.6,
          9.4,
          18.2,
          10.5,
          5.7,
          18,
          18.3,
          16.5,
          9.6,
          2.9,
          8.2,
          2.4,
          5.8,
          9.8,
          7.3,
          195.6,
          20.5,
          12.6,
          37.7,
          16.7,
          10.5,
          2.8,
          1.6,
          12.7,
          28.6,
          15.1,
          17.9,
          112.6,
          18.4,
          13.8,
          33.2,
          2.6,
          5.8,
          8.3,
          2.4,
          3.1,
          6.1,
          3.6,
          8,
          7.7,
          1.7,
          9.5,
          17.1,
          18.4,
          9.8,
          1,
          0.7,
          2.3,
          10.9,
          12.7,
          12.4,
          3.8,
          17,
          6.2,
          3.1,
          10.5,
          8.1,
          3.1,
          2.1,
          4.3,
          2.5,
          20.6,
          17.6,
          5.6,
          3.3,
          5.3,
          3.3,
          3.3,
          7.9,
          13,
          3,
          3,
          3.8,
          9.5,
          1.7,
          10.8,
          4.1,
          2.2,
          4.6,
          3.1,
          47.7,
          44.6,
          13.2,
          8.7,
          17.2,
          14,
          28.1,
          28.2,
          3.1,
          3.1,
          16.4,
          15.4,
          2.2,
          11.2,
          2.2,
          3.6,
          3.6,
          4.9,
          8.7,
          2.1,
          2.1,
          8.4,
          5.9,
          12.1,
          3.9,
          6.2,
          10.4,
          9.9,
          107,
          133.6,
          91.8,
          40.7,
          75.7,
          29.8,
          16.3,
          6.5,
          6.3,
          6.6,
          15.2,
          68.4,
          195.9,
          45.2,
          3.2,
          10.3,
          13.1,
          9.6,
          16.5,
          12.8,
          1.2,
          1,
          4.1,
          4.2,
          1.4,
          1.8,
          8.5,
          5,
          3.8,
          2.5,
          2.4,
          1.4,
          1.8,
          3.1,
          3.1,
          7.9,
          3.8,
          4.3,
          3.9,
          2.2,
          2.8,
          2.2,
          2.4,
          2.8,
          43.9,
          1.8,
          3.3,
          11.8,
          13.2,
          12.2,
          11.3,
          3.6,
          3,
          11.4,
          0.9,
          6.2,
          0.7,
          5.5,
          12.7,
          2.6,
          1.1,
          12.6,
          1.2,
          1.1,
          9.9,
          6,
          0.8,
          45.9,
          4,
          2.5,
          36.6,
          2.9,
          2.6,
          2.3,
          6.4,
          1.4,
          0.6,
          5.9,
          0.8,
          1.3,
          3.7,
          2.3,
          2.6,
          1.9,
          2.1,
          4,
          0.9,
          0.9,
          2.4,
          1.9,
          1.9,
          44.6,
          43.6,
          2.5,
          3.7,
          5.1,
          9.7,
          11.8,
          2.3,
          3.1,
          16.3,
          3.1,
          5.2,
          6.1,
          10.3,
          10.5,
          1.5,
          1.8,
          5.4,
          5.4,
          39.2,
          6.4,
          2.7,
          18.5,
          2.5,
          2.1,
          6.7,
          3.5,
          3.4,
          5.5,
          4.1,
          12.7,
          3,
          3.5,
          5.9,
          1.9,
          3.3,
          1.3,
          10.3,
          11.1,
          1.4,
          5.1,
          9,
          13.3,
          2.5,
          3.3,
          2.9,
          8.5,
          6.7,
          3.1,
          5.5,
          5.5,
          2.9,
          2.9,
          5.1,
          5.3,
          3.3,
          3,
          6.6,
          1.8,
          3,
          2.9,
          3.4,
          4.1,
          3.8,
          6.6,
          4,
          7,
          6.9,
          3.4,
          3.4,
          2,
          2,
          5.1,
          8.8,
          5.6,
          18.9,
          15.6,
          15.6,
          3,
          3.1,
          3,
          4.8,
          2.1,
          3.1,
          4.4,
          4.7,
          3,
          3,
          4.2,
          4.1,
          3.4,
          3.3,
          3,
          3.1,
          10.6,
          4.8,
          5.3,
          4.9,
          10.2,
          9.2,
          7.7,
          5.9,
          0.7,
          1.3,
          2.5,
          5.3,
          5.4,
          10.2,
          7.2,
          2.2,
          11,
          12,
          3.3,
          19.4,
          1.7,
          5.7,
          1.8,
          1.4,
          10.3,
          11.5,
          4.9,
          3.5,
          16.2,
          2,
          2.1,
          2.1,
          7.2,
          12,
          103,
          32.3,
          5.3,
          11.6,
          23.2,
          3.2,
          12.3,
          14,
          2.1,
          2.1,
          3,
          6.2,
          9.6,
          1.3,
          7.1,
          6.3,
          10.7,
          5.3,
          1.6,
          3.6,
          1.7,
          2.9,
          0.6,
          0.6,
          2.3,
          2.3,
          3.2,
          6.2,
          7.7,
          3.8,
          7.9,
          4.9,
          5,
          0.6,
          3.1,
          7.9,
          5.5,
          10.3,
          10.4,
          2,
          8.5,
          4.4,
          3.8,
          5.1,
          3.8,
          11.6,
          11.9,
          1.4,
          1.1,
          4.1,
          6.1,
          1.3,
          3,
          4.1,
          7.2,
          6.4,
          12.9,
          2.8,
          2.9,
          4.6,
          4.6,
          0.8,
          0.7,
          3.9,
          16.2,
          6.4,
          48.2
         ],
         "yaxis": "y"
        }
       ],
       "layout": {
        "legend": {
         "tracegroupgap": 0
        },
        "shapes": [
         {
          "line": {
           "color": "red",
           "dash": "dash"
          },
          "type": "line",
          "x0": 0,
          "x1": 1153,
          "y0": -8.35,
          "y1": -8.35
         },
         {
          "line": {
           "color": "red",
           "dash": "dash"
          },
          "type": "line",
          "x0": 0,
          "x1": 1153,
          "y0": 21.65,
          "y1": 21.65
         }
        ],
        "template": {
         "data": {
          "bar": [
           {
            "error_x": {
             "color": "#2a3f5f"
            },
            "error_y": {
             "color": "#2a3f5f"
            },
            "marker": {
             "line": {
              "color": "#E5ECF6",
              "width": 0.5
             },
             "pattern": {
              "fillmode": "overlay",
              "size": 10,
              "solidity": 0.2
             }
            },
            "type": "bar"
           }
          ],
          "barpolar": [
           {
            "marker": {
             "line": {
              "color": "#E5ECF6",
              "width": 0.5
             },
             "pattern": {
              "fillmode": "overlay",
              "size": 10,
              "solidity": 0.2
             }
            },
            "type": "barpolar"
           }
          ],
          "carpet": [
           {
            "aaxis": {
             "endlinecolor": "#2a3f5f",
             "gridcolor": "white",
             "linecolor": "white",
             "minorgridcolor": "white",
             "startlinecolor": "#2a3f5f"
            },
            "baxis": {
             "endlinecolor": "#2a3f5f",
             "gridcolor": "white",
             "linecolor": "white",
             "minorgridcolor": "white",
             "startlinecolor": "#2a3f5f"
            },
            "type": "carpet"
           }
          ],
          "choropleth": [
           {
            "colorbar": {
             "outlinewidth": 0,
             "ticks": ""
            },
            "type": "choropleth"
           }
          ],
          "contour": [
           {
            "colorbar": {
             "outlinewidth": 0,
             "ticks": ""
            },
            "colorscale": [
             [
              0,
              "#0d0887"
             ],
             [
              0.1111111111111111,
              "#46039f"
             ],
             [
              0.2222222222222222,
              "#7201a8"
             ],
             [
              0.3333333333333333,
              "#9c179e"
             ],
             [
              0.4444444444444444,
              "#bd3786"
             ],
             [
              0.5555555555555556,
              "#d8576b"
             ],
             [
              0.6666666666666666,
              "#ed7953"
             ],
             [
              0.7777777777777778,
              "#fb9f3a"
             ],
             [
              0.8888888888888888,
              "#fdca26"
             ],
             [
              1,
              "#f0f921"
             ]
            ],
            "type": "contour"
           }
          ],
          "contourcarpet": [
           {
            "colorbar": {
             "outlinewidth": 0,
             "ticks": ""
            },
            "type": "contourcarpet"
           }
          ],
          "heatmap": [
           {
            "colorbar": {
             "outlinewidth": 0,
             "ticks": ""
            },
            "colorscale": [
             [
              0,
              "#0d0887"
             ],
             [
              0.1111111111111111,
              "#46039f"
             ],
             [
              0.2222222222222222,
              "#7201a8"
             ],
             [
              0.3333333333333333,
              "#9c179e"
             ],
             [
              0.4444444444444444,
              "#bd3786"
             ],
             [
              0.5555555555555556,
              "#d8576b"
             ],
             [
              0.6666666666666666,
              "#ed7953"
             ],
             [
              0.7777777777777778,
              "#fb9f3a"
             ],
             [
              0.8888888888888888,
              "#fdca26"
             ],
             [
              1,
              "#f0f921"
             ]
            ],
            "type": "heatmap"
           }
          ],
          "heatmapgl": [
           {
            "colorbar": {
             "outlinewidth": 0,
             "ticks": ""
            },
            "colorscale": [
             [
              0,
              "#0d0887"
             ],
             [
              0.1111111111111111,
              "#46039f"
             ],
             [
              0.2222222222222222,
              "#7201a8"
             ],
             [
              0.3333333333333333,
              "#9c179e"
             ],
             [
              0.4444444444444444,
              "#bd3786"
             ],
             [
              0.5555555555555556,
              "#d8576b"
             ],
             [
              0.6666666666666666,
              "#ed7953"
             ],
             [
              0.7777777777777778,
              "#fb9f3a"
             ],
             [
              0.8888888888888888,
              "#fdca26"
             ],
             [
              1,
              "#f0f921"
             ]
            ],
            "type": "heatmapgl"
           }
          ],
          "histogram": [
           {
            "marker": {
             "pattern": {
              "fillmode": "overlay",
              "size": 10,
              "solidity": 0.2
             }
            },
            "type": "histogram"
           }
          ],
          "histogram2d": [
           {
            "colorbar": {
             "outlinewidth": 0,
             "ticks": ""
            },
            "colorscale": [
             [
              0,
              "#0d0887"
             ],
             [
              0.1111111111111111,
              "#46039f"
             ],
             [
              0.2222222222222222,
              "#7201a8"
             ],
             [
              0.3333333333333333,
              "#9c179e"
             ],
             [
              0.4444444444444444,
              "#bd3786"
             ],
             [
              0.5555555555555556,
              "#d8576b"
             ],
             [
              0.6666666666666666,
              "#ed7953"
             ],
             [
              0.7777777777777778,
              "#fb9f3a"
             ],
             [
              0.8888888888888888,
              "#fdca26"
             ],
             [
              1,
              "#f0f921"
             ]
            ],
            "type": "histogram2d"
           }
          ],
          "histogram2dcontour": [
           {
            "colorbar": {
             "outlinewidth": 0,
             "ticks": ""
            },
            "colorscale": [
             [
              0,
              "#0d0887"
             ],
             [
              0.1111111111111111,
              "#46039f"
             ],
             [
              0.2222222222222222,
              "#7201a8"
             ],
             [
              0.3333333333333333,
              "#9c179e"
             ],
             [
              0.4444444444444444,
              "#bd3786"
             ],
             [
              0.5555555555555556,
              "#d8576b"
             ],
             [
              0.6666666666666666,
              "#ed7953"
             ],
             [
              0.7777777777777778,
              "#fb9f3a"
             ],
             [
              0.8888888888888888,
              "#fdca26"
             ],
             [
              1,
              "#f0f921"
             ]
            ],
            "type": "histogram2dcontour"
           }
          ],
          "mesh3d": [
           {
            "colorbar": {
             "outlinewidth": 0,
             "ticks": ""
            },
            "type": "mesh3d"
           }
          ],
          "parcoords": [
           {
            "line": {
             "colorbar": {
              "outlinewidth": 0,
              "ticks": ""
             }
            },
            "type": "parcoords"
           }
          ],
          "pie": [
           {
            "automargin": true,
            "type": "pie"
           }
          ],
          "scatter": [
           {
            "fillpattern": {
             "fillmode": "overlay",
             "size": 10,
             "solidity": 0.2
            },
            "type": "scatter"
           }
          ],
          "scatter3d": [
           {
            "line": {
             "colorbar": {
              "outlinewidth": 0,
              "ticks": ""
             }
            },
            "marker": {
             "colorbar": {
              "outlinewidth": 0,
              "ticks": ""
             }
            },
            "type": "scatter3d"
           }
          ],
          "scattercarpet": [
           {
            "marker": {
             "colorbar": {
              "outlinewidth": 0,
              "ticks": ""
             }
            },
            "type": "scattercarpet"
           }
          ],
          "scattergeo": [
           {
            "marker": {
             "colorbar": {
              "outlinewidth": 0,
              "ticks": ""
             }
            },
            "type": "scattergeo"
           }
          ],
          "scattergl": [
           {
            "marker": {
             "colorbar": {
              "outlinewidth": 0,
              "ticks": ""
             }
            },
            "type": "scattergl"
           }
          ],
          "scattermapbox": [
           {
            "marker": {
             "colorbar": {
              "outlinewidth": 0,
              "ticks": ""
             }
            },
            "type": "scattermapbox"
           }
          ],
          "scatterpolar": [
           {
            "marker": {
             "colorbar": {
              "outlinewidth": 0,
              "ticks": ""
             }
            },
            "type": "scatterpolar"
           }
          ],
          "scatterpolargl": [
           {
            "marker": {
             "colorbar": {
              "outlinewidth": 0,
              "ticks": ""
             }
            },
            "type": "scatterpolargl"
           }
          ],
          "scatterternary": [
           {
            "marker": {
             "colorbar": {
              "outlinewidth": 0,
              "ticks": ""
             }
            },
            "type": "scatterternary"
           }
          ],
          "surface": [
           {
            "colorbar": {
             "outlinewidth": 0,
             "ticks": ""
            },
            "colorscale": [
             [
              0,
              "#0d0887"
             ],
             [
              0.1111111111111111,
              "#46039f"
             ],
             [
              0.2222222222222222,
              "#7201a8"
             ],
             [
              0.3333333333333333,
              "#9c179e"
             ],
             [
              0.4444444444444444,
              "#bd3786"
             ],
             [
              0.5555555555555556,
              "#d8576b"
             ],
             [
              0.6666666666666666,
              "#ed7953"
             ],
             [
              0.7777777777777778,
              "#fb9f3a"
             ],
             [
              0.8888888888888888,
              "#fdca26"
             ],
             [
              1,
              "#f0f921"
             ]
            ],
            "type": "surface"
           }
          ],
          "table": [
           {
            "cells": {
             "fill": {
              "color": "#EBF0F8"
             },
             "line": {
              "color": "white"
             }
            },
            "header": {
             "fill": {
              "color": "#C8D4E3"
             },
             "line": {
              "color": "white"
             }
            },
            "type": "table"
           }
          ]
         },
         "layout": {
          "annotationdefaults": {
           "arrowcolor": "#2a3f5f",
           "arrowhead": 0,
           "arrowwidth": 1
          },
          "autotypenumbers": "strict",
          "coloraxis": {
           "colorbar": {
            "outlinewidth": 0,
            "ticks": ""
           }
          },
          "colorscale": {
           "diverging": [
            [
             0,
             "#8e0152"
            ],
            [
             0.1,
             "#c51b7d"
            ],
            [
             0.2,
             "#de77ae"
            ],
            [
             0.3,
             "#f1b6da"
            ],
            [
             0.4,
             "#fde0ef"
            ],
            [
             0.5,
             "#f7f7f7"
            ],
            [
             0.6,
             "#e6f5d0"
            ],
            [
             0.7,
             "#b8e186"
            ],
            [
             0.8,
             "#7fbc41"
            ],
            [
             0.9,
             "#4d9221"
            ],
            [
             1,
             "#276419"
            ]
           ],
           "sequential": [
            [
             0,
             "#0d0887"
            ],
            [
             0.1111111111111111,
             "#46039f"
            ],
            [
             0.2222222222222222,
             "#7201a8"
            ],
            [
             0.3333333333333333,
             "#9c179e"
            ],
            [
             0.4444444444444444,
             "#bd3786"
            ],
            [
             0.5555555555555556,
             "#d8576b"
            ],
            [
             0.6666666666666666,
             "#ed7953"
            ],
            [
             0.7777777777777778,
             "#fb9f3a"
            ],
            [
             0.8888888888888888,
             "#fdca26"
            ],
            [
             1,
             "#f0f921"
            ]
           ],
           "sequentialminus": [
            [
             0,
             "#0d0887"
            ],
            [
             0.1111111111111111,
             "#46039f"
            ],
            [
             0.2222222222222222,
             "#7201a8"
            ],
            [
             0.3333333333333333,
             "#9c179e"
            ],
            [
             0.4444444444444444,
             "#bd3786"
            ],
            [
             0.5555555555555556,
             "#d8576b"
            ],
            [
             0.6666666666666666,
             "#ed7953"
            ],
            [
             0.7777777777777778,
             "#fb9f3a"
            ],
            [
             0.8888888888888888,
             "#fdca26"
            ],
            [
             1,
             "#f0f921"
            ]
           ]
          },
          "colorway": [
           "#636efa",
           "#EF553B",
           "#00cc96",
           "#ab63fa",
           "#FFA15A",
           "#19d3f3",
           "#FF6692",
           "#B6E880",
           "#FF97FF",
           "#FECB52"
          ],
          "font": {
           "color": "#2a3f5f"
          },
          "geo": {
           "bgcolor": "white",
           "lakecolor": "white",
           "landcolor": "#E5ECF6",
           "showlakes": true,
           "showland": true,
           "subunitcolor": "white"
          },
          "hoverlabel": {
           "align": "left"
          },
          "hovermode": "closest",
          "mapbox": {
           "style": "light"
          },
          "paper_bgcolor": "white",
          "plot_bgcolor": "#E5ECF6",
          "polar": {
           "angularaxis": {
            "gridcolor": "white",
            "linecolor": "white",
            "ticks": ""
           },
           "bgcolor": "#E5ECF6",
           "radialaxis": {
            "gridcolor": "white",
            "linecolor": "white",
            "ticks": ""
           }
          },
          "scene": {
           "xaxis": {
            "backgroundcolor": "#E5ECF6",
            "gridcolor": "white",
            "gridwidth": 2,
            "linecolor": "white",
            "showbackground": true,
            "ticks": "",
            "zerolinecolor": "white"
           },
           "yaxis": {
            "backgroundcolor": "#E5ECF6",
            "gridcolor": "white",
            "gridwidth": 2,
            "linecolor": "white",
            "showbackground": true,
            "ticks": "",
            "zerolinecolor": "white"
           },
           "zaxis": {
            "backgroundcolor": "#E5ECF6",
            "gridcolor": "white",
            "gridwidth": 2,
            "linecolor": "white",
            "showbackground": true,
            "ticks": "",
            "zerolinecolor": "white"
           }
          },
          "shapedefaults": {
           "line": {
            "color": "#2a3f5f"
           }
          },
          "ternary": {
           "aaxis": {
            "gridcolor": "white",
            "linecolor": "white",
            "ticks": ""
           },
           "baxis": {
            "gridcolor": "white",
            "linecolor": "white",
            "ticks": ""
           },
           "bgcolor": "#E5ECF6",
           "caxis": {
            "gridcolor": "white",
            "linecolor": "white",
            "ticks": ""
           }
          },
          "title": {
           "x": 0.05
          },
          "xaxis": {
           "automargin": true,
           "gridcolor": "white",
           "linecolor": "white",
           "ticks": "",
           "title": {
            "standoff": 15
           },
           "zerolinecolor": "white",
           "zerolinewidth": 2
          },
          "yaxis": {
           "automargin": true,
           "gridcolor": "white",
           "linecolor": "white",
           "ticks": "",
           "title": {
            "standoff": 15
           },
           "zerolinecolor": "white",
           "zerolinewidth": 2
          }
         }
        },
        "title": {
         "text": "Scatter Plot of MILES Column with Outlier Boundaries"
        },
        "xaxis": {
         "anchor": "y",
         "domain": [
          0,
          1
         ],
         "title": {
          "text": "index"
         }
        },
        "yaxis": {
         "anchor": "x",
         "domain": [
          0,
          1
         ],
         "title": {
          "text": "MILES"
         }
        }
       }
      },
      "text/html": [
       "<div>                            <div id=\"7af592b2-82f9-4483-80b8-0ff37208399b\" class=\"plotly-graph-div\" style=\"height:525px; width:100%;\"></div>            <script type=\"text/javascript\">                require([\"plotly\"], function(Plotly) {                    window.PLOTLYENV=window.PLOTLYENV || {};                                    if (document.getElementById(\"7af592b2-82f9-4483-80b8-0ff37208399b\")) {                    Plotly.newPlot(                        \"7af592b2-82f9-4483-80b8-0ff37208399b\",                        [{\"hovertemplate\":\"index=%{x}<br>MILES=%{y}<extra></extra>\",\"legendgroup\":\"\",\"marker\":{\"color\":\"#636efa\",\"symbol\":\"circle\"},\"mode\":\"markers\",\"name\":\"\",\"showlegend\":false,\"x\":[0,1,2,3,4,5,6,7,8,9,10,11,12,13,14,15,16,17,18,19,20,21,22,23,24,25,26,27,28,29,30,31,32,33,34,35,36,37,38,39,40,41,42,43,44,45,46,47,48,49,50,51,52,53,54,55,56,57,58,59,60,61,62,63,64,65,66,67,68,69,70,71,72,73,74,75,76,77,78,79,80,81,82,83,84,85,86,87,88,89,90,91,92,93,94,95,96,97,98,99,100,101,102,103,104,105,106,107,108,109,110,111,112,113,114,115,116,117,118,119,120,121,122,123,124,125,126,127,128,129,130,131,132,133,134,135,136,137,138,139,140,141,142,143,144,145,146,147,148,149,150,151,152,153,154,155,156,157,158,159,160,161,162,163,164,165,166,167,168,169,170,171,172,173,174,175,176,177,178,179,180,181,182,183,184,185,186,187,188,189,190,191,192,193,194,195,196,197,198,199,200,201,202,203,204,205,206,207,208,209,210,211,212,213,214,215,216,217,218,219,220,221,222,223,224,225,226,227,228,229,230,231,232,233,234,235,236,237,238,239,240,241,242,243,244,245,246,247,248,249,250,251,252,253,254,255,256,257,258,259,260,261,262,263,264,265,266,267,268,269,270,271,272,273,274,275,276,277,278,279,280,281,282,283,284,285,286,287,288,289,290,291,292,293,294,295,296,297,298,299,300,301,302,303,304,305,306,307,308,309,310,311,312,313,314,315,316,317,318,319,320,321,322,323,324,325,326,327,328,329,330,331,332,333,334,335,336,337,338,339,340,341,342,343,344,345,346,347,348,349,350,351,352,353,354,355,356,357,358,359,360,361,362,363,364,365,366,367,368,369,370,371,372,373,374,375,376,377,378,379,380,381,382,383,384,385,386,387,388,389,390,391,392,393,394,395,396,397,398,399,400,401,402,403,404,405,406,407,408,409,410,411,412,413,414,415,416,417,418,419,420,421,422,423,424,425,426,427,428,429,430,431,432,433,434,435,436,437,438,439,440,441,442,443,444,445,446,447,448,449,450,451,452,453,454,455,456,457,458,459,460,461,462,463,464,465,466,467,468,469,470,471,472,473,474,475,476,477,478,479,480,481,482,483,484,485,486,487,488,489,490,491,493,494,495,496,497,498,499,500,501,502,503,504,505,506,507,508,509,510,511,512,513,514,515,516,517,518,519,520,521,522,523,524,525,526,527,528,529,530,531,532,533,534,535,536,537,538,539,540,541,542,543,544,545,546,547,548,549,550,551,552,553,554,555,556,557,558,559,560,561,562,563,564,565,566,567,568,569,570,571,572,573,574,575,576,577,578,579,580,581,582,583,584,585,586,587,588,589,590,591,592,593,594,595,596,597,598,599,600,601,602,603,604,605,606,607,608,609,610,611,612,613,614,615,616,617,618,619,620,621,622,623,624,625,626,627,628,629,630,631,632,633,634,635,636,637,638,639,640,641,642,643,644,645,646,647,648,649,650,651,652,653,654,655,656,657,658,659,660,661,662,663,664,665,666,667,668,669,670,671,672,673,674,675,676,677,678,679,680,681,682,683,684,685,686,687,688,689,690,691,692,693,694,695,696,697,698,699,700,701,702,703,704,705,706,707,708,709,710,711,712,713,714,715,716,717,718,719,720,721,722,723,724,725,726,727,728,729,730,731,732,733,734,735,736,737,738,739,740,741,742,743,744,745,746,747,748,749,750,751,752,753,754,755,756,757,758,759,760,761,762,763,764,765,766,767,768,769,770,771,772,773,774,775,776,777,778,779,780,781,782,783,784,785,786,787,788,789,790,791,792,793,794,795,796,797,798,799,800,801,802,803,804,805,806,807,808,809,810,811,812,813,814,815,816,817,818,819,820,821,822,823,824,825,826,827,828,829,830,831,832,833,834,835,836,837,838,839,840,841,842,843,844,845,846,847,848,849,850,851,852,853,854,855,856,857,858,859,860,861,862,863,864,865,866,867,868,869,870,871,872,873,874,875,876,877,878,879,880,881,882,883,884,885,886,887,888,889,890,891,892,893,894,895,896,897,898,899,900,901,902,903,904,905,906,907,908,909,910,911,912,913,914,915,916,917,918,919,920,921,922,923,924,925,926,927,928,929,930,931,932,933,934,935,936,937,938,939,940,941,942,943,944,945,946,947,948,949,950,951,952,953,954,955,956,957,958,959,960,961,962,963,964,965,966,967,968,969,970,971,972,973,974,975,976,977,978,979,980,981,982,983,984,985,986,987,988,989,990,991,992,993,994,995,996,997,998,999,1000,1001,1002,1003,1004,1005,1006,1007,1008,1009,1010,1011,1012,1013,1014,1015,1016,1017,1018,1019,1020,1021,1022,1023,1024,1025,1026,1027,1028,1029,1030,1031,1032,1033,1034,1035,1036,1037,1038,1039,1040,1041,1042,1043,1044,1045,1046,1047,1048,1049,1050,1051,1052,1053,1054,1055,1056,1057,1058,1059,1060,1061,1062,1063,1064,1065,1066,1067,1068,1069,1070,1071,1072,1073,1074,1075,1076,1077,1078,1079,1080,1081,1082,1083,1084,1085,1086,1087,1088,1089,1090,1091,1092,1093,1094,1095,1096,1097,1098,1099,1100,1101,1102,1103,1104,1105,1106,1107,1108,1109,1110,1111,1112,1113,1114,1115,1116,1117,1118,1119,1120,1121,1122,1123,1124,1125,1126,1127,1128,1129,1130,1131,1132,1133,1134,1135,1136,1137,1138,1139,1140,1141,1142,1143,1144,1145,1146,1147,1148,1149,1150,1151,1152,1153,1154],\"xaxis\":\"x\",\"y\":[5.1,5.0,4.8,4.7,63.7,4.3,7.1,0.8,8.3,16.5,10.8,7.5,6.2,6.4,1.6,1.7,1.9,1.9,4.0,1.8,2.4,2.0,15.1,11.2,11.8,21.9,3.9,8.0,10.4,10.4,4.8,4.7,7.2,7.6,17.1,15.1,40.2,1.6,2.4,1.0,2.0,2.3,1.9,1.4,0.5,1.8,18.7,3.4,2.7,12.9,19.0,14.7,15.7,4.6,5.2,10.4,10.1,5.8,5.5,5.7,5.7,19.4,23.3,3.9,8.3,6.0,1.6,5.2,9.7,1.6,1.1,1.6,9.0,7.7,10.4,10.4,11.4,9.0,3.2,5.6,5.7,6.1,6.1,4.3,2.7,5.3,3.0,5.1,1.5,6.1,6.1,17.3,5.7,13.5,6.1,8.5,2.6,17.0,18.0,8.4,11.5,8.9,2.7,1.8,8.1,2.0,13.0,13.9,43.7,14.1,2.6,4.5,1.7,1.8,6.0,1.1,3.6,14.7,1.7,21.4,0.5,23.5,12.7,6.0,5.2,10.0,18.3,11.2,7.6,1.5,1.0,7.3,3.5,4.2,13.6,2.5,14.4,3.0,1.5,18.4,23.1,16.5,3.2,7.7,14.5,2.4,4.6,8.8,8.3,22.7,13.0,8.1,2.2,9.7,20.0,8.1,1.5,1.7,3.1,3.2,6.0,5.8,6.3,1.7,10.6,9.9,1.9,4.2,2.0,7.7,6.8,2.1,3.8,5.6,2.6,6.6,8.0,8.0,2.2,2.3,5.2,7.6,17.3,9.9,9.9,10.4,10.9,15.7,4.9,0.8,13.5,1.9,2.0,6.5,4.2,3.5,7.8,7.8,3.9,2.8,12.4,5.9,9.4,11.9,7.2,7.6,1.6,8.4,12.8,2.3,1.6,2.0,0.8,1.2,1.0,2.1,2.2,1.9,5.7,8.4,6.2,10.5,7.2,12.5,2.0,2.7,2.0,2.8,1.7,2.0,2.1,1.7,136.0,30.2,15.5,4.9,12.6,10.4,1.1,1.1,13.2,1.0,9.2,9.4,12.0,35.1,36.5,3.1,2.1,1.2,7.5,57.0,5.9,6.2,10.4,1.2,9.6,1.0,0.9,8.8,25.6,23.0,8.1,1.4,1.7,1.6,2.0,2.2,144.0,310.3,201.0,6.7,8.8,1.2,2.1,6.6,6.1,6.9,7.3,3.6,27.2,25.7,13.6,6.2,6.0,13.8,28.8,16.1,16.4,11.0,15.5,20.3,0.7,5.5,5.1,77.3,80.5,174.2,144.0,159.3,7.9,8.0,6.1,6.1,10.5,8.7,1.8,19.1,18.6,2.8,8.9,7.5,15.9,6.5,15.3,13.7,11.9,1.4,15.2,6.0,6.1,8.2,8.0,13.6,22.5,10.4,10.0,6.0,6.5,3.1,1.9,4.2,4.9,4.8,12.4,32.8,5.5,9.9,10.0,14.2,18.2,7.7,6.8,2.1,2.3,6.2,7.5,3.1,2.2,3.9,2.5,8.7,14.5,4.5,5.0,14.2,2.9,12.9,14.4,17.0,7.9,8.4,20.5,9.8,17.6,9.3,7.9,25.6,8.1,3.1,3.1,2.8,2.7,1.9,8.4,7.6,2.9,11.2,8.2,3.0,2.5,3.6,3.6,4.5,1.2,1.7,4.7,6.1,11.3,14.9,14.0,1.8,6.7,9.6,10.4,9.9,6.0,3.3,3.1,1.7,4.0,7.8,7.8,3.8,2.5,9.9,9.9,3.0,2.4,5.7,7.2,10.4,9.9,10.4,9.9,8.7,22.3,3.3,0.7,2.5,0.5,0.9,4.8,16.3,10.4,9.9,3.7,4.6,1.7,10.4,9.9,2.5,4.3,2.8,8.4,13.2,3.9,5.1,5.2,9.8,11.6,5.1,9.3,12.4,1.9,6.4,5.5,1.5,14.5,2.7,15.0,12.9,13.6,12.2,8.7,6.0,5.9,19.3,16.6,7.1,2.1,8.6,9.0,3.1,8.4,12.8,4.5,11.8,1.1,17.0,1.7,15.5,1.6,1.5,12.6,4.8,2.2,13.0,46.9,2.5,8.6,5.2,7.6,1.8,4.7,2.8,30.0,4.4,1.0,8.2,10.4,9.9,7.3,7.4,1.6,1.8,10.4,9.9,9.9,9.9,13.3,11.3,10.5,9.9,10.1,9.9,3.1,3.1,9.9,9.9,8.8,8.7,11.8,1.2,9.9,0.6,9.9,8.6,6.3,9.9,9.9,3.3,3.1,7.9,8.9,12.8,7.7,7.0,12.5,13.2,13.0,4.9,8.5,1.3,1.8,13.6,13.4,12.3,1.4,8.7,23.5,2.2,4.4,3.3,11.8,195.3,8.3,3.2,22.4,12.2,4.5,28.1,3.8,41.9,23.8,13.0,4.4,15.1,180.2,4.1,6.1,3.3,4.7,7.2,5.5,3.3,0.9,3.8,6.4,3.0,8.7,3.9,4.8,2.8,1.4,1.4,2.7,2.3,3.7,2.9,3.8,5.1,9.1,8.0,9.9,6.1,12.2,8.0,4.0,9.5,3.0,6.3,10.4,9.9,1.5,4.9,7.9,1.7,2.2,2.1,2.5,2.5,2.8,14.7,14.6,2.3,2.2,2.2,14.0,13.3,1.8,6.2,1.3,1.9,6.9,4.6,2.8,9.1,8.1,8.4,4.9,1.0,1.0,2.0,1.1,1.5,1.3,1.8,1.5,6.6,8.0,2.7,2.7,2.5,2.5,5.2,4.0,2.7,4.8,3.2,6.9,14.9,17.4,12.9,15.3,1.0,6.0,2.2,4.4,2.8,31.7,31.9,1.9,1.8,8.4,15.6,14.1,15.7,25.9,7.9,2.7,5.5,5.7,1.2,5.7,16.2,2.6,12.1,1.4,6.4,7.3,5.3,5.5,7.7,7.6,7.6,3.3,6.5,2.0,5.7,3.2,12.5,7.6,7.7,12.2,1.4,20.2,9.8,6.3,4.9,1.5,10.9,19.0,19.0,7.9,4.1,18.7,8.7,7.5,7.7,4.4,5.0,1.9,7.9,17.7,25.2,96.2,35.0,5.5,50.4,9.2,7.3,5.0,3.8,3.9,7.4,1.5,7.9,2.9,3.4,3.8,5.9,9.6,7.0,0.9,86.6,156.9,10.1,6.2,5.3,12.1,10.8,4.3,2.5,5.7,2.8,4.0,5.5,2.6,2.1,8.8,4.4,5.3,13.0,13.0,10.6,2.2,9.2,12.9,17.2,69.1,2.8,8.6,9.8,3.6,1.7,11.5,0.7,0.7,0.9,1.6,9.4,18.2,10.5,5.7,18.0,18.3,16.5,9.6,2.9,8.2,2.4,5.8,9.8,7.3,195.6,20.5,12.6,37.7,16.7,10.5,2.8,1.6,12.7,28.6,15.1,17.9,112.6,18.4,13.8,33.2,2.6,5.8,8.3,2.4,3.1,6.1,3.6,8.0,7.7,1.7,9.5,17.1,18.4,9.8,1.0,0.7,2.3,10.9,12.7,12.4,3.8,17.0,6.2,3.1,10.5,8.1,3.1,2.1,4.3,2.5,20.6,17.6,5.6,3.3,5.3,3.3,3.3,7.9,13.0,3.0,3.0,3.8,9.5,1.7,10.8,4.1,2.2,4.6,3.1,47.7,44.6,13.2,8.7,17.2,14.0,28.1,28.2,3.1,3.1,16.4,15.4,2.2,11.2,2.2,3.6,3.6,4.9,8.7,2.1,2.1,8.4,5.9,12.1,3.9,6.2,10.4,9.9,107.0,133.6,91.8,40.7,75.7,29.8,16.3,6.5,6.3,6.6,15.2,68.4,195.9,45.2,3.2,10.3,13.1,9.6,16.5,12.8,1.2,1.0,4.1,4.2,1.4,1.8,8.5,5.0,3.8,2.5,2.4,1.4,1.8,3.1,3.1,7.9,3.8,4.3,3.9,2.2,2.8,2.2,2.4,2.8,43.9,1.8,3.3,11.8,13.2,12.2,11.3,3.6,3.0,11.4,0.9,6.2,0.7,5.5,12.7,2.6,1.1,12.6,1.2,1.1,9.9,6.0,0.8,45.9,4.0,2.5,36.6,2.9,2.6,2.3,6.4,1.4,0.6,5.9,0.8,1.3,3.7,2.3,2.6,1.9,2.1,4.0,0.9,0.9,2.4,1.9,1.9,44.6,43.6,2.5,3.7,5.1,9.7,11.8,2.3,3.1,16.3,3.1,5.2,6.1,10.3,10.5,1.5,1.8,5.4,5.4,39.2,6.4,2.7,18.5,2.5,2.1,6.7,3.5,3.4,5.5,4.1,12.7,3.0,3.5,5.9,1.9,3.3,1.3,10.3,11.1,1.4,5.1,9.0,13.3,2.5,3.3,2.9,8.5,6.7,3.1,5.5,5.5,2.9,2.9,5.1,5.3,3.3,3.0,6.6,1.8,3.0,2.9,3.4,4.1,3.8,6.6,4.0,7.0,6.9,3.4,3.4,2.0,2.0,5.1,8.8,5.6,18.9,15.6,15.6,3.0,3.1,3.0,4.8,2.1,3.1,4.4,4.7,3.0,3.0,4.2,4.1,3.4,3.3,3.0,3.1,10.6,4.8,5.3,4.9,10.2,9.2,7.7,5.9,0.7,1.3,2.5,5.3,5.4,10.2,7.2,2.2,11.0,12.0,3.3,19.4,1.7,5.7,1.8,1.4,10.3,11.5,4.9,3.5,16.2,2.0,2.1,2.1,7.2,12.0,103.0,32.3,5.3,11.6,23.2,3.2,12.3,14.0,2.1,2.1,3.0,6.2,9.6,1.3,7.1,6.3,10.7,5.3,1.6,3.6,1.7,2.9,0.6,0.6,2.3,2.3,3.2,6.2,7.7,3.8,7.9,4.9,5.0,0.6,3.1,7.9,5.5,10.3,10.4,2.0,8.5,4.4,3.8,5.1,3.8,11.6,11.9,1.4,1.1,4.1,6.1,1.3,3.0,4.1,7.2,6.4,12.9,2.8,2.9,4.6,4.6,0.8,0.7,3.9,16.2,6.4,48.2],\"yaxis\":\"y\",\"type\":\"scattergl\"}],                        {\"template\":{\"data\":{\"histogram2dcontour\":[{\"type\":\"histogram2dcontour\",\"colorbar\":{\"outlinewidth\":0,\"ticks\":\"\"},\"colorscale\":[[0.0,\"#0d0887\"],[0.1111111111111111,\"#46039f\"],[0.2222222222222222,\"#7201a8\"],[0.3333333333333333,\"#9c179e\"],[0.4444444444444444,\"#bd3786\"],[0.5555555555555556,\"#d8576b\"],[0.6666666666666666,\"#ed7953\"],[0.7777777777777778,\"#fb9f3a\"],[0.8888888888888888,\"#fdca26\"],[1.0,\"#f0f921\"]]}],\"choropleth\":[{\"type\":\"choropleth\",\"colorbar\":{\"outlinewidth\":0,\"ticks\":\"\"}}],\"histogram2d\":[{\"type\":\"histogram2d\",\"colorbar\":{\"outlinewidth\":0,\"ticks\":\"\"},\"colorscale\":[[0.0,\"#0d0887\"],[0.1111111111111111,\"#46039f\"],[0.2222222222222222,\"#7201a8\"],[0.3333333333333333,\"#9c179e\"],[0.4444444444444444,\"#bd3786\"],[0.5555555555555556,\"#d8576b\"],[0.6666666666666666,\"#ed7953\"],[0.7777777777777778,\"#fb9f3a\"],[0.8888888888888888,\"#fdca26\"],[1.0,\"#f0f921\"]]}],\"heatmap\":[{\"type\":\"heatmap\",\"colorbar\":{\"outlinewidth\":0,\"ticks\":\"\"},\"colorscale\":[[0.0,\"#0d0887\"],[0.1111111111111111,\"#46039f\"],[0.2222222222222222,\"#7201a8\"],[0.3333333333333333,\"#9c179e\"],[0.4444444444444444,\"#bd3786\"],[0.5555555555555556,\"#d8576b\"],[0.6666666666666666,\"#ed7953\"],[0.7777777777777778,\"#fb9f3a\"],[0.8888888888888888,\"#fdca26\"],[1.0,\"#f0f921\"]]}],\"heatmapgl\":[{\"type\":\"heatmapgl\",\"colorbar\":{\"outlinewidth\":0,\"ticks\":\"\"},\"colorscale\":[[0.0,\"#0d0887\"],[0.1111111111111111,\"#46039f\"],[0.2222222222222222,\"#7201a8\"],[0.3333333333333333,\"#9c179e\"],[0.4444444444444444,\"#bd3786\"],[0.5555555555555556,\"#d8576b\"],[0.6666666666666666,\"#ed7953\"],[0.7777777777777778,\"#fb9f3a\"],[0.8888888888888888,\"#fdca26\"],[1.0,\"#f0f921\"]]}],\"contourcarpet\":[{\"type\":\"contourcarpet\",\"colorbar\":{\"outlinewidth\":0,\"ticks\":\"\"}}],\"contour\":[{\"type\":\"contour\",\"colorbar\":{\"outlinewidth\":0,\"ticks\":\"\"},\"colorscale\":[[0.0,\"#0d0887\"],[0.1111111111111111,\"#46039f\"],[0.2222222222222222,\"#7201a8\"],[0.3333333333333333,\"#9c179e\"],[0.4444444444444444,\"#bd3786\"],[0.5555555555555556,\"#d8576b\"],[0.6666666666666666,\"#ed7953\"],[0.7777777777777778,\"#fb9f3a\"],[0.8888888888888888,\"#fdca26\"],[1.0,\"#f0f921\"]]}],\"surface\":[{\"type\":\"surface\",\"colorbar\":{\"outlinewidth\":0,\"ticks\":\"\"},\"colorscale\":[[0.0,\"#0d0887\"],[0.1111111111111111,\"#46039f\"],[0.2222222222222222,\"#7201a8\"],[0.3333333333333333,\"#9c179e\"],[0.4444444444444444,\"#bd3786\"],[0.5555555555555556,\"#d8576b\"],[0.6666666666666666,\"#ed7953\"],[0.7777777777777778,\"#fb9f3a\"],[0.8888888888888888,\"#fdca26\"],[1.0,\"#f0f921\"]]}],\"mesh3d\":[{\"type\":\"mesh3d\",\"colorbar\":{\"outlinewidth\":0,\"ticks\":\"\"}}],\"scatter\":[{\"fillpattern\":{\"fillmode\":\"overlay\",\"size\":10,\"solidity\":0.2},\"type\":\"scatter\"}],\"parcoords\":[{\"type\":\"parcoords\",\"line\":{\"colorbar\":{\"outlinewidth\":0,\"ticks\":\"\"}}}],\"scatterpolargl\":[{\"type\":\"scatterpolargl\",\"marker\":{\"colorbar\":{\"outlinewidth\":0,\"ticks\":\"\"}}}],\"bar\":[{\"error_x\":{\"color\":\"#2a3f5f\"},\"error_y\":{\"color\":\"#2a3f5f\"},\"marker\":{\"line\":{\"color\":\"#E5ECF6\",\"width\":0.5},\"pattern\":{\"fillmode\":\"overlay\",\"size\":10,\"solidity\":0.2}},\"type\":\"bar\"}],\"scattergeo\":[{\"type\":\"scattergeo\",\"marker\":{\"colorbar\":{\"outlinewidth\":0,\"ticks\":\"\"}}}],\"scatterpolar\":[{\"type\":\"scatterpolar\",\"marker\":{\"colorbar\":{\"outlinewidth\":0,\"ticks\":\"\"}}}],\"histogram\":[{\"marker\":{\"pattern\":{\"fillmode\":\"overlay\",\"size\":10,\"solidity\":0.2}},\"type\":\"histogram\"}],\"scattergl\":[{\"type\":\"scattergl\",\"marker\":{\"colorbar\":{\"outlinewidth\":0,\"ticks\":\"\"}}}],\"scatter3d\":[{\"type\":\"scatter3d\",\"line\":{\"colorbar\":{\"outlinewidth\":0,\"ticks\":\"\"}},\"marker\":{\"colorbar\":{\"outlinewidth\":0,\"ticks\":\"\"}}}],\"scattermapbox\":[{\"type\":\"scattermapbox\",\"marker\":{\"colorbar\":{\"outlinewidth\":0,\"ticks\":\"\"}}}],\"scatterternary\":[{\"type\":\"scatterternary\",\"marker\":{\"colorbar\":{\"outlinewidth\":0,\"ticks\":\"\"}}}],\"scattercarpet\":[{\"type\":\"scattercarpet\",\"marker\":{\"colorbar\":{\"outlinewidth\":0,\"ticks\":\"\"}}}],\"carpet\":[{\"aaxis\":{\"endlinecolor\":\"#2a3f5f\",\"gridcolor\":\"white\",\"linecolor\":\"white\",\"minorgridcolor\":\"white\",\"startlinecolor\":\"#2a3f5f\"},\"baxis\":{\"endlinecolor\":\"#2a3f5f\",\"gridcolor\":\"white\",\"linecolor\":\"white\",\"minorgridcolor\":\"white\",\"startlinecolor\":\"#2a3f5f\"},\"type\":\"carpet\"}],\"table\":[{\"cells\":{\"fill\":{\"color\":\"#EBF0F8\"},\"line\":{\"color\":\"white\"}},\"header\":{\"fill\":{\"color\":\"#C8D4E3\"},\"line\":{\"color\":\"white\"}},\"type\":\"table\"}],\"barpolar\":[{\"marker\":{\"line\":{\"color\":\"#E5ECF6\",\"width\":0.5},\"pattern\":{\"fillmode\":\"overlay\",\"size\":10,\"solidity\":0.2}},\"type\":\"barpolar\"}],\"pie\":[{\"automargin\":true,\"type\":\"pie\"}]},\"layout\":{\"autotypenumbers\":\"strict\",\"colorway\":[\"#636efa\",\"#EF553B\",\"#00cc96\",\"#ab63fa\",\"#FFA15A\",\"#19d3f3\",\"#FF6692\",\"#B6E880\",\"#FF97FF\",\"#FECB52\"],\"font\":{\"color\":\"#2a3f5f\"},\"hovermode\":\"closest\",\"hoverlabel\":{\"align\":\"left\"},\"paper_bgcolor\":\"white\",\"plot_bgcolor\":\"#E5ECF6\",\"polar\":{\"bgcolor\":\"#E5ECF6\",\"angularaxis\":{\"gridcolor\":\"white\",\"linecolor\":\"white\",\"ticks\":\"\"},\"radialaxis\":{\"gridcolor\":\"white\",\"linecolor\":\"white\",\"ticks\":\"\"}},\"ternary\":{\"bgcolor\":\"#E5ECF6\",\"aaxis\":{\"gridcolor\":\"white\",\"linecolor\":\"white\",\"ticks\":\"\"},\"baxis\":{\"gridcolor\":\"white\",\"linecolor\":\"white\",\"ticks\":\"\"},\"caxis\":{\"gridcolor\":\"white\",\"linecolor\":\"white\",\"ticks\":\"\"}},\"coloraxis\":{\"colorbar\":{\"outlinewidth\":0,\"ticks\":\"\"}},\"colorscale\":{\"sequential\":[[0.0,\"#0d0887\"],[0.1111111111111111,\"#46039f\"],[0.2222222222222222,\"#7201a8\"],[0.3333333333333333,\"#9c179e\"],[0.4444444444444444,\"#bd3786\"],[0.5555555555555556,\"#d8576b\"],[0.6666666666666666,\"#ed7953\"],[0.7777777777777778,\"#fb9f3a\"],[0.8888888888888888,\"#fdca26\"],[1.0,\"#f0f921\"]],\"sequentialminus\":[[0.0,\"#0d0887\"],[0.1111111111111111,\"#46039f\"],[0.2222222222222222,\"#7201a8\"],[0.3333333333333333,\"#9c179e\"],[0.4444444444444444,\"#bd3786\"],[0.5555555555555556,\"#d8576b\"],[0.6666666666666666,\"#ed7953\"],[0.7777777777777778,\"#fb9f3a\"],[0.8888888888888888,\"#fdca26\"],[1.0,\"#f0f921\"]],\"diverging\":[[0,\"#8e0152\"],[0.1,\"#c51b7d\"],[0.2,\"#de77ae\"],[0.3,\"#f1b6da\"],[0.4,\"#fde0ef\"],[0.5,\"#f7f7f7\"],[0.6,\"#e6f5d0\"],[0.7,\"#b8e186\"],[0.8,\"#7fbc41\"],[0.9,\"#4d9221\"],[1,\"#276419\"]]},\"xaxis\":{\"gridcolor\":\"white\",\"linecolor\":\"white\",\"ticks\":\"\",\"title\":{\"standoff\":15},\"zerolinecolor\":\"white\",\"automargin\":true,\"zerolinewidth\":2},\"yaxis\":{\"gridcolor\":\"white\",\"linecolor\":\"white\",\"ticks\":\"\",\"title\":{\"standoff\":15},\"zerolinecolor\":\"white\",\"automargin\":true,\"zerolinewidth\":2},\"scene\":{\"xaxis\":{\"backgroundcolor\":\"#E5ECF6\",\"gridcolor\":\"white\",\"linecolor\":\"white\",\"showbackground\":true,\"ticks\":\"\",\"zerolinecolor\":\"white\",\"gridwidth\":2},\"yaxis\":{\"backgroundcolor\":\"#E5ECF6\",\"gridcolor\":\"white\",\"linecolor\":\"white\",\"showbackground\":true,\"ticks\":\"\",\"zerolinecolor\":\"white\",\"gridwidth\":2},\"zaxis\":{\"backgroundcolor\":\"#E5ECF6\",\"gridcolor\":\"white\",\"linecolor\":\"white\",\"showbackground\":true,\"ticks\":\"\",\"zerolinecolor\":\"white\",\"gridwidth\":2}},\"shapedefaults\":{\"line\":{\"color\":\"#2a3f5f\"}},\"annotationdefaults\":{\"arrowcolor\":\"#2a3f5f\",\"arrowhead\":0,\"arrowwidth\":1},\"geo\":{\"bgcolor\":\"white\",\"landcolor\":\"#E5ECF6\",\"subunitcolor\":\"white\",\"showland\":true,\"showlakes\":true,\"lakecolor\":\"white\"},\"title\":{\"x\":0.05},\"mapbox\":{\"style\":\"light\"}}},\"xaxis\":{\"anchor\":\"y\",\"domain\":[0.0,1.0],\"title\":{\"text\":\"index\"}},\"yaxis\":{\"anchor\":\"x\",\"domain\":[0.0,1.0],\"title\":{\"text\":\"MILES\"}},\"legend\":{\"tracegroupgap\":0},\"title\":{\"text\":\"Scatter Plot of MILES Column with Outlier Boundaries\"},\"shapes\":[{\"line\":{\"color\":\"red\",\"dash\":\"dash\"},\"type\":\"line\",\"x0\":0,\"x1\":1153,\"y0\":-8.35,\"y1\":-8.35},{\"line\":{\"color\":\"red\",\"dash\":\"dash\"},\"type\":\"line\",\"x0\":0,\"x1\":1153,\"y0\":21.65,\"y1\":21.65}]},                        {\"responsive\": true}                    ).then(function(){\n",
       "                            \n",
       "var gd = document.getElementById('7af592b2-82f9-4483-80b8-0ff37208399b');\n",
       "var x = new MutationObserver(function (mutations, observer) {{\n",
       "        var display = window.getComputedStyle(gd).display;\n",
       "        if (!display || display === 'none') {{\n",
       "            console.log([gd, 'removed!']);\n",
       "            Plotly.purge(gd);\n",
       "            observer.disconnect();\n",
       "        }}\n",
       "}});\n",
       "\n",
       "// Listen for the removal of the full notebook cells\n",
       "var notebookContainer = gd.closest('#notebook-container');\n",
       "if (notebookContainer) {{\n",
       "    x.observe(notebookContainer, {childList: true});\n",
       "}}\n",
       "\n",
       "// Listen for the clearing of the current output cell\n",
       "var outputEl = gd.closest('.output');\n",
       "if (outputEl) {{\n",
       "    x.observe(outputEl, {childList: true});\n",
       "}}\n",
       "\n",
       "                        })                };                });            </script>        </div>"
      ]
     },
     "metadata": {},
     "output_type": "display_data"
    }
   ],
   "source": [
    "# Calculate the Interquartile Range (IQR)\n",
    "Q1 = df['MILES'].quantile(0.25)\n",
    "Q3 = df['MILES'].quantile(0.75)\n",
    "IQR = Q3 - Q1\n",
    "\n",
    "# Define the outlier boundaries\n",
    "lower_bound = Q1 - 1.5 * IQR\n",
    "upper_bound = Q3 + 1.5 * IQR\n",
    "\n",
    "# Create a box plot using Plotly\n",
    "fig_box = px.box(df, y='MILES', title='Box Plot of MILES Column')\n",
    "fig_box.show()\n",
    "\n",
    "# Step 4: Create a scatter plot using Plotly\n",
    "fig_scatter = px.scatter(df, x=df.index, y='MILES', title='Scatter Plot of MILES Column with Outlier Boundaries')\n",
    "fig_scatter.add_shape(type='line', x0=0, y0=lower_bound, x1=len(df)-1, y1=lower_bound, line=dict(color='red', dash='dash'))\n",
    "fig_scatter.add_shape(type='line', x0=0, y0=upper_bound, x1=len(df)-1, y1=upper_bound, line=dict(color='red', dash='dash'))\n",
    "fig_scatter.show()"
   ]
  },
  {
   "cell_type": "code",
   "execution_count": 49,
   "id": "d74f65e3",
   "metadata": {},
   "outputs": [],
   "source": [
    "df_cleaned = df[(df['MILES'] >= lower_bound) & (df['MILES'] <= upper_bound)]"
   ]
  },
  {
   "cell_type": "markdown",
   "id": "7727572d",
   "metadata": {},
   "source": [
    "# Exploratory Data Analysis (EDA)"
   ]
  },
  {
   "cell_type": "code",
   "execution_count": 50,
   "id": "b51279da",
   "metadata": {},
   "outputs": [
    {
     "data": {
      "application/vnd.plotly.v1+json": {
       "config": {
        "plotlyServerURL": "https://plot.ly"
       },
       "data": [
        {
         "alignmentgroup": "True",
         "bingroup": "x",
         "hovertemplate": "MILES=%{x}<br>count=%{y}<extra></extra>",
         "legendgroup": "",
         "marker": {
          "color": "#636efa",
          "pattern": {
           "shape": ""
          }
         },
         "name": "",
         "nbinsx": 20,
         "offsetgroup": "",
         "orientation": "v",
         "showlegend": false,
         "type": "histogram",
         "x": [
          5.1,
          5,
          4.8,
          4.7,
          4.3,
          7.1,
          0.8,
          8.3,
          16.5,
          10.8,
          7.5,
          6.2,
          6.4,
          1.6,
          1.7,
          1.9,
          1.9,
          4,
          1.8,
          2.4,
          2,
          15.1,
          11.2,
          11.8,
          3.9,
          8,
          10.4,
          10.4,
          4.8,
          4.7,
          7.2,
          7.6,
          17.1,
          15.1,
          1.6,
          2.4,
          1,
          2,
          2.3,
          1.9,
          1.4,
          0.5,
          1.8,
          18.7,
          3.4,
          2.7,
          12.9,
          19,
          14.7,
          15.7,
          4.6,
          5.2,
          10.4,
          10.1,
          5.8,
          5.5,
          5.7,
          5.7,
          19.4,
          3.9,
          8.3,
          6,
          1.6,
          5.2,
          9.7,
          1.6,
          1.1,
          1.6,
          9,
          7.7,
          10.4,
          10.4,
          11.4,
          9,
          3.2,
          5.6,
          5.7,
          6.1,
          6.1,
          4.3,
          2.7,
          5.3,
          3,
          5.1,
          1.5,
          6.1,
          6.1,
          17.3,
          5.7,
          13.5,
          6.1,
          8.5,
          2.6,
          17,
          18,
          8.4,
          11.5,
          8.9,
          2.7,
          1.8,
          8.1,
          2,
          13,
          13.9,
          14.1,
          2.6,
          4.5,
          1.7,
          1.8,
          6,
          1.1,
          3.6,
          14.7,
          1.7,
          21.4,
          0.5,
          12.7,
          6,
          5.2,
          10,
          18.3,
          11.2,
          7.6,
          1.5,
          1,
          7.3,
          3.5,
          4.2,
          13.6,
          2.5,
          14.4,
          3,
          1.5,
          18.4,
          16.5,
          3.2,
          7.7,
          14.5,
          2.4,
          4.6,
          8.8,
          8.3,
          13,
          8.1,
          2.2,
          9.7,
          20,
          8.1,
          1.5,
          1.7,
          3.1,
          3.2,
          6,
          5.8,
          6.3,
          1.7,
          10.6,
          9.9,
          1.9,
          4.2,
          2,
          7.7,
          6.8,
          2.1,
          3.8,
          5.6,
          2.6,
          6.6,
          8,
          8,
          2.2,
          2.3,
          5.2,
          7.6,
          17.3,
          9.9,
          9.9,
          10.4,
          10.9,
          15.7,
          4.9,
          0.8,
          13.5,
          1.9,
          2,
          6.5,
          4.2,
          3.5,
          7.8,
          7.8,
          3.9,
          2.8,
          12.4,
          5.9,
          9.4,
          11.9,
          7.2,
          7.6,
          1.6,
          8.4,
          12.8,
          2.3,
          1.6,
          2,
          0.8,
          1.2,
          1,
          2.1,
          2.2,
          1.9,
          5.7,
          8.4,
          6.2,
          10.5,
          7.2,
          12.5,
          2,
          2.7,
          2,
          2.8,
          1.7,
          2,
          2.1,
          1.7,
          15.5,
          4.9,
          12.6,
          10.4,
          1.1,
          1.1,
          13.2,
          1,
          9.2,
          9.4,
          12,
          3.1,
          2.1,
          1.2,
          7.5,
          5.9,
          6.2,
          10.4,
          1.2,
          9.6,
          1,
          0.9,
          8.8,
          8.1,
          1.4,
          1.7,
          1.6,
          2,
          2.2,
          6.7,
          8.8,
          1.2,
          2.1,
          6.6,
          6.1,
          6.9,
          7.3,
          3.6,
          13.6,
          6.2,
          6,
          13.8,
          16.1,
          16.4,
          11,
          15.5,
          20.3,
          0.7,
          5.5,
          5.1,
          7.9,
          8,
          6.1,
          6.1,
          10.5,
          8.7,
          1.8,
          19.1,
          18.6,
          2.8,
          8.9,
          7.5,
          15.9,
          6.5,
          15.3,
          13.7,
          11.9,
          1.4,
          15.2,
          6,
          6.1,
          8.2,
          8,
          13.6,
          10.4,
          10,
          6,
          6.5,
          3.1,
          1.9,
          4.2,
          4.9,
          4.8,
          12.4,
          5.5,
          9.9,
          10,
          14.2,
          18.2,
          7.7,
          6.8,
          2.1,
          2.3,
          6.2,
          7.5,
          3.1,
          2.2,
          3.9,
          2.5,
          8.7,
          14.5,
          4.5,
          5,
          14.2,
          2.9,
          12.9,
          14.4,
          17,
          7.9,
          8.4,
          20.5,
          9.8,
          17.6,
          9.3,
          7.9,
          8.1,
          3.1,
          3.1,
          2.8,
          2.7,
          1.9,
          8.4,
          7.6,
          2.9,
          11.2,
          8.2,
          3,
          2.5,
          3.6,
          3.6,
          4.5,
          1.2,
          1.7,
          4.7,
          6.1,
          11.3,
          14.9,
          14,
          1.8,
          6.7,
          9.6,
          10.4,
          9.9,
          6,
          3.3,
          3.1,
          1.7,
          4,
          7.8,
          7.8,
          3.8,
          2.5,
          9.9,
          9.9,
          3,
          2.4,
          5.7,
          7.2,
          10.4,
          9.9,
          10.4,
          9.9,
          8.7,
          3.3,
          0.7,
          2.5,
          0.5,
          0.9,
          4.8,
          16.3,
          10.4,
          9.9,
          3.7,
          4.6,
          1.7,
          10.4,
          9.9,
          2.5,
          4.3,
          2.8,
          8.4,
          13.2,
          3.9,
          5.1,
          5.2,
          9.8,
          11.6,
          5.1,
          9.3,
          12.4,
          1.9,
          6.4,
          5.5,
          1.5,
          14.5,
          2.7,
          15,
          12.9,
          13.6,
          12.2,
          8.7,
          6,
          5.9,
          19.3,
          16.6,
          7.1,
          2.1,
          8.6,
          9,
          3.1,
          8.4,
          12.8,
          4.5,
          11.8,
          1.1,
          17,
          1.7,
          15.5,
          1.6,
          1.5,
          12.6,
          4.8,
          2.2,
          13,
          2.5,
          8.6,
          5.2,
          7.6,
          1.8,
          4.7,
          2.8,
          4.4,
          1,
          8.2,
          10.4,
          9.9,
          7.3,
          7.4,
          1.6,
          1.8,
          10.4,
          9.9,
          9.9,
          9.9,
          13.3,
          11.3,
          10.5,
          9.9,
          10.1,
          9.9,
          3.1,
          3.1,
          9.9,
          9.9,
          8.8,
          8.7,
          11.8,
          1.2,
          9.9,
          0.6,
          9.9,
          8.6,
          6.3,
          9.9,
          9.9,
          3.3,
          3.1,
          7.9,
          8.9,
          12.8,
          7.7,
          7,
          12.5,
          13.2,
          13,
          4.9,
          8.5,
          1.3,
          1.8,
          13.6,
          13.4,
          12.3,
          1.4,
          8.7,
          2.2,
          4.4,
          3.3,
          11.8,
          8.3,
          3.2,
          12.2,
          4.5,
          3.8,
          13,
          4.4,
          15.1,
          4.1,
          6.1,
          3.3,
          4.7,
          7.2,
          5.5,
          3.3,
          0.9,
          3.8,
          6.4,
          3,
          8.7,
          3.9,
          4.8,
          2.8,
          1.4,
          1.4,
          2.7,
          2.3,
          3.7,
          2.9,
          3.8,
          5.1,
          9.1,
          8,
          9.9,
          6.1,
          12.2,
          8,
          4,
          9.5,
          3,
          6.3,
          10.4,
          9.9,
          1.5,
          4.9,
          7.9,
          1.7,
          2.2,
          2.1,
          2.5,
          2.5,
          2.8,
          14.7,
          14.6,
          2.3,
          2.2,
          2.2,
          14,
          13.3,
          1.8,
          6.2,
          1.3,
          1.9,
          6.9,
          4.6,
          2.8,
          9.1,
          8.1,
          8.4,
          4.9,
          1,
          1,
          2,
          1.1,
          1.5,
          1.3,
          1.8,
          1.5,
          6.6,
          8,
          2.7,
          2.7,
          2.5,
          2.5,
          5.2,
          4,
          2.7,
          4.8,
          3.2,
          6.9,
          14.9,
          17.4,
          12.9,
          15.3,
          1,
          6,
          2.2,
          4.4,
          2.8,
          1.9,
          1.8,
          8.4,
          15.6,
          14.1,
          15.7,
          7.9,
          2.7,
          5.5,
          5.7,
          1.2,
          5.7,
          16.2,
          2.6,
          12.1,
          1.4,
          6.4,
          7.3,
          5.3,
          5.5,
          7.7,
          7.6,
          7.6,
          3.3,
          6.5,
          2,
          5.7,
          3.2,
          12.5,
          7.6,
          7.7,
          12.2,
          1.4,
          20.2,
          9.8,
          6.3,
          4.9,
          1.5,
          10.9,
          19,
          19,
          7.9,
          4.1,
          18.7,
          8.7,
          7.5,
          7.7,
          4.4,
          5,
          1.9,
          7.9,
          17.7,
          5.5,
          9.2,
          7.3,
          5,
          3.8,
          3.9,
          7.4,
          1.5,
          7.9,
          2.9,
          3.4,
          3.8,
          5.9,
          9.6,
          7,
          0.9,
          10.1,
          6.2,
          5.3,
          12.1,
          10.8,
          4.3,
          2.5,
          5.7,
          2.8,
          4,
          5.5,
          2.6,
          2.1,
          8.8,
          4.4,
          5.3,
          13,
          13,
          10.6,
          2.2,
          9.2,
          12.9,
          17.2,
          2.8,
          8.6,
          9.8,
          3.6,
          1.7,
          11.5,
          0.7,
          0.7,
          0.9,
          1.6,
          9.4,
          18.2,
          10.5,
          5.7,
          18,
          18.3,
          16.5,
          9.6,
          2.9,
          8.2,
          2.4,
          5.8,
          9.8,
          7.3,
          20.5,
          12.6,
          16.7,
          10.5,
          2.8,
          1.6,
          12.7,
          15.1,
          17.9,
          18.4,
          13.8,
          2.6,
          5.8,
          8.3,
          2.4,
          3.1,
          6.1,
          3.6,
          8,
          7.7,
          1.7,
          9.5,
          17.1,
          18.4,
          9.8,
          1,
          0.7,
          2.3,
          10.9,
          12.7,
          12.4,
          3.8,
          17,
          6.2,
          3.1,
          10.5,
          8.1,
          3.1,
          2.1,
          4.3,
          2.5,
          20.6,
          17.6,
          5.6,
          3.3,
          5.3,
          3.3,
          3.3,
          7.9,
          13,
          3,
          3,
          3.8,
          9.5,
          1.7,
          10.8,
          4.1,
          2.2,
          4.6,
          3.1,
          13.2,
          8.7,
          17.2,
          14,
          3.1,
          3.1,
          16.4,
          15.4,
          2.2,
          11.2,
          2.2,
          3.6,
          3.6,
          4.9,
          8.7,
          2.1,
          2.1,
          8.4,
          5.9,
          12.1,
          3.9,
          6.2,
          10.4,
          9.9,
          16.3,
          6.5,
          6.3,
          6.6,
          15.2,
          3.2,
          10.3,
          13.1,
          9.6,
          16.5,
          12.8,
          1.2,
          1,
          4.1,
          4.2,
          1.4,
          1.8,
          8.5,
          5,
          3.8,
          2.5,
          2.4,
          1.4,
          1.8,
          3.1,
          3.1,
          7.9,
          3.8,
          4.3,
          3.9,
          2.2,
          2.8,
          2.2,
          2.4,
          2.8,
          1.8,
          3.3,
          11.8,
          13.2,
          12.2,
          11.3,
          3.6,
          3,
          11.4,
          0.9,
          6.2,
          0.7,
          5.5,
          12.7,
          2.6,
          1.1,
          12.6,
          1.2,
          1.1,
          9.9,
          6,
          0.8,
          4,
          2.5,
          2.9,
          2.6,
          2.3,
          6.4,
          1.4,
          0.6,
          5.9,
          0.8,
          1.3,
          3.7,
          2.3,
          2.6,
          1.9,
          2.1,
          4,
          0.9,
          0.9,
          2.4,
          1.9,
          1.9,
          2.5,
          3.7,
          5.1,
          9.7,
          11.8,
          2.3,
          3.1,
          16.3,
          3.1,
          5.2,
          6.1,
          10.3,
          10.5,
          1.5,
          1.8,
          5.4,
          5.4,
          6.4,
          2.7,
          18.5,
          2.5,
          2.1,
          6.7,
          3.5,
          3.4,
          5.5,
          4.1,
          12.7,
          3,
          3.5,
          5.9,
          1.9,
          3.3,
          1.3,
          10.3,
          11.1,
          1.4,
          5.1,
          9,
          13.3,
          2.5,
          3.3,
          2.9,
          8.5,
          6.7,
          3.1,
          5.5,
          5.5,
          2.9,
          2.9,
          5.1,
          5.3,
          3.3,
          3,
          6.6,
          1.8,
          3,
          2.9,
          3.4,
          4.1,
          3.8,
          6.6,
          4,
          7,
          6.9,
          3.4,
          3.4,
          2,
          2,
          5.1,
          8.8,
          5.6,
          18.9,
          15.6,
          15.6,
          3,
          3.1,
          3,
          4.8,
          2.1,
          3.1,
          4.4,
          4.7,
          3,
          3,
          4.2,
          4.1,
          3.4,
          3.3,
          3,
          3.1,
          10.6,
          4.8,
          5.3,
          4.9,
          10.2,
          9.2,
          7.7,
          5.9,
          0.7,
          1.3,
          2.5,
          5.3,
          5.4,
          10.2,
          7.2,
          2.2,
          11,
          12,
          3.3,
          19.4,
          1.7,
          5.7,
          1.8,
          1.4,
          10.3,
          11.5,
          4.9,
          3.5,
          16.2,
          2,
          2.1,
          2.1,
          7.2,
          12,
          5.3,
          11.6,
          3.2,
          12.3,
          14,
          2.1,
          2.1,
          3,
          6.2,
          9.6,
          1.3,
          7.1,
          6.3,
          10.7,
          5.3,
          1.6,
          3.6,
          1.7,
          2.9,
          0.6,
          0.6,
          2.3,
          2.3,
          3.2,
          6.2,
          7.7,
          3.8,
          7.9,
          4.9,
          5,
          0.6,
          3.1,
          7.9,
          5.5,
          10.3,
          10.4,
          2,
          8.5,
          4.4,
          3.8,
          5.1,
          3.8,
          11.6,
          11.9,
          1.4,
          1.1,
          4.1,
          6.1,
          1.3,
          3,
          4.1,
          7.2,
          6.4,
          12.9,
          2.8,
          2.9,
          4.6,
          4.6,
          0.8,
          0.7,
          3.9,
          16.2,
          6.4
         ],
         "xaxis": "x",
         "yaxis": "y"
        }
       ],
       "layout": {
        "barmode": "relative",
        "legend": {
         "tracegroupgap": 0
        },
        "template": {
         "data": {
          "bar": [
           {
            "error_x": {
             "color": "#2a3f5f"
            },
            "error_y": {
             "color": "#2a3f5f"
            },
            "marker": {
             "line": {
              "color": "#E5ECF6",
              "width": 0.5
             },
             "pattern": {
              "fillmode": "overlay",
              "size": 10,
              "solidity": 0.2
             }
            },
            "type": "bar"
           }
          ],
          "barpolar": [
           {
            "marker": {
             "line": {
              "color": "#E5ECF6",
              "width": 0.5
             },
             "pattern": {
              "fillmode": "overlay",
              "size": 10,
              "solidity": 0.2
             }
            },
            "type": "barpolar"
           }
          ],
          "carpet": [
           {
            "aaxis": {
             "endlinecolor": "#2a3f5f",
             "gridcolor": "white",
             "linecolor": "white",
             "minorgridcolor": "white",
             "startlinecolor": "#2a3f5f"
            },
            "baxis": {
             "endlinecolor": "#2a3f5f",
             "gridcolor": "white",
             "linecolor": "white",
             "minorgridcolor": "white",
             "startlinecolor": "#2a3f5f"
            },
            "type": "carpet"
           }
          ],
          "choropleth": [
           {
            "colorbar": {
             "outlinewidth": 0,
             "ticks": ""
            },
            "type": "choropleth"
           }
          ],
          "contour": [
           {
            "colorbar": {
             "outlinewidth": 0,
             "ticks": ""
            },
            "colorscale": [
             [
              0,
              "#0d0887"
             ],
             [
              0.1111111111111111,
              "#46039f"
             ],
             [
              0.2222222222222222,
              "#7201a8"
             ],
             [
              0.3333333333333333,
              "#9c179e"
             ],
             [
              0.4444444444444444,
              "#bd3786"
             ],
             [
              0.5555555555555556,
              "#d8576b"
             ],
             [
              0.6666666666666666,
              "#ed7953"
             ],
             [
              0.7777777777777778,
              "#fb9f3a"
             ],
             [
              0.8888888888888888,
              "#fdca26"
             ],
             [
              1,
              "#f0f921"
             ]
            ],
            "type": "contour"
           }
          ],
          "contourcarpet": [
           {
            "colorbar": {
             "outlinewidth": 0,
             "ticks": ""
            },
            "type": "contourcarpet"
           }
          ],
          "heatmap": [
           {
            "colorbar": {
             "outlinewidth": 0,
             "ticks": ""
            },
            "colorscale": [
             [
              0,
              "#0d0887"
             ],
             [
              0.1111111111111111,
              "#46039f"
             ],
             [
              0.2222222222222222,
              "#7201a8"
             ],
             [
              0.3333333333333333,
              "#9c179e"
             ],
             [
              0.4444444444444444,
              "#bd3786"
             ],
             [
              0.5555555555555556,
              "#d8576b"
             ],
             [
              0.6666666666666666,
              "#ed7953"
             ],
             [
              0.7777777777777778,
              "#fb9f3a"
             ],
             [
              0.8888888888888888,
              "#fdca26"
             ],
             [
              1,
              "#f0f921"
             ]
            ],
            "type": "heatmap"
           }
          ],
          "heatmapgl": [
           {
            "colorbar": {
             "outlinewidth": 0,
             "ticks": ""
            },
            "colorscale": [
             [
              0,
              "#0d0887"
             ],
             [
              0.1111111111111111,
              "#46039f"
             ],
             [
              0.2222222222222222,
              "#7201a8"
             ],
             [
              0.3333333333333333,
              "#9c179e"
             ],
             [
              0.4444444444444444,
              "#bd3786"
             ],
             [
              0.5555555555555556,
              "#d8576b"
             ],
             [
              0.6666666666666666,
              "#ed7953"
             ],
             [
              0.7777777777777778,
              "#fb9f3a"
             ],
             [
              0.8888888888888888,
              "#fdca26"
             ],
             [
              1,
              "#f0f921"
             ]
            ],
            "type": "heatmapgl"
           }
          ],
          "histogram": [
           {
            "marker": {
             "pattern": {
              "fillmode": "overlay",
              "size": 10,
              "solidity": 0.2
             }
            },
            "type": "histogram"
           }
          ],
          "histogram2d": [
           {
            "colorbar": {
             "outlinewidth": 0,
             "ticks": ""
            },
            "colorscale": [
             [
              0,
              "#0d0887"
             ],
             [
              0.1111111111111111,
              "#46039f"
             ],
             [
              0.2222222222222222,
              "#7201a8"
             ],
             [
              0.3333333333333333,
              "#9c179e"
             ],
             [
              0.4444444444444444,
              "#bd3786"
             ],
             [
              0.5555555555555556,
              "#d8576b"
             ],
             [
              0.6666666666666666,
              "#ed7953"
             ],
             [
              0.7777777777777778,
              "#fb9f3a"
             ],
             [
              0.8888888888888888,
              "#fdca26"
             ],
             [
              1,
              "#f0f921"
             ]
            ],
            "type": "histogram2d"
           }
          ],
          "histogram2dcontour": [
           {
            "colorbar": {
             "outlinewidth": 0,
             "ticks": ""
            },
            "colorscale": [
             [
              0,
              "#0d0887"
             ],
             [
              0.1111111111111111,
              "#46039f"
             ],
             [
              0.2222222222222222,
              "#7201a8"
             ],
             [
              0.3333333333333333,
              "#9c179e"
             ],
             [
              0.4444444444444444,
              "#bd3786"
             ],
             [
              0.5555555555555556,
              "#d8576b"
             ],
             [
              0.6666666666666666,
              "#ed7953"
             ],
             [
              0.7777777777777778,
              "#fb9f3a"
             ],
             [
              0.8888888888888888,
              "#fdca26"
             ],
             [
              1,
              "#f0f921"
             ]
            ],
            "type": "histogram2dcontour"
           }
          ],
          "mesh3d": [
           {
            "colorbar": {
             "outlinewidth": 0,
             "ticks": ""
            },
            "type": "mesh3d"
           }
          ],
          "parcoords": [
           {
            "line": {
             "colorbar": {
              "outlinewidth": 0,
              "ticks": ""
             }
            },
            "type": "parcoords"
           }
          ],
          "pie": [
           {
            "automargin": true,
            "type": "pie"
           }
          ],
          "scatter": [
           {
            "fillpattern": {
             "fillmode": "overlay",
             "size": 10,
             "solidity": 0.2
            },
            "type": "scatter"
           }
          ],
          "scatter3d": [
           {
            "line": {
             "colorbar": {
              "outlinewidth": 0,
              "ticks": ""
             }
            },
            "marker": {
             "colorbar": {
              "outlinewidth": 0,
              "ticks": ""
             }
            },
            "type": "scatter3d"
           }
          ],
          "scattercarpet": [
           {
            "marker": {
             "colorbar": {
              "outlinewidth": 0,
              "ticks": ""
             }
            },
            "type": "scattercarpet"
           }
          ],
          "scattergeo": [
           {
            "marker": {
             "colorbar": {
              "outlinewidth": 0,
              "ticks": ""
             }
            },
            "type": "scattergeo"
           }
          ],
          "scattergl": [
           {
            "marker": {
             "colorbar": {
              "outlinewidth": 0,
              "ticks": ""
             }
            },
            "type": "scattergl"
           }
          ],
          "scattermapbox": [
           {
            "marker": {
             "colorbar": {
              "outlinewidth": 0,
              "ticks": ""
             }
            },
            "type": "scattermapbox"
           }
          ],
          "scatterpolar": [
           {
            "marker": {
             "colorbar": {
              "outlinewidth": 0,
              "ticks": ""
             }
            },
            "type": "scatterpolar"
           }
          ],
          "scatterpolargl": [
           {
            "marker": {
             "colorbar": {
              "outlinewidth": 0,
              "ticks": ""
             }
            },
            "type": "scatterpolargl"
           }
          ],
          "scatterternary": [
           {
            "marker": {
             "colorbar": {
              "outlinewidth": 0,
              "ticks": ""
             }
            },
            "type": "scatterternary"
           }
          ],
          "surface": [
           {
            "colorbar": {
             "outlinewidth": 0,
             "ticks": ""
            },
            "colorscale": [
             [
              0,
              "#0d0887"
             ],
             [
              0.1111111111111111,
              "#46039f"
             ],
             [
              0.2222222222222222,
              "#7201a8"
             ],
             [
              0.3333333333333333,
              "#9c179e"
             ],
             [
              0.4444444444444444,
              "#bd3786"
             ],
             [
              0.5555555555555556,
              "#d8576b"
             ],
             [
              0.6666666666666666,
              "#ed7953"
             ],
             [
              0.7777777777777778,
              "#fb9f3a"
             ],
             [
              0.8888888888888888,
              "#fdca26"
             ],
             [
              1,
              "#f0f921"
             ]
            ],
            "type": "surface"
           }
          ],
          "table": [
           {
            "cells": {
             "fill": {
              "color": "#EBF0F8"
             },
             "line": {
              "color": "white"
             }
            },
            "header": {
             "fill": {
              "color": "#C8D4E3"
             },
             "line": {
              "color": "white"
             }
            },
            "type": "table"
           }
          ]
         },
         "layout": {
          "annotationdefaults": {
           "arrowcolor": "#2a3f5f",
           "arrowhead": 0,
           "arrowwidth": 1
          },
          "autotypenumbers": "strict",
          "coloraxis": {
           "colorbar": {
            "outlinewidth": 0,
            "ticks": ""
           }
          },
          "colorscale": {
           "diverging": [
            [
             0,
             "#8e0152"
            ],
            [
             0.1,
             "#c51b7d"
            ],
            [
             0.2,
             "#de77ae"
            ],
            [
             0.3,
             "#f1b6da"
            ],
            [
             0.4,
             "#fde0ef"
            ],
            [
             0.5,
             "#f7f7f7"
            ],
            [
             0.6,
             "#e6f5d0"
            ],
            [
             0.7,
             "#b8e186"
            ],
            [
             0.8,
             "#7fbc41"
            ],
            [
             0.9,
             "#4d9221"
            ],
            [
             1,
             "#276419"
            ]
           ],
           "sequential": [
            [
             0,
             "#0d0887"
            ],
            [
             0.1111111111111111,
             "#46039f"
            ],
            [
             0.2222222222222222,
             "#7201a8"
            ],
            [
             0.3333333333333333,
             "#9c179e"
            ],
            [
             0.4444444444444444,
             "#bd3786"
            ],
            [
             0.5555555555555556,
             "#d8576b"
            ],
            [
             0.6666666666666666,
             "#ed7953"
            ],
            [
             0.7777777777777778,
             "#fb9f3a"
            ],
            [
             0.8888888888888888,
             "#fdca26"
            ],
            [
             1,
             "#f0f921"
            ]
           ],
           "sequentialminus": [
            [
             0,
             "#0d0887"
            ],
            [
             0.1111111111111111,
             "#46039f"
            ],
            [
             0.2222222222222222,
             "#7201a8"
            ],
            [
             0.3333333333333333,
             "#9c179e"
            ],
            [
             0.4444444444444444,
             "#bd3786"
            ],
            [
             0.5555555555555556,
             "#d8576b"
            ],
            [
             0.6666666666666666,
             "#ed7953"
            ],
            [
             0.7777777777777778,
             "#fb9f3a"
            ],
            [
             0.8888888888888888,
             "#fdca26"
            ],
            [
             1,
             "#f0f921"
            ]
           ]
          },
          "colorway": [
           "#636efa",
           "#EF553B",
           "#00cc96",
           "#ab63fa",
           "#FFA15A",
           "#19d3f3",
           "#FF6692",
           "#B6E880",
           "#FF97FF",
           "#FECB52"
          ],
          "font": {
           "color": "#2a3f5f"
          },
          "geo": {
           "bgcolor": "white",
           "lakecolor": "white",
           "landcolor": "#E5ECF6",
           "showlakes": true,
           "showland": true,
           "subunitcolor": "white"
          },
          "hoverlabel": {
           "align": "left"
          },
          "hovermode": "closest",
          "mapbox": {
           "style": "light"
          },
          "paper_bgcolor": "white",
          "plot_bgcolor": "#E5ECF6",
          "polar": {
           "angularaxis": {
            "gridcolor": "white",
            "linecolor": "white",
            "ticks": ""
           },
           "bgcolor": "#E5ECF6",
           "radialaxis": {
            "gridcolor": "white",
            "linecolor": "white",
            "ticks": ""
           }
          },
          "scene": {
           "xaxis": {
            "backgroundcolor": "#E5ECF6",
            "gridcolor": "white",
            "gridwidth": 2,
            "linecolor": "white",
            "showbackground": true,
            "ticks": "",
            "zerolinecolor": "white"
           },
           "yaxis": {
            "backgroundcolor": "#E5ECF6",
            "gridcolor": "white",
            "gridwidth": 2,
            "linecolor": "white",
            "showbackground": true,
            "ticks": "",
            "zerolinecolor": "white"
           },
           "zaxis": {
            "backgroundcolor": "#E5ECF6",
            "gridcolor": "white",
            "gridwidth": 2,
            "linecolor": "white",
            "showbackground": true,
            "ticks": "",
            "zerolinecolor": "white"
           }
          },
          "shapedefaults": {
           "line": {
            "color": "#2a3f5f"
           }
          },
          "ternary": {
           "aaxis": {
            "gridcolor": "white",
            "linecolor": "white",
            "ticks": ""
           },
           "baxis": {
            "gridcolor": "white",
            "linecolor": "white",
            "ticks": ""
           },
           "bgcolor": "#E5ECF6",
           "caxis": {
            "gridcolor": "white",
            "linecolor": "white",
            "ticks": ""
           }
          },
          "title": {
           "x": 0.05
          },
          "xaxis": {
           "automargin": true,
           "gridcolor": "white",
           "linecolor": "white",
           "ticks": "",
           "title": {
            "standoff": 15
           },
           "zerolinecolor": "white",
           "zerolinewidth": 2
          },
          "yaxis": {
           "automargin": true,
           "gridcolor": "white",
           "linecolor": "white",
           "ticks": "",
           "title": {
            "standoff": 15
           },
           "zerolinecolor": "white",
           "zerolinewidth": 2
          }
         }
        },
        "title": {
         "text": "Distribution of MILES"
        },
        "xaxis": {
         "anchor": "y",
         "domain": [
          0,
          1
         ],
         "title": {
          "text": "MILES"
         }
        },
        "yaxis": {
         "anchor": "x",
         "domain": [
          0,
          1
         ],
         "title": {
          "text": "count"
         }
        }
       }
      },
      "text/html": [
       "<div>                            <div id=\"1309f698-6cfc-47f7-8c69-60916b0ac343\" class=\"plotly-graph-div\" style=\"height:525px; width:100%;\"></div>            <script type=\"text/javascript\">                require([\"plotly\"], function(Plotly) {                    window.PLOTLYENV=window.PLOTLYENV || {};                                    if (document.getElementById(\"1309f698-6cfc-47f7-8c69-60916b0ac343\")) {                    Plotly.newPlot(                        \"1309f698-6cfc-47f7-8c69-60916b0ac343\",                        [{\"alignmentgroup\":\"True\",\"bingroup\":\"x\",\"hovertemplate\":\"MILES=%{x}<br>count=%{y}<extra></extra>\",\"legendgroup\":\"\",\"marker\":{\"color\":\"#636efa\",\"pattern\":{\"shape\":\"\"}},\"name\":\"\",\"nbinsx\":20,\"offsetgroup\":\"\",\"orientation\":\"v\",\"showlegend\":false,\"x\":[5.1,5.0,4.8,4.7,4.3,7.1,0.8,8.3,16.5,10.8,7.5,6.2,6.4,1.6,1.7,1.9,1.9,4.0,1.8,2.4,2.0,15.1,11.2,11.8,3.9,8.0,10.4,10.4,4.8,4.7,7.2,7.6,17.1,15.1,1.6,2.4,1.0,2.0,2.3,1.9,1.4,0.5,1.8,18.7,3.4,2.7,12.9,19.0,14.7,15.7,4.6,5.2,10.4,10.1,5.8,5.5,5.7,5.7,19.4,3.9,8.3,6.0,1.6,5.2,9.7,1.6,1.1,1.6,9.0,7.7,10.4,10.4,11.4,9.0,3.2,5.6,5.7,6.1,6.1,4.3,2.7,5.3,3.0,5.1,1.5,6.1,6.1,17.3,5.7,13.5,6.1,8.5,2.6,17.0,18.0,8.4,11.5,8.9,2.7,1.8,8.1,2.0,13.0,13.9,14.1,2.6,4.5,1.7,1.8,6.0,1.1,3.6,14.7,1.7,21.4,0.5,12.7,6.0,5.2,10.0,18.3,11.2,7.6,1.5,1.0,7.3,3.5,4.2,13.6,2.5,14.4,3.0,1.5,18.4,16.5,3.2,7.7,14.5,2.4,4.6,8.8,8.3,13.0,8.1,2.2,9.7,20.0,8.1,1.5,1.7,3.1,3.2,6.0,5.8,6.3,1.7,10.6,9.9,1.9,4.2,2.0,7.7,6.8,2.1,3.8,5.6,2.6,6.6,8.0,8.0,2.2,2.3,5.2,7.6,17.3,9.9,9.9,10.4,10.9,15.7,4.9,0.8,13.5,1.9,2.0,6.5,4.2,3.5,7.8,7.8,3.9,2.8,12.4,5.9,9.4,11.9,7.2,7.6,1.6,8.4,12.8,2.3,1.6,2.0,0.8,1.2,1.0,2.1,2.2,1.9,5.7,8.4,6.2,10.5,7.2,12.5,2.0,2.7,2.0,2.8,1.7,2.0,2.1,1.7,15.5,4.9,12.6,10.4,1.1,1.1,13.2,1.0,9.2,9.4,12.0,3.1,2.1,1.2,7.5,5.9,6.2,10.4,1.2,9.6,1.0,0.9,8.8,8.1,1.4,1.7,1.6,2.0,2.2,6.7,8.8,1.2,2.1,6.6,6.1,6.9,7.3,3.6,13.6,6.2,6.0,13.8,16.1,16.4,11.0,15.5,20.3,0.7,5.5,5.1,7.9,8.0,6.1,6.1,10.5,8.7,1.8,19.1,18.6,2.8,8.9,7.5,15.9,6.5,15.3,13.7,11.9,1.4,15.2,6.0,6.1,8.2,8.0,13.6,10.4,10.0,6.0,6.5,3.1,1.9,4.2,4.9,4.8,12.4,5.5,9.9,10.0,14.2,18.2,7.7,6.8,2.1,2.3,6.2,7.5,3.1,2.2,3.9,2.5,8.7,14.5,4.5,5.0,14.2,2.9,12.9,14.4,17.0,7.9,8.4,20.5,9.8,17.6,9.3,7.9,8.1,3.1,3.1,2.8,2.7,1.9,8.4,7.6,2.9,11.2,8.2,3.0,2.5,3.6,3.6,4.5,1.2,1.7,4.7,6.1,11.3,14.9,14.0,1.8,6.7,9.6,10.4,9.9,6.0,3.3,3.1,1.7,4.0,7.8,7.8,3.8,2.5,9.9,9.9,3.0,2.4,5.7,7.2,10.4,9.9,10.4,9.9,8.7,3.3,0.7,2.5,0.5,0.9,4.8,16.3,10.4,9.9,3.7,4.6,1.7,10.4,9.9,2.5,4.3,2.8,8.4,13.2,3.9,5.1,5.2,9.8,11.6,5.1,9.3,12.4,1.9,6.4,5.5,1.5,14.5,2.7,15.0,12.9,13.6,12.2,8.7,6.0,5.9,19.3,16.6,7.1,2.1,8.6,9.0,3.1,8.4,12.8,4.5,11.8,1.1,17.0,1.7,15.5,1.6,1.5,12.6,4.8,2.2,13.0,2.5,8.6,5.2,7.6,1.8,4.7,2.8,4.4,1.0,8.2,10.4,9.9,7.3,7.4,1.6,1.8,10.4,9.9,9.9,9.9,13.3,11.3,10.5,9.9,10.1,9.9,3.1,3.1,9.9,9.9,8.8,8.7,11.8,1.2,9.9,0.6,9.9,8.6,6.3,9.9,9.9,3.3,3.1,7.9,8.9,12.8,7.7,7.0,12.5,13.2,13.0,4.9,8.5,1.3,1.8,13.6,13.4,12.3,1.4,8.7,2.2,4.4,3.3,11.8,8.3,3.2,12.2,4.5,3.8,13.0,4.4,15.1,4.1,6.1,3.3,4.7,7.2,5.5,3.3,0.9,3.8,6.4,3.0,8.7,3.9,4.8,2.8,1.4,1.4,2.7,2.3,3.7,2.9,3.8,5.1,9.1,8.0,9.9,6.1,12.2,8.0,4.0,9.5,3.0,6.3,10.4,9.9,1.5,4.9,7.9,1.7,2.2,2.1,2.5,2.5,2.8,14.7,14.6,2.3,2.2,2.2,14.0,13.3,1.8,6.2,1.3,1.9,6.9,4.6,2.8,9.1,8.1,8.4,4.9,1.0,1.0,2.0,1.1,1.5,1.3,1.8,1.5,6.6,8.0,2.7,2.7,2.5,2.5,5.2,4.0,2.7,4.8,3.2,6.9,14.9,17.4,12.9,15.3,1.0,6.0,2.2,4.4,2.8,1.9,1.8,8.4,15.6,14.1,15.7,7.9,2.7,5.5,5.7,1.2,5.7,16.2,2.6,12.1,1.4,6.4,7.3,5.3,5.5,7.7,7.6,7.6,3.3,6.5,2.0,5.7,3.2,12.5,7.6,7.7,12.2,1.4,20.2,9.8,6.3,4.9,1.5,10.9,19.0,19.0,7.9,4.1,18.7,8.7,7.5,7.7,4.4,5.0,1.9,7.9,17.7,5.5,9.2,7.3,5.0,3.8,3.9,7.4,1.5,7.9,2.9,3.4,3.8,5.9,9.6,7.0,0.9,10.1,6.2,5.3,12.1,10.8,4.3,2.5,5.7,2.8,4.0,5.5,2.6,2.1,8.8,4.4,5.3,13.0,13.0,10.6,2.2,9.2,12.9,17.2,2.8,8.6,9.8,3.6,1.7,11.5,0.7,0.7,0.9,1.6,9.4,18.2,10.5,5.7,18.0,18.3,16.5,9.6,2.9,8.2,2.4,5.8,9.8,7.3,20.5,12.6,16.7,10.5,2.8,1.6,12.7,15.1,17.9,18.4,13.8,2.6,5.8,8.3,2.4,3.1,6.1,3.6,8.0,7.7,1.7,9.5,17.1,18.4,9.8,1.0,0.7,2.3,10.9,12.7,12.4,3.8,17.0,6.2,3.1,10.5,8.1,3.1,2.1,4.3,2.5,20.6,17.6,5.6,3.3,5.3,3.3,3.3,7.9,13.0,3.0,3.0,3.8,9.5,1.7,10.8,4.1,2.2,4.6,3.1,13.2,8.7,17.2,14.0,3.1,3.1,16.4,15.4,2.2,11.2,2.2,3.6,3.6,4.9,8.7,2.1,2.1,8.4,5.9,12.1,3.9,6.2,10.4,9.9,16.3,6.5,6.3,6.6,15.2,3.2,10.3,13.1,9.6,16.5,12.8,1.2,1.0,4.1,4.2,1.4,1.8,8.5,5.0,3.8,2.5,2.4,1.4,1.8,3.1,3.1,7.9,3.8,4.3,3.9,2.2,2.8,2.2,2.4,2.8,1.8,3.3,11.8,13.2,12.2,11.3,3.6,3.0,11.4,0.9,6.2,0.7,5.5,12.7,2.6,1.1,12.6,1.2,1.1,9.9,6.0,0.8,4.0,2.5,2.9,2.6,2.3,6.4,1.4,0.6,5.9,0.8,1.3,3.7,2.3,2.6,1.9,2.1,4.0,0.9,0.9,2.4,1.9,1.9,2.5,3.7,5.1,9.7,11.8,2.3,3.1,16.3,3.1,5.2,6.1,10.3,10.5,1.5,1.8,5.4,5.4,6.4,2.7,18.5,2.5,2.1,6.7,3.5,3.4,5.5,4.1,12.7,3.0,3.5,5.9,1.9,3.3,1.3,10.3,11.1,1.4,5.1,9.0,13.3,2.5,3.3,2.9,8.5,6.7,3.1,5.5,5.5,2.9,2.9,5.1,5.3,3.3,3.0,6.6,1.8,3.0,2.9,3.4,4.1,3.8,6.6,4.0,7.0,6.9,3.4,3.4,2.0,2.0,5.1,8.8,5.6,18.9,15.6,15.6,3.0,3.1,3.0,4.8,2.1,3.1,4.4,4.7,3.0,3.0,4.2,4.1,3.4,3.3,3.0,3.1,10.6,4.8,5.3,4.9,10.2,9.2,7.7,5.9,0.7,1.3,2.5,5.3,5.4,10.2,7.2,2.2,11.0,12.0,3.3,19.4,1.7,5.7,1.8,1.4,10.3,11.5,4.9,3.5,16.2,2.0,2.1,2.1,7.2,12.0,5.3,11.6,3.2,12.3,14.0,2.1,2.1,3.0,6.2,9.6,1.3,7.1,6.3,10.7,5.3,1.6,3.6,1.7,2.9,0.6,0.6,2.3,2.3,3.2,6.2,7.7,3.8,7.9,4.9,5.0,0.6,3.1,7.9,5.5,10.3,10.4,2.0,8.5,4.4,3.8,5.1,3.8,11.6,11.9,1.4,1.1,4.1,6.1,1.3,3.0,4.1,7.2,6.4,12.9,2.8,2.9,4.6,4.6,0.8,0.7,3.9,16.2,6.4],\"xaxis\":\"x\",\"yaxis\":\"y\",\"type\":\"histogram\"}],                        {\"template\":{\"data\":{\"histogram2dcontour\":[{\"type\":\"histogram2dcontour\",\"colorbar\":{\"outlinewidth\":0,\"ticks\":\"\"},\"colorscale\":[[0.0,\"#0d0887\"],[0.1111111111111111,\"#46039f\"],[0.2222222222222222,\"#7201a8\"],[0.3333333333333333,\"#9c179e\"],[0.4444444444444444,\"#bd3786\"],[0.5555555555555556,\"#d8576b\"],[0.6666666666666666,\"#ed7953\"],[0.7777777777777778,\"#fb9f3a\"],[0.8888888888888888,\"#fdca26\"],[1.0,\"#f0f921\"]]}],\"choropleth\":[{\"type\":\"choropleth\",\"colorbar\":{\"outlinewidth\":0,\"ticks\":\"\"}}],\"histogram2d\":[{\"type\":\"histogram2d\",\"colorbar\":{\"outlinewidth\":0,\"ticks\":\"\"},\"colorscale\":[[0.0,\"#0d0887\"],[0.1111111111111111,\"#46039f\"],[0.2222222222222222,\"#7201a8\"],[0.3333333333333333,\"#9c179e\"],[0.4444444444444444,\"#bd3786\"],[0.5555555555555556,\"#d8576b\"],[0.6666666666666666,\"#ed7953\"],[0.7777777777777778,\"#fb9f3a\"],[0.8888888888888888,\"#fdca26\"],[1.0,\"#f0f921\"]]}],\"heatmap\":[{\"type\":\"heatmap\",\"colorbar\":{\"outlinewidth\":0,\"ticks\":\"\"},\"colorscale\":[[0.0,\"#0d0887\"],[0.1111111111111111,\"#46039f\"],[0.2222222222222222,\"#7201a8\"],[0.3333333333333333,\"#9c179e\"],[0.4444444444444444,\"#bd3786\"],[0.5555555555555556,\"#d8576b\"],[0.6666666666666666,\"#ed7953\"],[0.7777777777777778,\"#fb9f3a\"],[0.8888888888888888,\"#fdca26\"],[1.0,\"#f0f921\"]]}],\"heatmapgl\":[{\"type\":\"heatmapgl\",\"colorbar\":{\"outlinewidth\":0,\"ticks\":\"\"},\"colorscale\":[[0.0,\"#0d0887\"],[0.1111111111111111,\"#46039f\"],[0.2222222222222222,\"#7201a8\"],[0.3333333333333333,\"#9c179e\"],[0.4444444444444444,\"#bd3786\"],[0.5555555555555556,\"#d8576b\"],[0.6666666666666666,\"#ed7953\"],[0.7777777777777778,\"#fb9f3a\"],[0.8888888888888888,\"#fdca26\"],[1.0,\"#f0f921\"]]}],\"contourcarpet\":[{\"type\":\"contourcarpet\",\"colorbar\":{\"outlinewidth\":0,\"ticks\":\"\"}}],\"contour\":[{\"type\":\"contour\",\"colorbar\":{\"outlinewidth\":0,\"ticks\":\"\"},\"colorscale\":[[0.0,\"#0d0887\"],[0.1111111111111111,\"#46039f\"],[0.2222222222222222,\"#7201a8\"],[0.3333333333333333,\"#9c179e\"],[0.4444444444444444,\"#bd3786\"],[0.5555555555555556,\"#d8576b\"],[0.6666666666666666,\"#ed7953\"],[0.7777777777777778,\"#fb9f3a\"],[0.8888888888888888,\"#fdca26\"],[1.0,\"#f0f921\"]]}],\"surface\":[{\"type\":\"surface\",\"colorbar\":{\"outlinewidth\":0,\"ticks\":\"\"},\"colorscale\":[[0.0,\"#0d0887\"],[0.1111111111111111,\"#46039f\"],[0.2222222222222222,\"#7201a8\"],[0.3333333333333333,\"#9c179e\"],[0.4444444444444444,\"#bd3786\"],[0.5555555555555556,\"#d8576b\"],[0.6666666666666666,\"#ed7953\"],[0.7777777777777778,\"#fb9f3a\"],[0.8888888888888888,\"#fdca26\"],[1.0,\"#f0f921\"]]}],\"mesh3d\":[{\"type\":\"mesh3d\",\"colorbar\":{\"outlinewidth\":0,\"ticks\":\"\"}}],\"scatter\":[{\"fillpattern\":{\"fillmode\":\"overlay\",\"size\":10,\"solidity\":0.2},\"type\":\"scatter\"}],\"parcoords\":[{\"type\":\"parcoords\",\"line\":{\"colorbar\":{\"outlinewidth\":0,\"ticks\":\"\"}}}],\"scatterpolargl\":[{\"type\":\"scatterpolargl\",\"marker\":{\"colorbar\":{\"outlinewidth\":0,\"ticks\":\"\"}}}],\"bar\":[{\"error_x\":{\"color\":\"#2a3f5f\"},\"error_y\":{\"color\":\"#2a3f5f\"},\"marker\":{\"line\":{\"color\":\"#E5ECF6\",\"width\":0.5},\"pattern\":{\"fillmode\":\"overlay\",\"size\":10,\"solidity\":0.2}},\"type\":\"bar\"}],\"scattergeo\":[{\"type\":\"scattergeo\",\"marker\":{\"colorbar\":{\"outlinewidth\":0,\"ticks\":\"\"}}}],\"scatterpolar\":[{\"type\":\"scatterpolar\",\"marker\":{\"colorbar\":{\"outlinewidth\":0,\"ticks\":\"\"}}}],\"histogram\":[{\"marker\":{\"pattern\":{\"fillmode\":\"overlay\",\"size\":10,\"solidity\":0.2}},\"type\":\"histogram\"}],\"scattergl\":[{\"type\":\"scattergl\",\"marker\":{\"colorbar\":{\"outlinewidth\":0,\"ticks\":\"\"}}}],\"scatter3d\":[{\"type\":\"scatter3d\",\"line\":{\"colorbar\":{\"outlinewidth\":0,\"ticks\":\"\"}},\"marker\":{\"colorbar\":{\"outlinewidth\":0,\"ticks\":\"\"}}}],\"scattermapbox\":[{\"type\":\"scattermapbox\",\"marker\":{\"colorbar\":{\"outlinewidth\":0,\"ticks\":\"\"}}}],\"scatterternary\":[{\"type\":\"scatterternary\",\"marker\":{\"colorbar\":{\"outlinewidth\":0,\"ticks\":\"\"}}}],\"scattercarpet\":[{\"type\":\"scattercarpet\",\"marker\":{\"colorbar\":{\"outlinewidth\":0,\"ticks\":\"\"}}}],\"carpet\":[{\"aaxis\":{\"endlinecolor\":\"#2a3f5f\",\"gridcolor\":\"white\",\"linecolor\":\"white\",\"minorgridcolor\":\"white\",\"startlinecolor\":\"#2a3f5f\"},\"baxis\":{\"endlinecolor\":\"#2a3f5f\",\"gridcolor\":\"white\",\"linecolor\":\"white\",\"minorgridcolor\":\"white\",\"startlinecolor\":\"#2a3f5f\"},\"type\":\"carpet\"}],\"table\":[{\"cells\":{\"fill\":{\"color\":\"#EBF0F8\"},\"line\":{\"color\":\"white\"}},\"header\":{\"fill\":{\"color\":\"#C8D4E3\"},\"line\":{\"color\":\"white\"}},\"type\":\"table\"}],\"barpolar\":[{\"marker\":{\"line\":{\"color\":\"#E5ECF6\",\"width\":0.5},\"pattern\":{\"fillmode\":\"overlay\",\"size\":10,\"solidity\":0.2}},\"type\":\"barpolar\"}],\"pie\":[{\"automargin\":true,\"type\":\"pie\"}]},\"layout\":{\"autotypenumbers\":\"strict\",\"colorway\":[\"#636efa\",\"#EF553B\",\"#00cc96\",\"#ab63fa\",\"#FFA15A\",\"#19d3f3\",\"#FF6692\",\"#B6E880\",\"#FF97FF\",\"#FECB52\"],\"font\":{\"color\":\"#2a3f5f\"},\"hovermode\":\"closest\",\"hoverlabel\":{\"align\":\"left\"},\"paper_bgcolor\":\"white\",\"plot_bgcolor\":\"#E5ECF6\",\"polar\":{\"bgcolor\":\"#E5ECF6\",\"angularaxis\":{\"gridcolor\":\"white\",\"linecolor\":\"white\",\"ticks\":\"\"},\"radialaxis\":{\"gridcolor\":\"white\",\"linecolor\":\"white\",\"ticks\":\"\"}},\"ternary\":{\"bgcolor\":\"#E5ECF6\",\"aaxis\":{\"gridcolor\":\"white\",\"linecolor\":\"white\",\"ticks\":\"\"},\"baxis\":{\"gridcolor\":\"white\",\"linecolor\":\"white\",\"ticks\":\"\"},\"caxis\":{\"gridcolor\":\"white\",\"linecolor\":\"white\",\"ticks\":\"\"}},\"coloraxis\":{\"colorbar\":{\"outlinewidth\":0,\"ticks\":\"\"}},\"colorscale\":{\"sequential\":[[0.0,\"#0d0887\"],[0.1111111111111111,\"#46039f\"],[0.2222222222222222,\"#7201a8\"],[0.3333333333333333,\"#9c179e\"],[0.4444444444444444,\"#bd3786\"],[0.5555555555555556,\"#d8576b\"],[0.6666666666666666,\"#ed7953\"],[0.7777777777777778,\"#fb9f3a\"],[0.8888888888888888,\"#fdca26\"],[1.0,\"#f0f921\"]],\"sequentialminus\":[[0.0,\"#0d0887\"],[0.1111111111111111,\"#46039f\"],[0.2222222222222222,\"#7201a8\"],[0.3333333333333333,\"#9c179e\"],[0.4444444444444444,\"#bd3786\"],[0.5555555555555556,\"#d8576b\"],[0.6666666666666666,\"#ed7953\"],[0.7777777777777778,\"#fb9f3a\"],[0.8888888888888888,\"#fdca26\"],[1.0,\"#f0f921\"]],\"diverging\":[[0,\"#8e0152\"],[0.1,\"#c51b7d\"],[0.2,\"#de77ae\"],[0.3,\"#f1b6da\"],[0.4,\"#fde0ef\"],[0.5,\"#f7f7f7\"],[0.6,\"#e6f5d0\"],[0.7,\"#b8e186\"],[0.8,\"#7fbc41\"],[0.9,\"#4d9221\"],[1,\"#276419\"]]},\"xaxis\":{\"gridcolor\":\"white\",\"linecolor\":\"white\",\"ticks\":\"\",\"title\":{\"standoff\":15},\"zerolinecolor\":\"white\",\"automargin\":true,\"zerolinewidth\":2},\"yaxis\":{\"gridcolor\":\"white\",\"linecolor\":\"white\",\"ticks\":\"\",\"title\":{\"standoff\":15},\"zerolinecolor\":\"white\",\"automargin\":true,\"zerolinewidth\":2},\"scene\":{\"xaxis\":{\"backgroundcolor\":\"#E5ECF6\",\"gridcolor\":\"white\",\"linecolor\":\"white\",\"showbackground\":true,\"ticks\":\"\",\"zerolinecolor\":\"white\",\"gridwidth\":2},\"yaxis\":{\"backgroundcolor\":\"#E5ECF6\",\"gridcolor\":\"white\",\"linecolor\":\"white\",\"showbackground\":true,\"ticks\":\"\",\"zerolinecolor\":\"white\",\"gridwidth\":2},\"zaxis\":{\"backgroundcolor\":\"#E5ECF6\",\"gridcolor\":\"white\",\"linecolor\":\"white\",\"showbackground\":true,\"ticks\":\"\",\"zerolinecolor\":\"white\",\"gridwidth\":2}},\"shapedefaults\":{\"line\":{\"color\":\"#2a3f5f\"}},\"annotationdefaults\":{\"arrowcolor\":\"#2a3f5f\",\"arrowhead\":0,\"arrowwidth\":1},\"geo\":{\"bgcolor\":\"white\",\"landcolor\":\"#E5ECF6\",\"subunitcolor\":\"white\",\"showland\":true,\"showlakes\":true,\"lakecolor\":\"white\"},\"title\":{\"x\":0.05},\"mapbox\":{\"style\":\"light\"}}},\"xaxis\":{\"anchor\":\"y\",\"domain\":[0.0,1.0],\"title\":{\"text\":\"MILES\"}},\"yaxis\":{\"anchor\":\"x\",\"domain\":[0.0,1.0],\"title\":{\"text\":\"count\"}},\"legend\":{\"tracegroupgap\":0},\"title\":{\"text\":\"Distribution of MILES\"},\"barmode\":\"relative\"},                        {\"responsive\": true}                    ).then(function(){\n",
       "                            \n",
       "var gd = document.getElementById('1309f698-6cfc-47f7-8c69-60916b0ac343');\n",
       "var x = new MutationObserver(function (mutations, observer) {{\n",
       "        var display = window.getComputedStyle(gd).display;\n",
       "        if (!display || display === 'none') {{\n",
       "            console.log([gd, 'removed!']);\n",
       "            Plotly.purge(gd);\n",
       "            observer.disconnect();\n",
       "        }}\n",
       "}});\n",
       "\n",
       "// Listen for the removal of the full notebook cells\n",
       "var notebookContainer = gd.closest('#notebook-container');\n",
       "if (notebookContainer) {{\n",
       "    x.observe(notebookContainer, {childList: true});\n",
       "}}\n",
       "\n",
       "// Listen for the clearing of the current output cell\n",
       "var outputEl = gd.closest('.output');\n",
       "if (outputEl) {{\n",
       "    x.observe(outputEl, {childList: true});\n",
       "}}\n",
       "\n",
       "                        })                };                });            </script>        </div>"
      ]
     },
     "metadata": {},
     "output_type": "display_data"
    }
   ],
   "source": [
    "#Histogram of the 'MILES' column\n",
    "fig_histogram = px.histogram(df_cleaned, x='MILES', nbins=20, title='Distribution of MILES')\n",
    "fig_histogram.show()"
   ]
  },
  {
   "cell_type": "code",
   "execution_count": 51,
   "id": "1233005e",
   "metadata": {},
   "outputs": [
    {
     "data": {
      "application/vnd.plotly.v1+json": {
       "config": {
        "plotlyServerURL": "https://plot.ly"
       },
       "data": [
        {
         "alignmentgroup": "True",
         "hovertemplate": "CATEGORY=%{x}<br>MILES=%{y}<extra></extra>",
         "legendgroup": "",
         "marker": {
          "color": "#636efa"
         },
         "name": "",
         "notched": false,
         "offsetgroup": "",
         "orientation": "v",
         "showlegend": false,
         "type": "box",
         "x": [
          "Business",
          "Business",
          "Business",
          "Business",
          "Business",
          "Business",
          "Business",
          "Business",
          "Business",
          "Business",
          "Business",
          "Business",
          "Business",
          "Business",
          "Business",
          "Business",
          "Business",
          "Business",
          "Business",
          "Business",
          "Business",
          "Business",
          "Business",
          "Business",
          "Business",
          "Business",
          "Business",
          "Business",
          "Business",
          "Business",
          "Business",
          "Business",
          "Business",
          "Business",
          "Business",
          "Business",
          "Business",
          "Business",
          "Business",
          "Business",
          "Business",
          "Business",
          "Business",
          "Business",
          "Business",
          "Business",
          "Business",
          "Business",
          "Business",
          "Business",
          "Business",
          "Business",
          "Business",
          "Business",
          "Business",
          "Business",
          "Business",
          "Business",
          "Business",
          "Business",
          "Business",
          "Business",
          "Business",
          "Business",
          "Business",
          "Business",
          "Business",
          "Business",
          "Business",
          "Business",
          "Business",
          "Business",
          "Business",
          "Business",
          "Business",
          "Business",
          "Business",
          "Business",
          "Business",
          "Business",
          "Business",
          "Personal",
          "Personal",
          "Personal",
          "Personal",
          "Business",
          "Business",
          "Business",
          "Business",
          "Business",
          "Business",
          "Business",
          "Business",
          "Business",
          "Business",
          "Business",
          "Business",
          "Business",
          "Personal",
          "Personal",
          "Business",
          "Business",
          "Business",
          "Business",
          "Business",
          "Business",
          "Business",
          "Business",
          "Business",
          "Business",
          "Business",
          "Business",
          "Business",
          "Business",
          "Business",
          "Business",
          "Business",
          "Business",
          "Business",
          "Business",
          "Business",
          "Business",
          "Business",
          "Personal",
          "Personal",
          "Business",
          "Business",
          "Business",
          "Personal",
          "Personal",
          "Personal",
          "Personal",
          "Personal",
          "Business",
          "Personal",
          "Business",
          "Business",
          "Business",
          "Business",
          "Business",
          "Business",
          "Business",
          "Business",
          "Business",
          "Business",
          "Business",
          "Business",
          "Business",
          "Business",
          "Business",
          "Business",
          "Business",
          "Business",
          "Business",
          "Business",
          "Personal",
          "Business",
          "Business",
          "Personal",
          "Personal",
          "Personal",
          "Business",
          "Business",
          "Personal",
          "Business",
          "Business",
          "Business",
          "Business",
          "Business",
          "Business",
          "Personal",
          "Business",
          "Business",
          "Business",
          "Business",
          "Business",
          "Business",
          "Business",
          "Business",
          "Business",
          "Business",
          "Business",
          "Business",
          "Business",
          "Business",
          "Business",
          "Personal",
          "Personal",
          "Business",
          "Business",
          "Business",
          "Business",
          "Business",
          "Business",
          "Business",
          "Business",
          "Business",
          "Business",
          "Personal",
          "Business",
          "Business",
          "Business",
          "Business",
          "Business",
          "Business",
          "Business",
          "Business",
          "Business",
          "Business",
          "Personal",
          "Business",
          "Business",
          "Business",
          "Business",
          "Business",
          "Business",
          "Business",
          "Business",
          "Business",
          "Business",
          "Business",
          "Business",
          "Business",
          "Personal",
          "Business",
          "Personal",
          "Personal",
          "Personal",
          "Business",
          "Business",
          "Business",
          "Business",
          "Business",
          "Business",
          "Business",
          "Business",
          "Business",
          "Business",
          "Business",
          "Business",
          "Business",
          "Business",
          "Personal",
          "Business",
          "Personal",
          "Business",
          "Business",
          "Personal",
          "Personal",
          "Personal",
          "Personal",
          "Personal",
          "Business",
          "Personal",
          "Personal",
          "Personal",
          "Business",
          "Business",
          "Business",
          "Personal",
          "Personal",
          "Personal",
          "Personal",
          "Personal",
          "Personal",
          "Personal",
          "Business",
          "Business",
          "Business",
          "Business",
          "Business",
          "Personal",
          "Personal",
          "Personal",
          "Business",
          "Business",
          "Business",
          "Business",
          "Business",
          "Business",
          "Business",
          "Business",
          "Business",
          "Business",
          "Business",
          "Business",
          "Business",
          "Business",
          "Business",
          "Business",
          "Business",
          "Business",
          "Business",
          "Business",
          "Business",
          "Business",
          "Business",
          "Business",
          "Business",
          "Business",
          "Business",
          "Business",
          "Business",
          "Business",
          "Business",
          "Business",
          "Business",
          "Business",
          "Business",
          "Business",
          "Business",
          "Business",
          "Business",
          "Business",
          "Business",
          "Business",
          "Business",
          "Business",
          "Business",
          "Business",
          "Business",
          "Business",
          "Business",
          "Business",
          "Business",
          "Business",
          "Business",
          "Business",
          "Business",
          "Business",
          "Business",
          "Business",
          "Business",
          "Business",
          "Business",
          "Business",
          "Business",
          "Business",
          "Business",
          "Business",
          "Business",
          "Business",
          "Business",
          "Business",
          "Business",
          "Business",
          "Business",
          "Business",
          "Business",
          "Business",
          "Business",
          "Business",
          "Business",
          "Business",
          "Business",
          "Business",
          "Business",
          "Business",
          "Business",
          "Business",
          "Business",
          "Business",
          "Business",
          "Business",
          "Business",
          "Business",
          "Business",
          "Business",
          "Business",
          "Business",
          "Business",
          "Business",
          "Business",
          "Business",
          "Business",
          "Business",
          "Business",
          "Business",
          "Business",
          "Business",
          "Business",
          "Business",
          "Business",
          "Business",
          "Business",
          "Business",
          "Business",
          "Business",
          "Business",
          "Business",
          "Business",
          "Business",
          "Business",
          "Business",
          "Business",
          "Business",
          "Business",
          "Business",
          "Business",
          "Business",
          "Business",
          "Business",
          "Business",
          "Business",
          "Business",
          "Business",
          "Business",
          "Business",
          "Business",
          "Business",
          "Business",
          "Business",
          "Business",
          "Business",
          "Business",
          "Business",
          "Personal",
          "Business",
          "Business",
          "Business",
          "Business",
          "Business",
          "Business",
          "Business",
          "Business",
          "Business",
          "Business",
          "Business",
          "Business",
          "Business",
          "Business",
          "Business",
          "Business",
          "Business",
          "Business",
          "Business",
          "Business",
          "Business",
          "Business",
          "Business",
          "Business",
          "Business",
          "Business",
          "Business",
          "Business",
          "Business",
          "Business",
          "Business",
          "Business",
          "Business",
          "Business",
          "Business",
          "Business",
          "Business",
          "Business",
          "Business",
          "Business",
          "Business",
          "Business",
          "Business",
          "Business",
          "Business",
          "Business",
          "Business",
          "Business",
          "Business",
          "Business",
          "Business",
          "Business",
          "Business",
          "Business",
          "Business",
          "Business",
          "Business",
          "Business",
          "Business",
          "Business",
          "Business",
          "Business",
          "Business",
          "Business",
          "Business",
          "Business",
          "Business",
          "Business",
          "Business",
          "Business",
          "Business",
          "Business",
          "Business",
          "Business",
          "Business",
          "Business",
          "Business",
          "Business",
          "Business",
          "Business",
          "Business",
          "Business",
          "Business",
          "Business",
          "Business",
          "Business",
          "Business",
          "Business",
          "Business",
          "Personal",
          "Personal",
          "Personal",
          "Personal",
          "Personal",
          "Business",
          "Personal",
          "Personal",
          "Personal",
          "Personal",
          "Personal",
          "Personal",
          "Business",
          "Personal",
          "Personal",
          "Personal",
          "Personal",
          "Personal",
          "Business",
          "Business",
          "Business",
          "Business",
          "Business",
          "Business",
          "Business",
          "Business",
          "Business",
          "Personal",
          "Personal",
          "Personal",
          "Personal",
          "Business",
          "Business",
          "Business",
          "Business",
          "Business",
          "Business",
          "Business",
          "Business",
          "Business",
          "Business",
          "Business",
          "Business",
          "Business",
          "Business",
          "Business",
          "Business",
          "Business",
          "Business",
          "Business",
          "Business",
          "Business",
          "Business",
          "Business",
          "Business",
          "Business",
          "Business",
          "Business",
          "Business",
          "Business",
          "Business",
          "Business",
          "Business",
          "Business",
          "Business",
          "Business",
          "Business",
          "Business",
          "Business",
          "Business",
          "Business",
          "Business",
          "Business",
          "Business",
          "Business",
          "Business",
          "Business",
          "Business",
          "Business",
          "Business",
          "Business",
          "Business",
          "Business",
          "Business",
          "Business",
          "Business",
          "Business",
          "Business",
          "Business",
          "Business",
          "Business",
          "Business",
          "Business",
          "Business",
          "Business",
          "Business",
          "Business",
          "Business",
          "Business",
          "Business",
          "Business",
          "Business",
          "Business",
          "Business",
          "Business",
          "Business",
          "Business",
          "Business",
          "Business",
          "Business",
          "Business",
          "Business",
          "Business",
          "Business",
          "Business",
          "Business",
          "Business",
          "Business",
          "Business",
          "Business",
          "Business",
          "Business",
          "Business",
          "Business",
          "Business",
          "Business",
          "Business",
          "Business",
          "Business",
          "Business",
          "Business",
          "Business",
          "Business",
          "Business",
          "Business",
          "Business",
          "Business",
          "Business",
          "Business",
          "Business",
          "Business",
          "Business",
          "Business",
          "Business",
          "Business",
          "Business",
          "Business",
          "Business",
          "Business",
          "Business",
          "Business",
          "Business",
          "Business",
          "Business",
          "Business",
          "Business",
          "Business",
          "Business",
          "Business",
          "Business",
          "Business",
          "Business",
          "Business",
          "Business",
          "Business",
          "Business",
          "Business",
          "Business",
          "Business",
          "Business",
          "Business",
          "Business",
          "Business",
          "Business",
          "Business",
          "Business",
          "Business",
          "Business",
          "Business",
          "Business",
          "Business",
          "Business",
          "Business",
          "Business",
          "Business",
          "Business",
          "Business",
          "Business",
          "Business",
          "Business",
          "Business",
          "Business",
          "Business",
          "Business",
          "Business",
          "Business",
          "Business",
          "Business",
          "Business",
          "Business",
          "Business",
          "Business",
          "Business",
          "Business",
          "Business",
          "Business",
          "Business",
          "Business",
          "Business",
          "Business",
          "Business",
          "Business",
          "Business",
          "Business",
          "Business",
          "Business",
          "Business",
          "Business",
          "Business",
          "Business",
          "Business",
          "Business",
          "Business",
          "Business",
          "Business",
          "Business",
          "Business",
          "Business",
          "Business",
          "Business",
          "Business",
          "Business",
          "Business",
          "Business",
          "Business",
          "Business",
          "Business",
          "Business",
          "Business",
          "Business",
          "Business",
          "Business",
          "Business",
          "Business",
          "Business",
          "Business",
          "Business",
          "Business",
          "Business",
          "Business",
          "Business",
          "Business",
          "Business",
          "Business",
          "Business",
          "Business",
          "Business",
          "Business",
          "Business",
          "Business",
          "Business",
          "Business",
          "Business",
          "Business",
          "Business",
          "Business",
          "Business",
          "Business",
          "Business",
          "Business",
          "Business",
          "Business",
          "Business",
          "Business",
          "Business",
          "Business",
          "Business",
          "Business",
          "Business",
          "Business",
          "Business",
          "Business",
          "Business",
          "Business",
          "Business",
          "Business",
          "Business",
          "Business",
          "Business",
          "Business",
          "Business",
          "Business",
          "Business",
          "Business",
          "Business",
          "Business",
          "Business",
          "Business",
          "Business",
          "Business",
          "Business",
          "Business",
          "Business",
          "Business",
          "Business",
          "Business",
          "Business",
          "Business",
          "Business",
          "Business",
          "Business",
          "Business",
          "Business",
          "Business",
          "Business",
          "Business",
          "Business",
          "Business",
          "Business",
          "Business",
          "Business",
          "Business",
          "Business",
          "Business",
          "Business",
          "Business",
          "Business",
          "Business",
          "Business",
          "Business",
          "Business",
          "Business",
          "Business",
          "Business",
          "Business",
          "Business",
          "Business",
          "Business",
          "Business",
          "Business",
          "Business",
          "Business",
          "Business",
          "Business",
          "Business",
          "Business",
          "Business",
          "Business",
          "Business",
          "Business",
          "Business",
          "Business",
          "Business",
          "Business",
          "Business",
          "Business",
          "Business",
          "Business",
          "Business",
          "Business",
          "Business",
          "Business",
          "Business",
          "Business",
          "Business",
          "Business",
          "Business",
          "Business",
          "Business",
          "Business",
          "Business",
          "Business",
          "Business",
          "Business",
          "Business",
          "Business",
          "Business",
          "Business",
          "Business",
          "Business",
          "Business",
          "Business",
          "Business",
          "Business",
          "Business",
          "Business",
          "Business",
          "Business",
          "Business",
          "Business",
          "Business",
          "Business",
          "Business",
          "Business",
          "Business",
          "Business",
          "Business",
          "Business",
          "Business",
          "Business",
          "Business",
          "Business",
          "Business",
          "Business",
          "Business",
          "Business",
          "Business",
          "Business",
          "Business",
          "Business",
          "Business",
          "Business",
          "Business",
          "Business",
          "Business",
          "Business",
          "Business",
          "Business",
          "Business",
          "Business",
          "Business",
          "Business",
          "Business",
          "Business",
          "Business",
          "Business",
          "Business",
          "Business",
          "Business",
          "Business",
          "Business",
          "Business",
          "Business",
          "Business",
          "Business",
          "Business",
          "Business",
          "Business",
          "Business",
          "Business",
          "Business",
          "Business",
          "Business",
          "Business",
          "Business",
          "Business",
          "Business",
          "Business",
          "Business",
          "Business",
          "Business",
          "Business",
          "Business",
          "Business",
          "Business",
          "Business",
          "Business",
          "Business",
          "Business",
          "Business",
          "Business",
          "Business",
          "Business",
          "Business",
          "Business",
          "Business",
          "Business",
          "Business",
          "Business",
          "Business",
          "Business",
          "Business",
          "Business",
          "Business",
          "Business",
          "Business",
          "Business",
          "Business",
          "Business",
          "Business",
          "Business",
          "Business",
          "Business",
          "Business",
          "Business",
          "Business",
          "Business",
          "Business",
          "Business",
          "Business",
          "Business",
          "Business",
          "Business",
          "Business",
          "Business",
          "Business",
          "Business",
          "Business",
          "Business",
          "Business",
          "Business",
          "Business",
          "Business",
          "Business",
          "Business",
          "Business",
          "Business",
          "Business",
          "Business",
          "Business",
          "Business",
          "Business",
          "Business",
          "Business",
          "Business",
          "Business",
          "Business",
          "Business",
          "Business",
          "Business",
          "Business",
          "Business",
          "Business",
          "Business",
          "Business",
          "Business",
          "Business",
          "Business",
          "Business",
          "Business",
          "Business",
          "Business",
          "Business",
          "Business",
          "Business",
          "Business",
          "Business",
          "Business",
          "Business",
          "Business",
          "Business",
          "Business",
          "Business",
          "Business",
          "Business",
          "Business",
          "Business",
          "Business",
          "Business",
          "Business",
          "Business",
          "Business",
          "Business",
          "Business",
          "Business",
          "Business",
          "Business",
          "Business",
          "Business",
          "Business",
          "Business",
          "Business",
          "Business",
          "Business",
          "Business",
          "Business",
          "Business",
          "Business",
          "Business",
          "Business",
          "Business"
         ],
         "x0": " ",
         "xaxis": "x",
         "y": [
          5.1,
          5,
          4.8,
          4.7,
          4.3,
          7.1,
          0.8,
          8.3,
          16.5,
          10.8,
          7.5,
          6.2,
          6.4,
          1.6,
          1.7,
          1.9,
          1.9,
          4,
          1.8,
          2.4,
          2,
          15.1,
          11.2,
          11.8,
          3.9,
          8,
          10.4,
          10.4,
          4.8,
          4.7,
          7.2,
          7.6,
          17.1,
          15.1,
          1.6,
          2.4,
          1,
          2,
          2.3,
          1.9,
          1.4,
          0.5,
          1.8,
          18.7,
          3.4,
          2.7,
          12.9,
          19,
          14.7,
          15.7,
          4.6,
          5.2,
          10.4,
          10.1,
          5.8,
          5.5,
          5.7,
          5.7,
          19.4,
          3.9,
          8.3,
          6,
          1.6,
          5.2,
          9.7,
          1.6,
          1.1,
          1.6,
          9,
          7.7,
          10.4,
          10.4,
          11.4,
          9,
          3.2,
          5.6,
          5.7,
          6.1,
          6.1,
          4.3,
          2.7,
          5.3,
          3,
          5.1,
          1.5,
          6.1,
          6.1,
          17.3,
          5.7,
          13.5,
          6.1,
          8.5,
          2.6,
          17,
          18,
          8.4,
          11.5,
          8.9,
          2.7,
          1.8,
          8.1,
          2,
          13,
          13.9,
          14.1,
          2.6,
          4.5,
          1.7,
          1.8,
          6,
          1.1,
          3.6,
          14.7,
          1.7,
          21.4,
          0.5,
          12.7,
          6,
          5.2,
          10,
          18.3,
          11.2,
          7.6,
          1.5,
          1,
          7.3,
          3.5,
          4.2,
          13.6,
          2.5,
          14.4,
          3,
          1.5,
          18.4,
          16.5,
          3.2,
          7.7,
          14.5,
          2.4,
          4.6,
          8.8,
          8.3,
          13,
          8.1,
          2.2,
          9.7,
          20,
          8.1,
          1.5,
          1.7,
          3.1,
          3.2,
          6,
          5.8,
          6.3,
          1.7,
          10.6,
          9.9,
          1.9,
          4.2,
          2,
          7.7,
          6.8,
          2.1,
          3.8,
          5.6,
          2.6,
          6.6,
          8,
          8,
          2.2,
          2.3,
          5.2,
          7.6,
          17.3,
          9.9,
          9.9,
          10.4,
          10.9,
          15.7,
          4.9,
          0.8,
          13.5,
          1.9,
          2,
          6.5,
          4.2,
          3.5,
          7.8,
          7.8,
          3.9,
          2.8,
          12.4,
          5.9,
          9.4,
          11.9,
          7.2,
          7.6,
          1.6,
          8.4,
          12.8,
          2.3,
          1.6,
          2,
          0.8,
          1.2,
          1,
          2.1,
          2.2,
          1.9,
          5.7,
          8.4,
          6.2,
          10.5,
          7.2,
          12.5,
          2,
          2.7,
          2,
          2.8,
          1.7,
          2,
          2.1,
          1.7,
          15.5,
          4.9,
          12.6,
          10.4,
          1.1,
          1.1,
          13.2,
          1,
          9.2,
          9.4,
          12,
          3.1,
          2.1,
          1.2,
          7.5,
          5.9,
          6.2,
          10.4,
          1.2,
          9.6,
          1,
          0.9,
          8.8,
          8.1,
          1.4,
          1.7,
          1.6,
          2,
          2.2,
          6.7,
          8.8,
          1.2,
          2.1,
          6.6,
          6.1,
          6.9,
          7.3,
          3.6,
          13.6,
          6.2,
          6,
          13.8,
          16.1,
          16.4,
          11,
          15.5,
          20.3,
          0.7,
          5.5,
          5.1,
          7.9,
          8,
          6.1,
          6.1,
          10.5,
          8.7,
          1.8,
          19.1,
          18.6,
          2.8,
          8.9,
          7.5,
          15.9,
          6.5,
          15.3,
          13.7,
          11.9,
          1.4,
          15.2,
          6,
          6.1,
          8.2,
          8,
          13.6,
          10.4,
          10,
          6,
          6.5,
          3.1,
          1.9,
          4.2,
          4.9,
          4.8,
          12.4,
          5.5,
          9.9,
          10,
          14.2,
          18.2,
          7.7,
          6.8,
          2.1,
          2.3,
          6.2,
          7.5,
          3.1,
          2.2,
          3.9,
          2.5,
          8.7,
          14.5,
          4.5,
          5,
          14.2,
          2.9,
          12.9,
          14.4,
          17,
          7.9,
          8.4,
          20.5,
          9.8,
          17.6,
          9.3,
          7.9,
          8.1,
          3.1,
          3.1,
          2.8,
          2.7,
          1.9,
          8.4,
          7.6,
          2.9,
          11.2,
          8.2,
          3,
          2.5,
          3.6,
          3.6,
          4.5,
          1.2,
          1.7,
          4.7,
          6.1,
          11.3,
          14.9,
          14,
          1.8,
          6.7,
          9.6,
          10.4,
          9.9,
          6,
          3.3,
          3.1,
          1.7,
          4,
          7.8,
          7.8,
          3.8,
          2.5,
          9.9,
          9.9,
          3,
          2.4,
          5.7,
          7.2,
          10.4,
          9.9,
          10.4,
          9.9,
          8.7,
          3.3,
          0.7,
          2.5,
          0.5,
          0.9,
          4.8,
          16.3,
          10.4,
          9.9,
          3.7,
          4.6,
          1.7,
          10.4,
          9.9,
          2.5,
          4.3,
          2.8,
          8.4,
          13.2,
          3.9,
          5.1,
          5.2,
          9.8,
          11.6,
          5.1,
          9.3,
          12.4,
          1.9,
          6.4,
          5.5,
          1.5,
          14.5,
          2.7,
          15,
          12.9,
          13.6,
          12.2,
          8.7,
          6,
          5.9,
          19.3,
          16.6,
          7.1,
          2.1,
          8.6,
          9,
          3.1,
          8.4,
          12.8,
          4.5,
          11.8,
          1.1,
          17,
          1.7,
          15.5,
          1.6,
          1.5,
          12.6,
          4.8,
          2.2,
          13,
          2.5,
          8.6,
          5.2,
          7.6,
          1.8,
          4.7,
          2.8,
          4.4,
          1,
          8.2,
          10.4,
          9.9,
          7.3,
          7.4,
          1.6,
          1.8,
          10.4,
          9.9,
          9.9,
          9.9,
          13.3,
          11.3,
          10.5,
          9.9,
          10.1,
          9.9,
          3.1,
          3.1,
          9.9,
          9.9,
          8.8,
          8.7,
          11.8,
          1.2,
          9.9,
          0.6,
          9.9,
          8.6,
          6.3,
          9.9,
          9.9,
          3.3,
          3.1,
          7.9,
          8.9,
          12.8,
          7.7,
          7,
          12.5,
          13.2,
          13,
          4.9,
          8.5,
          1.3,
          1.8,
          13.6,
          13.4,
          12.3,
          1.4,
          8.7,
          2.2,
          4.4,
          3.3,
          11.8,
          8.3,
          3.2,
          12.2,
          4.5,
          3.8,
          13,
          4.4,
          15.1,
          4.1,
          6.1,
          3.3,
          4.7,
          7.2,
          5.5,
          3.3,
          0.9,
          3.8,
          6.4,
          3,
          8.7,
          3.9,
          4.8,
          2.8,
          1.4,
          1.4,
          2.7,
          2.3,
          3.7,
          2.9,
          3.8,
          5.1,
          9.1,
          8,
          9.9,
          6.1,
          12.2,
          8,
          4,
          9.5,
          3,
          6.3,
          10.4,
          9.9,
          1.5,
          4.9,
          7.9,
          1.7,
          2.2,
          2.1,
          2.5,
          2.5,
          2.8,
          14.7,
          14.6,
          2.3,
          2.2,
          2.2,
          14,
          13.3,
          1.8,
          6.2,
          1.3,
          1.9,
          6.9,
          4.6,
          2.8,
          9.1,
          8.1,
          8.4,
          4.9,
          1,
          1,
          2,
          1.1,
          1.5,
          1.3,
          1.8,
          1.5,
          6.6,
          8,
          2.7,
          2.7,
          2.5,
          2.5,
          5.2,
          4,
          2.7,
          4.8,
          3.2,
          6.9,
          14.9,
          17.4,
          12.9,
          15.3,
          1,
          6,
          2.2,
          4.4,
          2.8,
          1.9,
          1.8,
          8.4,
          15.6,
          14.1,
          15.7,
          7.9,
          2.7,
          5.5,
          5.7,
          1.2,
          5.7,
          16.2,
          2.6,
          12.1,
          1.4,
          6.4,
          7.3,
          5.3,
          5.5,
          7.7,
          7.6,
          7.6,
          3.3,
          6.5,
          2,
          5.7,
          3.2,
          12.5,
          7.6,
          7.7,
          12.2,
          1.4,
          20.2,
          9.8,
          6.3,
          4.9,
          1.5,
          10.9,
          19,
          19,
          7.9,
          4.1,
          18.7,
          8.7,
          7.5,
          7.7,
          4.4,
          5,
          1.9,
          7.9,
          17.7,
          5.5,
          9.2,
          7.3,
          5,
          3.8,
          3.9,
          7.4,
          1.5,
          7.9,
          2.9,
          3.4,
          3.8,
          5.9,
          9.6,
          7,
          0.9,
          10.1,
          6.2,
          5.3,
          12.1,
          10.8,
          4.3,
          2.5,
          5.7,
          2.8,
          4,
          5.5,
          2.6,
          2.1,
          8.8,
          4.4,
          5.3,
          13,
          13,
          10.6,
          2.2,
          9.2,
          12.9,
          17.2,
          2.8,
          8.6,
          9.8,
          3.6,
          1.7,
          11.5,
          0.7,
          0.7,
          0.9,
          1.6,
          9.4,
          18.2,
          10.5,
          5.7,
          18,
          18.3,
          16.5,
          9.6,
          2.9,
          8.2,
          2.4,
          5.8,
          9.8,
          7.3,
          20.5,
          12.6,
          16.7,
          10.5,
          2.8,
          1.6,
          12.7,
          15.1,
          17.9,
          18.4,
          13.8,
          2.6,
          5.8,
          8.3,
          2.4,
          3.1,
          6.1,
          3.6,
          8,
          7.7,
          1.7,
          9.5,
          17.1,
          18.4,
          9.8,
          1,
          0.7,
          2.3,
          10.9,
          12.7,
          12.4,
          3.8,
          17,
          6.2,
          3.1,
          10.5,
          8.1,
          3.1,
          2.1,
          4.3,
          2.5,
          20.6,
          17.6,
          5.6,
          3.3,
          5.3,
          3.3,
          3.3,
          7.9,
          13,
          3,
          3,
          3.8,
          9.5,
          1.7,
          10.8,
          4.1,
          2.2,
          4.6,
          3.1,
          13.2,
          8.7,
          17.2,
          14,
          3.1,
          3.1,
          16.4,
          15.4,
          2.2,
          11.2,
          2.2,
          3.6,
          3.6,
          4.9,
          8.7,
          2.1,
          2.1,
          8.4,
          5.9,
          12.1,
          3.9,
          6.2,
          10.4,
          9.9,
          16.3,
          6.5,
          6.3,
          6.6,
          15.2,
          3.2,
          10.3,
          13.1,
          9.6,
          16.5,
          12.8,
          1.2,
          1,
          4.1,
          4.2,
          1.4,
          1.8,
          8.5,
          5,
          3.8,
          2.5,
          2.4,
          1.4,
          1.8,
          3.1,
          3.1,
          7.9,
          3.8,
          4.3,
          3.9,
          2.2,
          2.8,
          2.2,
          2.4,
          2.8,
          1.8,
          3.3,
          11.8,
          13.2,
          12.2,
          11.3,
          3.6,
          3,
          11.4,
          0.9,
          6.2,
          0.7,
          5.5,
          12.7,
          2.6,
          1.1,
          12.6,
          1.2,
          1.1,
          9.9,
          6,
          0.8,
          4,
          2.5,
          2.9,
          2.6,
          2.3,
          6.4,
          1.4,
          0.6,
          5.9,
          0.8,
          1.3,
          3.7,
          2.3,
          2.6,
          1.9,
          2.1,
          4,
          0.9,
          0.9,
          2.4,
          1.9,
          1.9,
          2.5,
          3.7,
          5.1,
          9.7,
          11.8,
          2.3,
          3.1,
          16.3,
          3.1,
          5.2,
          6.1,
          10.3,
          10.5,
          1.5,
          1.8,
          5.4,
          5.4,
          6.4,
          2.7,
          18.5,
          2.5,
          2.1,
          6.7,
          3.5,
          3.4,
          5.5,
          4.1,
          12.7,
          3,
          3.5,
          5.9,
          1.9,
          3.3,
          1.3,
          10.3,
          11.1,
          1.4,
          5.1,
          9,
          13.3,
          2.5,
          3.3,
          2.9,
          8.5,
          6.7,
          3.1,
          5.5,
          5.5,
          2.9,
          2.9,
          5.1,
          5.3,
          3.3,
          3,
          6.6,
          1.8,
          3,
          2.9,
          3.4,
          4.1,
          3.8,
          6.6,
          4,
          7,
          6.9,
          3.4,
          3.4,
          2,
          2,
          5.1,
          8.8,
          5.6,
          18.9,
          15.6,
          15.6,
          3,
          3.1,
          3,
          4.8,
          2.1,
          3.1,
          4.4,
          4.7,
          3,
          3,
          4.2,
          4.1,
          3.4,
          3.3,
          3,
          3.1,
          10.6,
          4.8,
          5.3,
          4.9,
          10.2,
          9.2,
          7.7,
          5.9,
          0.7,
          1.3,
          2.5,
          5.3,
          5.4,
          10.2,
          7.2,
          2.2,
          11,
          12,
          3.3,
          19.4,
          1.7,
          5.7,
          1.8,
          1.4,
          10.3,
          11.5,
          4.9,
          3.5,
          16.2,
          2,
          2.1,
          2.1,
          7.2,
          12,
          5.3,
          11.6,
          3.2,
          12.3,
          14,
          2.1,
          2.1,
          3,
          6.2,
          9.6,
          1.3,
          7.1,
          6.3,
          10.7,
          5.3,
          1.6,
          3.6,
          1.7,
          2.9,
          0.6,
          0.6,
          2.3,
          2.3,
          3.2,
          6.2,
          7.7,
          3.8,
          7.9,
          4.9,
          5,
          0.6,
          3.1,
          7.9,
          5.5,
          10.3,
          10.4,
          2,
          8.5,
          4.4,
          3.8,
          5.1,
          3.8,
          11.6,
          11.9,
          1.4,
          1.1,
          4.1,
          6.1,
          1.3,
          3,
          4.1,
          7.2,
          6.4,
          12.9,
          2.8,
          2.9,
          4.6,
          4.6,
          0.8,
          0.7,
          3.9,
          16.2,
          6.4
         ],
         "y0": " ",
         "yaxis": "y"
        }
       ],
       "layout": {
        "boxmode": "group",
        "legend": {
         "tracegroupgap": 0
        },
        "template": {
         "data": {
          "bar": [
           {
            "error_x": {
             "color": "#2a3f5f"
            },
            "error_y": {
             "color": "#2a3f5f"
            },
            "marker": {
             "line": {
              "color": "#E5ECF6",
              "width": 0.5
             },
             "pattern": {
              "fillmode": "overlay",
              "size": 10,
              "solidity": 0.2
             }
            },
            "type": "bar"
           }
          ],
          "barpolar": [
           {
            "marker": {
             "line": {
              "color": "#E5ECF6",
              "width": 0.5
             },
             "pattern": {
              "fillmode": "overlay",
              "size": 10,
              "solidity": 0.2
             }
            },
            "type": "barpolar"
           }
          ],
          "carpet": [
           {
            "aaxis": {
             "endlinecolor": "#2a3f5f",
             "gridcolor": "white",
             "linecolor": "white",
             "minorgridcolor": "white",
             "startlinecolor": "#2a3f5f"
            },
            "baxis": {
             "endlinecolor": "#2a3f5f",
             "gridcolor": "white",
             "linecolor": "white",
             "minorgridcolor": "white",
             "startlinecolor": "#2a3f5f"
            },
            "type": "carpet"
           }
          ],
          "choropleth": [
           {
            "colorbar": {
             "outlinewidth": 0,
             "ticks": ""
            },
            "type": "choropleth"
           }
          ],
          "contour": [
           {
            "colorbar": {
             "outlinewidth": 0,
             "ticks": ""
            },
            "colorscale": [
             [
              0,
              "#0d0887"
             ],
             [
              0.1111111111111111,
              "#46039f"
             ],
             [
              0.2222222222222222,
              "#7201a8"
             ],
             [
              0.3333333333333333,
              "#9c179e"
             ],
             [
              0.4444444444444444,
              "#bd3786"
             ],
             [
              0.5555555555555556,
              "#d8576b"
             ],
             [
              0.6666666666666666,
              "#ed7953"
             ],
             [
              0.7777777777777778,
              "#fb9f3a"
             ],
             [
              0.8888888888888888,
              "#fdca26"
             ],
             [
              1,
              "#f0f921"
             ]
            ],
            "type": "contour"
           }
          ],
          "contourcarpet": [
           {
            "colorbar": {
             "outlinewidth": 0,
             "ticks": ""
            },
            "type": "contourcarpet"
           }
          ],
          "heatmap": [
           {
            "colorbar": {
             "outlinewidth": 0,
             "ticks": ""
            },
            "colorscale": [
             [
              0,
              "#0d0887"
             ],
             [
              0.1111111111111111,
              "#46039f"
             ],
             [
              0.2222222222222222,
              "#7201a8"
             ],
             [
              0.3333333333333333,
              "#9c179e"
             ],
             [
              0.4444444444444444,
              "#bd3786"
             ],
             [
              0.5555555555555556,
              "#d8576b"
             ],
             [
              0.6666666666666666,
              "#ed7953"
             ],
             [
              0.7777777777777778,
              "#fb9f3a"
             ],
             [
              0.8888888888888888,
              "#fdca26"
             ],
             [
              1,
              "#f0f921"
             ]
            ],
            "type": "heatmap"
           }
          ],
          "heatmapgl": [
           {
            "colorbar": {
             "outlinewidth": 0,
             "ticks": ""
            },
            "colorscale": [
             [
              0,
              "#0d0887"
             ],
             [
              0.1111111111111111,
              "#46039f"
             ],
             [
              0.2222222222222222,
              "#7201a8"
             ],
             [
              0.3333333333333333,
              "#9c179e"
             ],
             [
              0.4444444444444444,
              "#bd3786"
             ],
             [
              0.5555555555555556,
              "#d8576b"
             ],
             [
              0.6666666666666666,
              "#ed7953"
             ],
             [
              0.7777777777777778,
              "#fb9f3a"
             ],
             [
              0.8888888888888888,
              "#fdca26"
             ],
             [
              1,
              "#f0f921"
             ]
            ],
            "type": "heatmapgl"
           }
          ],
          "histogram": [
           {
            "marker": {
             "pattern": {
              "fillmode": "overlay",
              "size": 10,
              "solidity": 0.2
             }
            },
            "type": "histogram"
           }
          ],
          "histogram2d": [
           {
            "colorbar": {
             "outlinewidth": 0,
             "ticks": ""
            },
            "colorscale": [
             [
              0,
              "#0d0887"
             ],
             [
              0.1111111111111111,
              "#46039f"
             ],
             [
              0.2222222222222222,
              "#7201a8"
             ],
             [
              0.3333333333333333,
              "#9c179e"
             ],
             [
              0.4444444444444444,
              "#bd3786"
             ],
             [
              0.5555555555555556,
              "#d8576b"
             ],
             [
              0.6666666666666666,
              "#ed7953"
             ],
             [
              0.7777777777777778,
              "#fb9f3a"
             ],
             [
              0.8888888888888888,
              "#fdca26"
             ],
             [
              1,
              "#f0f921"
             ]
            ],
            "type": "histogram2d"
           }
          ],
          "histogram2dcontour": [
           {
            "colorbar": {
             "outlinewidth": 0,
             "ticks": ""
            },
            "colorscale": [
             [
              0,
              "#0d0887"
             ],
             [
              0.1111111111111111,
              "#46039f"
             ],
             [
              0.2222222222222222,
              "#7201a8"
             ],
             [
              0.3333333333333333,
              "#9c179e"
             ],
             [
              0.4444444444444444,
              "#bd3786"
             ],
             [
              0.5555555555555556,
              "#d8576b"
             ],
             [
              0.6666666666666666,
              "#ed7953"
             ],
             [
              0.7777777777777778,
              "#fb9f3a"
             ],
             [
              0.8888888888888888,
              "#fdca26"
             ],
             [
              1,
              "#f0f921"
             ]
            ],
            "type": "histogram2dcontour"
           }
          ],
          "mesh3d": [
           {
            "colorbar": {
             "outlinewidth": 0,
             "ticks": ""
            },
            "type": "mesh3d"
           }
          ],
          "parcoords": [
           {
            "line": {
             "colorbar": {
              "outlinewidth": 0,
              "ticks": ""
             }
            },
            "type": "parcoords"
           }
          ],
          "pie": [
           {
            "automargin": true,
            "type": "pie"
           }
          ],
          "scatter": [
           {
            "fillpattern": {
             "fillmode": "overlay",
             "size": 10,
             "solidity": 0.2
            },
            "type": "scatter"
           }
          ],
          "scatter3d": [
           {
            "line": {
             "colorbar": {
              "outlinewidth": 0,
              "ticks": ""
             }
            },
            "marker": {
             "colorbar": {
              "outlinewidth": 0,
              "ticks": ""
             }
            },
            "type": "scatter3d"
           }
          ],
          "scattercarpet": [
           {
            "marker": {
             "colorbar": {
              "outlinewidth": 0,
              "ticks": ""
             }
            },
            "type": "scattercarpet"
           }
          ],
          "scattergeo": [
           {
            "marker": {
             "colorbar": {
              "outlinewidth": 0,
              "ticks": ""
             }
            },
            "type": "scattergeo"
           }
          ],
          "scattergl": [
           {
            "marker": {
             "colorbar": {
              "outlinewidth": 0,
              "ticks": ""
             }
            },
            "type": "scattergl"
           }
          ],
          "scattermapbox": [
           {
            "marker": {
             "colorbar": {
              "outlinewidth": 0,
              "ticks": ""
             }
            },
            "type": "scattermapbox"
           }
          ],
          "scatterpolar": [
           {
            "marker": {
             "colorbar": {
              "outlinewidth": 0,
              "ticks": ""
             }
            },
            "type": "scatterpolar"
           }
          ],
          "scatterpolargl": [
           {
            "marker": {
             "colorbar": {
              "outlinewidth": 0,
              "ticks": ""
             }
            },
            "type": "scatterpolargl"
           }
          ],
          "scatterternary": [
           {
            "marker": {
             "colorbar": {
              "outlinewidth": 0,
              "ticks": ""
             }
            },
            "type": "scatterternary"
           }
          ],
          "surface": [
           {
            "colorbar": {
             "outlinewidth": 0,
             "ticks": ""
            },
            "colorscale": [
             [
              0,
              "#0d0887"
             ],
             [
              0.1111111111111111,
              "#46039f"
             ],
             [
              0.2222222222222222,
              "#7201a8"
             ],
             [
              0.3333333333333333,
              "#9c179e"
             ],
             [
              0.4444444444444444,
              "#bd3786"
             ],
             [
              0.5555555555555556,
              "#d8576b"
             ],
             [
              0.6666666666666666,
              "#ed7953"
             ],
             [
              0.7777777777777778,
              "#fb9f3a"
             ],
             [
              0.8888888888888888,
              "#fdca26"
             ],
             [
              1,
              "#f0f921"
             ]
            ],
            "type": "surface"
           }
          ],
          "table": [
           {
            "cells": {
             "fill": {
              "color": "#EBF0F8"
             },
             "line": {
              "color": "white"
             }
            },
            "header": {
             "fill": {
              "color": "#C8D4E3"
             },
             "line": {
              "color": "white"
             }
            },
            "type": "table"
           }
          ]
         },
         "layout": {
          "annotationdefaults": {
           "arrowcolor": "#2a3f5f",
           "arrowhead": 0,
           "arrowwidth": 1
          },
          "autotypenumbers": "strict",
          "coloraxis": {
           "colorbar": {
            "outlinewidth": 0,
            "ticks": ""
           }
          },
          "colorscale": {
           "diverging": [
            [
             0,
             "#8e0152"
            ],
            [
             0.1,
             "#c51b7d"
            ],
            [
             0.2,
             "#de77ae"
            ],
            [
             0.3,
             "#f1b6da"
            ],
            [
             0.4,
             "#fde0ef"
            ],
            [
             0.5,
             "#f7f7f7"
            ],
            [
             0.6,
             "#e6f5d0"
            ],
            [
             0.7,
             "#b8e186"
            ],
            [
             0.8,
             "#7fbc41"
            ],
            [
             0.9,
             "#4d9221"
            ],
            [
             1,
             "#276419"
            ]
           ],
           "sequential": [
            [
             0,
             "#0d0887"
            ],
            [
             0.1111111111111111,
             "#46039f"
            ],
            [
             0.2222222222222222,
             "#7201a8"
            ],
            [
             0.3333333333333333,
             "#9c179e"
            ],
            [
             0.4444444444444444,
             "#bd3786"
            ],
            [
             0.5555555555555556,
             "#d8576b"
            ],
            [
             0.6666666666666666,
             "#ed7953"
            ],
            [
             0.7777777777777778,
             "#fb9f3a"
            ],
            [
             0.8888888888888888,
             "#fdca26"
            ],
            [
             1,
             "#f0f921"
            ]
           ],
           "sequentialminus": [
            [
             0,
             "#0d0887"
            ],
            [
             0.1111111111111111,
             "#46039f"
            ],
            [
             0.2222222222222222,
             "#7201a8"
            ],
            [
             0.3333333333333333,
             "#9c179e"
            ],
            [
             0.4444444444444444,
             "#bd3786"
            ],
            [
             0.5555555555555556,
             "#d8576b"
            ],
            [
             0.6666666666666666,
             "#ed7953"
            ],
            [
             0.7777777777777778,
             "#fb9f3a"
            ],
            [
             0.8888888888888888,
             "#fdca26"
            ],
            [
             1,
             "#f0f921"
            ]
           ]
          },
          "colorway": [
           "#636efa",
           "#EF553B",
           "#00cc96",
           "#ab63fa",
           "#FFA15A",
           "#19d3f3",
           "#FF6692",
           "#B6E880",
           "#FF97FF",
           "#FECB52"
          ],
          "font": {
           "color": "#2a3f5f"
          },
          "geo": {
           "bgcolor": "white",
           "lakecolor": "white",
           "landcolor": "#E5ECF6",
           "showlakes": true,
           "showland": true,
           "subunitcolor": "white"
          },
          "hoverlabel": {
           "align": "left"
          },
          "hovermode": "closest",
          "mapbox": {
           "style": "light"
          },
          "paper_bgcolor": "white",
          "plot_bgcolor": "#E5ECF6",
          "polar": {
           "angularaxis": {
            "gridcolor": "white",
            "linecolor": "white",
            "ticks": ""
           },
           "bgcolor": "#E5ECF6",
           "radialaxis": {
            "gridcolor": "white",
            "linecolor": "white",
            "ticks": ""
           }
          },
          "scene": {
           "xaxis": {
            "backgroundcolor": "#E5ECF6",
            "gridcolor": "white",
            "gridwidth": 2,
            "linecolor": "white",
            "showbackground": true,
            "ticks": "",
            "zerolinecolor": "white"
           },
           "yaxis": {
            "backgroundcolor": "#E5ECF6",
            "gridcolor": "white",
            "gridwidth": 2,
            "linecolor": "white",
            "showbackground": true,
            "ticks": "",
            "zerolinecolor": "white"
           },
           "zaxis": {
            "backgroundcolor": "#E5ECF6",
            "gridcolor": "white",
            "gridwidth": 2,
            "linecolor": "white",
            "showbackground": true,
            "ticks": "",
            "zerolinecolor": "white"
           }
          },
          "shapedefaults": {
           "line": {
            "color": "#2a3f5f"
           }
          },
          "ternary": {
           "aaxis": {
            "gridcolor": "white",
            "linecolor": "white",
            "ticks": ""
           },
           "baxis": {
            "gridcolor": "white",
            "linecolor": "white",
            "ticks": ""
           },
           "bgcolor": "#E5ECF6",
           "caxis": {
            "gridcolor": "white",
            "linecolor": "white",
            "ticks": ""
           }
          },
          "title": {
           "x": 0.05
          },
          "xaxis": {
           "automargin": true,
           "gridcolor": "white",
           "linecolor": "white",
           "ticks": "",
           "title": {
            "standoff": 15
           },
           "zerolinecolor": "white",
           "zerolinewidth": 2
          },
          "yaxis": {
           "automargin": true,
           "gridcolor": "white",
           "linecolor": "white",
           "ticks": "",
           "title": {
            "standoff": 15
           },
           "zerolinecolor": "white",
           "zerolinewidth": 2
          }
         }
        },
        "title": {
         "text": "Box Plot of MILES by CATEGORY"
        },
        "xaxis": {
         "anchor": "y",
         "domain": [
          0,
          1
         ],
         "title": {
          "text": "CATEGORY"
         }
        },
        "yaxis": {
         "anchor": "x",
         "domain": [
          0,
          1
         ],
         "title": {
          "text": "MILES"
         }
        }
       }
      },
      "text/html": [
       "<div>                            <div id=\"f7b07bec-85a0-4d1f-a0bb-6c7c5256e2ac\" class=\"plotly-graph-div\" style=\"height:525px; width:100%;\"></div>            <script type=\"text/javascript\">                require([\"plotly\"], function(Plotly) {                    window.PLOTLYENV=window.PLOTLYENV || {};                                    if (document.getElementById(\"f7b07bec-85a0-4d1f-a0bb-6c7c5256e2ac\")) {                    Plotly.newPlot(                        \"f7b07bec-85a0-4d1f-a0bb-6c7c5256e2ac\",                        [{\"alignmentgroup\":\"True\",\"hovertemplate\":\"CATEGORY=%{x}<br>MILES=%{y}<extra></extra>\",\"legendgroup\":\"\",\"marker\":{\"color\":\"#636efa\"},\"name\":\"\",\"notched\":false,\"offsetgroup\":\"\",\"orientation\":\"v\",\"showlegend\":false,\"x\":[\"Business\",\"Business\",\"Business\",\"Business\",\"Business\",\"Business\",\"Business\",\"Business\",\"Business\",\"Business\",\"Business\",\"Business\",\"Business\",\"Business\",\"Business\",\"Business\",\"Business\",\"Business\",\"Business\",\"Business\",\"Business\",\"Business\",\"Business\",\"Business\",\"Business\",\"Business\",\"Business\",\"Business\",\"Business\",\"Business\",\"Business\",\"Business\",\"Business\",\"Business\",\"Business\",\"Business\",\"Business\",\"Business\",\"Business\",\"Business\",\"Business\",\"Business\",\"Business\",\"Business\",\"Business\",\"Business\",\"Business\",\"Business\",\"Business\",\"Business\",\"Business\",\"Business\",\"Business\",\"Business\",\"Business\",\"Business\",\"Business\",\"Business\",\"Business\",\"Business\",\"Business\",\"Business\",\"Business\",\"Business\",\"Business\",\"Business\",\"Business\",\"Business\",\"Business\",\"Business\",\"Business\",\"Business\",\"Business\",\"Business\",\"Business\",\"Business\",\"Business\",\"Business\",\"Business\",\"Business\",\"Business\",\"Personal\",\"Personal\",\"Personal\",\"Personal\",\"Business\",\"Business\",\"Business\",\"Business\",\"Business\",\"Business\",\"Business\",\"Business\",\"Business\",\"Business\",\"Business\",\"Business\",\"Business\",\"Personal\",\"Personal\",\"Business\",\"Business\",\"Business\",\"Business\",\"Business\",\"Business\",\"Business\",\"Business\",\"Business\",\"Business\",\"Business\",\"Business\",\"Business\",\"Business\",\"Business\",\"Business\",\"Business\",\"Business\",\"Business\",\"Business\",\"Business\",\"Business\",\"Business\",\"Personal\",\"Personal\",\"Business\",\"Business\",\"Business\",\"Personal\",\"Personal\",\"Personal\",\"Personal\",\"Personal\",\"Business\",\"Personal\",\"Business\",\"Business\",\"Business\",\"Business\",\"Business\",\"Business\",\"Business\",\"Business\",\"Business\",\"Business\",\"Business\",\"Business\",\"Business\",\"Business\",\"Business\",\"Business\",\"Business\",\"Business\",\"Business\",\"Business\",\"Personal\",\"Business\",\"Business\",\"Personal\",\"Personal\",\"Personal\",\"Business\",\"Business\",\"Personal\",\"Business\",\"Business\",\"Business\",\"Business\",\"Business\",\"Business\",\"Personal\",\"Business\",\"Business\",\"Business\",\"Business\",\"Business\",\"Business\",\"Business\",\"Business\",\"Business\",\"Business\",\"Business\",\"Business\",\"Business\",\"Business\",\"Business\",\"Personal\",\"Personal\",\"Business\",\"Business\",\"Business\",\"Business\",\"Business\",\"Business\",\"Business\",\"Business\",\"Business\",\"Business\",\"Personal\",\"Business\",\"Business\",\"Business\",\"Business\",\"Business\",\"Business\",\"Business\",\"Business\",\"Business\",\"Business\",\"Personal\",\"Business\",\"Business\",\"Business\",\"Business\",\"Business\",\"Business\",\"Business\",\"Business\",\"Business\",\"Business\",\"Business\",\"Business\",\"Business\",\"Personal\",\"Business\",\"Personal\",\"Personal\",\"Personal\",\"Business\",\"Business\",\"Business\",\"Business\",\"Business\",\"Business\",\"Business\",\"Business\",\"Business\",\"Business\",\"Business\",\"Business\",\"Business\",\"Business\",\"Personal\",\"Business\",\"Personal\",\"Business\",\"Business\",\"Personal\",\"Personal\",\"Personal\",\"Personal\",\"Personal\",\"Business\",\"Personal\",\"Personal\",\"Personal\",\"Business\",\"Business\",\"Business\",\"Personal\",\"Personal\",\"Personal\",\"Personal\",\"Personal\",\"Personal\",\"Personal\",\"Business\",\"Business\",\"Business\",\"Business\",\"Business\",\"Personal\",\"Personal\",\"Personal\",\"Business\",\"Business\",\"Business\",\"Business\",\"Business\",\"Business\",\"Business\",\"Business\",\"Business\",\"Business\",\"Business\",\"Business\",\"Business\",\"Business\",\"Business\",\"Business\",\"Business\",\"Business\",\"Business\",\"Business\",\"Business\",\"Business\",\"Business\",\"Business\",\"Business\",\"Business\",\"Business\",\"Business\",\"Business\",\"Business\",\"Business\",\"Business\",\"Business\",\"Business\",\"Business\",\"Business\",\"Business\",\"Business\",\"Business\",\"Business\",\"Business\",\"Business\",\"Business\",\"Business\",\"Business\",\"Business\",\"Business\",\"Business\",\"Business\",\"Business\",\"Business\",\"Business\",\"Business\",\"Business\",\"Business\",\"Business\",\"Business\",\"Business\",\"Business\",\"Business\",\"Business\",\"Business\",\"Business\",\"Business\",\"Business\",\"Business\",\"Business\",\"Business\",\"Business\",\"Business\",\"Business\",\"Business\",\"Business\",\"Business\",\"Business\",\"Business\",\"Business\",\"Business\",\"Business\",\"Business\",\"Business\",\"Business\",\"Business\",\"Business\",\"Business\",\"Business\",\"Business\",\"Business\",\"Business\",\"Business\",\"Business\",\"Business\",\"Business\",\"Business\",\"Business\",\"Business\",\"Business\",\"Business\",\"Business\",\"Business\",\"Business\",\"Business\",\"Business\",\"Business\",\"Business\",\"Business\",\"Business\",\"Business\",\"Business\",\"Business\",\"Business\",\"Business\",\"Business\",\"Business\",\"Business\",\"Business\",\"Business\",\"Business\",\"Business\",\"Business\",\"Business\",\"Business\",\"Business\",\"Business\",\"Business\",\"Business\",\"Business\",\"Business\",\"Business\",\"Business\",\"Business\",\"Business\",\"Business\",\"Business\",\"Business\",\"Business\",\"Business\",\"Business\",\"Business\",\"Business\",\"Business\",\"Business\",\"Personal\",\"Business\",\"Business\",\"Business\",\"Business\",\"Business\",\"Business\",\"Business\",\"Business\",\"Business\",\"Business\",\"Business\",\"Business\",\"Business\",\"Business\",\"Business\",\"Business\",\"Business\",\"Business\",\"Business\",\"Business\",\"Business\",\"Business\",\"Business\",\"Business\",\"Business\",\"Business\",\"Business\",\"Business\",\"Business\",\"Business\",\"Business\",\"Business\",\"Business\",\"Business\",\"Business\",\"Business\",\"Business\",\"Business\",\"Business\",\"Business\",\"Business\",\"Business\",\"Business\",\"Business\",\"Business\",\"Business\",\"Business\",\"Business\",\"Business\",\"Business\",\"Business\",\"Business\",\"Business\",\"Business\",\"Business\",\"Business\",\"Business\",\"Business\",\"Business\",\"Business\",\"Business\",\"Business\",\"Business\",\"Business\",\"Business\",\"Business\",\"Business\",\"Business\",\"Business\",\"Business\",\"Business\",\"Business\",\"Business\",\"Business\",\"Business\",\"Business\",\"Business\",\"Business\",\"Business\",\"Business\",\"Business\",\"Business\",\"Business\",\"Business\",\"Business\",\"Business\",\"Business\",\"Business\",\"Business\",\"Personal\",\"Personal\",\"Personal\",\"Personal\",\"Personal\",\"Business\",\"Personal\",\"Personal\",\"Personal\",\"Personal\",\"Personal\",\"Personal\",\"Business\",\"Personal\",\"Personal\",\"Personal\",\"Personal\",\"Personal\",\"Business\",\"Business\",\"Business\",\"Business\",\"Business\",\"Business\",\"Business\",\"Business\",\"Business\",\"Personal\",\"Personal\",\"Personal\",\"Personal\",\"Business\",\"Business\",\"Business\",\"Business\",\"Business\",\"Business\",\"Business\",\"Business\",\"Business\",\"Business\",\"Business\",\"Business\",\"Business\",\"Business\",\"Business\",\"Business\",\"Business\",\"Business\",\"Business\",\"Business\",\"Business\",\"Business\",\"Business\",\"Business\",\"Business\",\"Business\",\"Business\",\"Business\",\"Business\",\"Business\",\"Business\",\"Business\",\"Business\",\"Business\",\"Business\",\"Business\",\"Business\",\"Business\",\"Business\",\"Business\",\"Business\",\"Business\",\"Business\",\"Business\",\"Business\",\"Business\",\"Business\",\"Business\",\"Business\",\"Business\",\"Business\",\"Business\",\"Business\",\"Business\",\"Business\",\"Business\",\"Business\",\"Business\",\"Business\",\"Business\",\"Business\",\"Business\",\"Business\",\"Business\",\"Business\",\"Business\",\"Business\",\"Business\",\"Business\",\"Business\",\"Business\",\"Business\",\"Business\",\"Business\",\"Business\",\"Business\",\"Business\",\"Business\",\"Business\",\"Business\",\"Business\",\"Business\",\"Business\",\"Business\",\"Business\",\"Business\",\"Business\",\"Business\",\"Business\",\"Business\",\"Business\",\"Business\",\"Business\",\"Business\",\"Business\",\"Business\",\"Business\",\"Business\",\"Business\",\"Business\",\"Business\",\"Business\",\"Business\",\"Business\",\"Business\",\"Business\",\"Business\",\"Business\",\"Business\",\"Business\",\"Business\",\"Business\",\"Business\",\"Business\",\"Business\",\"Business\",\"Business\",\"Business\",\"Business\",\"Business\",\"Business\",\"Business\",\"Business\",\"Business\",\"Business\",\"Business\",\"Business\",\"Business\",\"Business\",\"Business\",\"Business\",\"Business\",\"Business\",\"Business\",\"Business\",\"Business\",\"Business\",\"Business\",\"Business\",\"Business\",\"Business\",\"Business\",\"Business\",\"Business\",\"Business\",\"Business\",\"Business\",\"Business\",\"Business\",\"Business\",\"Business\",\"Business\",\"Business\",\"Business\",\"Business\",\"Business\",\"Business\",\"Business\",\"Business\",\"Business\",\"Business\",\"Business\",\"Business\",\"Business\",\"Business\",\"Business\",\"Business\",\"Business\",\"Business\",\"Business\",\"Business\",\"Business\",\"Business\",\"Business\",\"Business\",\"Business\",\"Business\",\"Business\",\"Business\",\"Business\",\"Business\",\"Business\",\"Business\",\"Business\",\"Business\",\"Business\",\"Business\",\"Business\",\"Business\",\"Business\",\"Business\",\"Business\",\"Business\",\"Business\",\"Business\",\"Business\",\"Business\",\"Business\",\"Business\",\"Business\",\"Business\",\"Business\",\"Business\",\"Business\",\"Business\",\"Business\",\"Business\",\"Business\",\"Business\",\"Business\",\"Business\",\"Business\",\"Business\",\"Business\",\"Business\",\"Business\",\"Business\",\"Business\",\"Business\",\"Business\",\"Business\",\"Business\",\"Business\",\"Business\",\"Business\",\"Business\",\"Business\",\"Business\",\"Business\",\"Business\",\"Business\",\"Business\",\"Business\",\"Business\",\"Business\",\"Business\",\"Business\",\"Business\",\"Business\",\"Business\",\"Business\",\"Business\",\"Business\",\"Business\",\"Business\",\"Business\",\"Business\",\"Business\",\"Business\",\"Business\",\"Business\",\"Business\",\"Business\",\"Business\",\"Business\",\"Business\",\"Business\",\"Business\",\"Business\",\"Business\",\"Business\",\"Business\",\"Business\",\"Business\",\"Business\",\"Business\",\"Business\",\"Business\",\"Business\",\"Business\",\"Business\",\"Business\",\"Business\",\"Business\",\"Business\",\"Business\",\"Business\",\"Business\",\"Business\",\"Business\",\"Business\",\"Business\",\"Business\",\"Business\",\"Business\",\"Business\",\"Business\",\"Business\",\"Business\",\"Business\",\"Business\",\"Business\",\"Business\",\"Business\",\"Business\",\"Business\",\"Business\",\"Business\",\"Business\",\"Business\",\"Business\",\"Business\",\"Business\",\"Business\",\"Business\",\"Business\",\"Business\",\"Business\",\"Business\",\"Business\",\"Business\",\"Business\",\"Business\",\"Business\",\"Business\",\"Business\",\"Business\",\"Business\",\"Business\",\"Business\",\"Business\",\"Business\",\"Business\",\"Business\",\"Business\",\"Business\",\"Business\",\"Business\",\"Business\",\"Business\",\"Business\",\"Business\",\"Business\",\"Business\",\"Business\",\"Business\",\"Business\",\"Business\",\"Business\",\"Business\",\"Business\",\"Business\",\"Business\",\"Business\",\"Business\",\"Business\",\"Business\",\"Business\",\"Business\",\"Business\",\"Business\",\"Business\",\"Business\",\"Business\",\"Business\",\"Business\",\"Business\",\"Business\",\"Business\",\"Business\",\"Business\",\"Business\",\"Business\",\"Business\",\"Business\",\"Business\",\"Business\",\"Business\",\"Business\",\"Business\",\"Business\",\"Business\",\"Business\",\"Business\",\"Business\",\"Business\",\"Business\",\"Business\",\"Business\",\"Business\",\"Business\",\"Business\",\"Business\",\"Business\",\"Business\",\"Business\",\"Business\",\"Business\",\"Business\",\"Business\",\"Business\",\"Business\",\"Business\",\"Business\",\"Business\",\"Business\",\"Business\",\"Business\",\"Business\",\"Business\",\"Business\",\"Business\",\"Business\",\"Business\",\"Business\",\"Business\",\"Business\",\"Business\",\"Business\",\"Business\",\"Business\",\"Business\",\"Business\",\"Business\",\"Business\",\"Business\",\"Business\",\"Business\",\"Business\",\"Business\",\"Business\",\"Business\",\"Business\",\"Business\",\"Business\",\"Business\",\"Business\",\"Business\",\"Business\",\"Business\",\"Business\",\"Business\",\"Business\",\"Business\",\"Business\",\"Business\",\"Business\",\"Business\",\"Business\",\"Business\",\"Business\",\"Business\",\"Business\",\"Business\",\"Business\",\"Business\",\"Business\",\"Business\",\"Business\",\"Business\",\"Business\",\"Business\",\"Business\",\"Business\",\"Business\",\"Business\",\"Business\",\"Business\",\"Business\",\"Business\",\"Business\",\"Business\",\"Business\",\"Business\",\"Business\",\"Business\",\"Business\",\"Business\",\"Business\",\"Business\",\"Business\",\"Business\",\"Business\",\"Business\",\"Business\",\"Business\",\"Business\",\"Business\",\"Business\",\"Business\",\"Business\",\"Business\",\"Business\",\"Business\",\"Business\",\"Business\",\"Business\",\"Business\",\"Business\",\"Business\",\"Business\",\"Business\",\"Business\",\"Business\",\"Business\",\"Business\",\"Business\",\"Business\",\"Business\",\"Business\",\"Business\",\"Business\",\"Business\",\"Business\",\"Business\",\"Business\",\"Business\",\"Business\",\"Business\",\"Business\",\"Business\",\"Business\",\"Business\",\"Business\",\"Business\",\"Business\",\"Business\",\"Business\",\"Business\",\"Business\",\"Business\",\"Business\",\"Business\",\"Business\",\"Business\",\"Business\",\"Business\",\"Business\",\"Business\",\"Business\",\"Business\",\"Business\",\"Business\",\"Business\",\"Business\",\"Business\",\"Business\",\"Business\",\"Business\",\"Business\"],\"x0\":\" \",\"xaxis\":\"x\",\"y\":[5.1,5.0,4.8,4.7,4.3,7.1,0.8,8.3,16.5,10.8,7.5,6.2,6.4,1.6,1.7,1.9,1.9,4.0,1.8,2.4,2.0,15.1,11.2,11.8,3.9,8.0,10.4,10.4,4.8,4.7,7.2,7.6,17.1,15.1,1.6,2.4,1.0,2.0,2.3,1.9,1.4,0.5,1.8,18.7,3.4,2.7,12.9,19.0,14.7,15.7,4.6,5.2,10.4,10.1,5.8,5.5,5.7,5.7,19.4,3.9,8.3,6.0,1.6,5.2,9.7,1.6,1.1,1.6,9.0,7.7,10.4,10.4,11.4,9.0,3.2,5.6,5.7,6.1,6.1,4.3,2.7,5.3,3.0,5.1,1.5,6.1,6.1,17.3,5.7,13.5,6.1,8.5,2.6,17.0,18.0,8.4,11.5,8.9,2.7,1.8,8.1,2.0,13.0,13.9,14.1,2.6,4.5,1.7,1.8,6.0,1.1,3.6,14.7,1.7,21.4,0.5,12.7,6.0,5.2,10.0,18.3,11.2,7.6,1.5,1.0,7.3,3.5,4.2,13.6,2.5,14.4,3.0,1.5,18.4,16.5,3.2,7.7,14.5,2.4,4.6,8.8,8.3,13.0,8.1,2.2,9.7,20.0,8.1,1.5,1.7,3.1,3.2,6.0,5.8,6.3,1.7,10.6,9.9,1.9,4.2,2.0,7.7,6.8,2.1,3.8,5.6,2.6,6.6,8.0,8.0,2.2,2.3,5.2,7.6,17.3,9.9,9.9,10.4,10.9,15.7,4.9,0.8,13.5,1.9,2.0,6.5,4.2,3.5,7.8,7.8,3.9,2.8,12.4,5.9,9.4,11.9,7.2,7.6,1.6,8.4,12.8,2.3,1.6,2.0,0.8,1.2,1.0,2.1,2.2,1.9,5.7,8.4,6.2,10.5,7.2,12.5,2.0,2.7,2.0,2.8,1.7,2.0,2.1,1.7,15.5,4.9,12.6,10.4,1.1,1.1,13.2,1.0,9.2,9.4,12.0,3.1,2.1,1.2,7.5,5.9,6.2,10.4,1.2,9.6,1.0,0.9,8.8,8.1,1.4,1.7,1.6,2.0,2.2,6.7,8.8,1.2,2.1,6.6,6.1,6.9,7.3,3.6,13.6,6.2,6.0,13.8,16.1,16.4,11.0,15.5,20.3,0.7,5.5,5.1,7.9,8.0,6.1,6.1,10.5,8.7,1.8,19.1,18.6,2.8,8.9,7.5,15.9,6.5,15.3,13.7,11.9,1.4,15.2,6.0,6.1,8.2,8.0,13.6,10.4,10.0,6.0,6.5,3.1,1.9,4.2,4.9,4.8,12.4,5.5,9.9,10.0,14.2,18.2,7.7,6.8,2.1,2.3,6.2,7.5,3.1,2.2,3.9,2.5,8.7,14.5,4.5,5.0,14.2,2.9,12.9,14.4,17.0,7.9,8.4,20.5,9.8,17.6,9.3,7.9,8.1,3.1,3.1,2.8,2.7,1.9,8.4,7.6,2.9,11.2,8.2,3.0,2.5,3.6,3.6,4.5,1.2,1.7,4.7,6.1,11.3,14.9,14.0,1.8,6.7,9.6,10.4,9.9,6.0,3.3,3.1,1.7,4.0,7.8,7.8,3.8,2.5,9.9,9.9,3.0,2.4,5.7,7.2,10.4,9.9,10.4,9.9,8.7,3.3,0.7,2.5,0.5,0.9,4.8,16.3,10.4,9.9,3.7,4.6,1.7,10.4,9.9,2.5,4.3,2.8,8.4,13.2,3.9,5.1,5.2,9.8,11.6,5.1,9.3,12.4,1.9,6.4,5.5,1.5,14.5,2.7,15.0,12.9,13.6,12.2,8.7,6.0,5.9,19.3,16.6,7.1,2.1,8.6,9.0,3.1,8.4,12.8,4.5,11.8,1.1,17.0,1.7,15.5,1.6,1.5,12.6,4.8,2.2,13.0,2.5,8.6,5.2,7.6,1.8,4.7,2.8,4.4,1.0,8.2,10.4,9.9,7.3,7.4,1.6,1.8,10.4,9.9,9.9,9.9,13.3,11.3,10.5,9.9,10.1,9.9,3.1,3.1,9.9,9.9,8.8,8.7,11.8,1.2,9.9,0.6,9.9,8.6,6.3,9.9,9.9,3.3,3.1,7.9,8.9,12.8,7.7,7.0,12.5,13.2,13.0,4.9,8.5,1.3,1.8,13.6,13.4,12.3,1.4,8.7,2.2,4.4,3.3,11.8,8.3,3.2,12.2,4.5,3.8,13.0,4.4,15.1,4.1,6.1,3.3,4.7,7.2,5.5,3.3,0.9,3.8,6.4,3.0,8.7,3.9,4.8,2.8,1.4,1.4,2.7,2.3,3.7,2.9,3.8,5.1,9.1,8.0,9.9,6.1,12.2,8.0,4.0,9.5,3.0,6.3,10.4,9.9,1.5,4.9,7.9,1.7,2.2,2.1,2.5,2.5,2.8,14.7,14.6,2.3,2.2,2.2,14.0,13.3,1.8,6.2,1.3,1.9,6.9,4.6,2.8,9.1,8.1,8.4,4.9,1.0,1.0,2.0,1.1,1.5,1.3,1.8,1.5,6.6,8.0,2.7,2.7,2.5,2.5,5.2,4.0,2.7,4.8,3.2,6.9,14.9,17.4,12.9,15.3,1.0,6.0,2.2,4.4,2.8,1.9,1.8,8.4,15.6,14.1,15.7,7.9,2.7,5.5,5.7,1.2,5.7,16.2,2.6,12.1,1.4,6.4,7.3,5.3,5.5,7.7,7.6,7.6,3.3,6.5,2.0,5.7,3.2,12.5,7.6,7.7,12.2,1.4,20.2,9.8,6.3,4.9,1.5,10.9,19.0,19.0,7.9,4.1,18.7,8.7,7.5,7.7,4.4,5.0,1.9,7.9,17.7,5.5,9.2,7.3,5.0,3.8,3.9,7.4,1.5,7.9,2.9,3.4,3.8,5.9,9.6,7.0,0.9,10.1,6.2,5.3,12.1,10.8,4.3,2.5,5.7,2.8,4.0,5.5,2.6,2.1,8.8,4.4,5.3,13.0,13.0,10.6,2.2,9.2,12.9,17.2,2.8,8.6,9.8,3.6,1.7,11.5,0.7,0.7,0.9,1.6,9.4,18.2,10.5,5.7,18.0,18.3,16.5,9.6,2.9,8.2,2.4,5.8,9.8,7.3,20.5,12.6,16.7,10.5,2.8,1.6,12.7,15.1,17.9,18.4,13.8,2.6,5.8,8.3,2.4,3.1,6.1,3.6,8.0,7.7,1.7,9.5,17.1,18.4,9.8,1.0,0.7,2.3,10.9,12.7,12.4,3.8,17.0,6.2,3.1,10.5,8.1,3.1,2.1,4.3,2.5,20.6,17.6,5.6,3.3,5.3,3.3,3.3,7.9,13.0,3.0,3.0,3.8,9.5,1.7,10.8,4.1,2.2,4.6,3.1,13.2,8.7,17.2,14.0,3.1,3.1,16.4,15.4,2.2,11.2,2.2,3.6,3.6,4.9,8.7,2.1,2.1,8.4,5.9,12.1,3.9,6.2,10.4,9.9,16.3,6.5,6.3,6.6,15.2,3.2,10.3,13.1,9.6,16.5,12.8,1.2,1.0,4.1,4.2,1.4,1.8,8.5,5.0,3.8,2.5,2.4,1.4,1.8,3.1,3.1,7.9,3.8,4.3,3.9,2.2,2.8,2.2,2.4,2.8,1.8,3.3,11.8,13.2,12.2,11.3,3.6,3.0,11.4,0.9,6.2,0.7,5.5,12.7,2.6,1.1,12.6,1.2,1.1,9.9,6.0,0.8,4.0,2.5,2.9,2.6,2.3,6.4,1.4,0.6,5.9,0.8,1.3,3.7,2.3,2.6,1.9,2.1,4.0,0.9,0.9,2.4,1.9,1.9,2.5,3.7,5.1,9.7,11.8,2.3,3.1,16.3,3.1,5.2,6.1,10.3,10.5,1.5,1.8,5.4,5.4,6.4,2.7,18.5,2.5,2.1,6.7,3.5,3.4,5.5,4.1,12.7,3.0,3.5,5.9,1.9,3.3,1.3,10.3,11.1,1.4,5.1,9.0,13.3,2.5,3.3,2.9,8.5,6.7,3.1,5.5,5.5,2.9,2.9,5.1,5.3,3.3,3.0,6.6,1.8,3.0,2.9,3.4,4.1,3.8,6.6,4.0,7.0,6.9,3.4,3.4,2.0,2.0,5.1,8.8,5.6,18.9,15.6,15.6,3.0,3.1,3.0,4.8,2.1,3.1,4.4,4.7,3.0,3.0,4.2,4.1,3.4,3.3,3.0,3.1,10.6,4.8,5.3,4.9,10.2,9.2,7.7,5.9,0.7,1.3,2.5,5.3,5.4,10.2,7.2,2.2,11.0,12.0,3.3,19.4,1.7,5.7,1.8,1.4,10.3,11.5,4.9,3.5,16.2,2.0,2.1,2.1,7.2,12.0,5.3,11.6,3.2,12.3,14.0,2.1,2.1,3.0,6.2,9.6,1.3,7.1,6.3,10.7,5.3,1.6,3.6,1.7,2.9,0.6,0.6,2.3,2.3,3.2,6.2,7.7,3.8,7.9,4.9,5.0,0.6,3.1,7.9,5.5,10.3,10.4,2.0,8.5,4.4,3.8,5.1,3.8,11.6,11.9,1.4,1.1,4.1,6.1,1.3,3.0,4.1,7.2,6.4,12.9,2.8,2.9,4.6,4.6,0.8,0.7,3.9,16.2,6.4],\"y0\":\" \",\"yaxis\":\"y\",\"type\":\"box\"}],                        {\"template\":{\"data\":{\"histogram2dcontour\":[{\"type\":\"histogram2dcontour\",\"colorbar\":{\"outlinewidth\":0,\"ticks\":\"\"},\"colorscale\":[[0.0,\"#0d0887\"],[0.1111111111111111,\"#46039f\"],[0.2222222222222222,\"#7201a8\"],[0.3333333333333333,\"#9c179e\"],[0.4444444444444444,\"#bd3786\"],[0.5555555555555556,\"#d8576b\"],[0.6666666666666666,\"#ed7953\"],[0.7777777777777778,\"#fb9f3a\"],[0.8888888888888888,\"#fdca26\"],[1.0,\"#f0f921\"]]}],\"choropleth\":[{\"type\":\"choropleth\",\"colorbar\":{\"outlinewidth\":0,\"ticks\":\"\"}}],\"histogram2d\":[{\"type\":\"histogram2d\",\"colorbar\":{\"outlinewidth\":0,\"ticks\":\"\"},\"colorscale\":[[0.0,\"#0d0887\"],[0.1111111111111111,\"#46039f\"],[0.2222222222222222,\"#7201a8\"],[0.3333333333333333,\"#9c179e\"],[0.4444444444444444,\"#bd3786\"],[0.5555555555555556,\"#d8576b\"],[0.6666666666666666,\"#ed7953\"],[0.7777777777777778,\"#fb9f3a\"],[0.8888888888888888,\"#fdca26\"],[1.0,\"#f0f921\"]]}],\"heatmap\":[{\"type\":\"heatmap\",\"colorbar\":{\"outlinewidth\":0,\"ticks\":\"\"},\"colorscale\":[[0.0,\"#0d0887\"],[0.1111111111111111,\"#46039f\"],[0.2222222222222222,\"#7201a8\"],[0.3333333333333333,\"#9c179e\"],[0.4444444444444444,\"#bd3786\"],[0.5555555555555556,\"#d8576b\"],[0.6666666666666666,\"#ed7953\"],[0.7777777777777778,\"#fb9f3a\"],[0.8888888888888888,\"#fdca26\"],[1.0,\"#f0f921\"]]}],\"heatmapgl\":[{\"type\":\"heatmapgl\",\"colorbar\":{\"outlinewidth\":0,\"ticks\":\"\"},\"colorscale\":[[0.0,\"#0d0887\"],[0.1111111111111111,\"#46039f\"],[0.2222222222222222,\"#7201a8\"],[0.3333333333333333,\"#9c179e\"],[0.4444444444444444,\"#bd3786\"],[0.5555555555555556,\"#d8576b\"],[0.6666666666666666,\"#ed7953\"],[0.7777777777777778,\"#fb9f3a\"],[0.8888888888888888,\"#fdca26\"],[1.0,\"#f0f921\"]]}],\"contourcarpet\":[{\"type\":\"contourcarpet\",\"colorbar\":{\"outlinewidth\":0,\"ticks\":\"\"}}],\"contour\":[{\"type\":\"contour\",\"colorbar\":{\"outlinewidth\":0,\"ticks\":\"\"},\"colorscale\":[[0.0,\"#0d0887\"],[0.1111111111111111,\"#46039f\"],[0.2222222222222222,\"#7201a8\"],[0.3333333333333333,\"#9c179e\"],[0.4444444444444444,\"#bd3786\"],[0.5555555555555556,\"#d8576b\"],[0.6666666666666666,\"#ed7953\"],[0.7777777777777778,\"#fb9f3a\"],[0.8888888888888888,\"#fdca26\"],[1.0,\"#f0f921\"]]}],\"surface\":[{\"type\":\"surface\",\"colorbar\":{\"outlinewidth\":0,\"ticks\":\"\"},\"colorscale\":[[0.0,\"#0d0887\"],[0.1111111111111111,\"#46039f\"],[0.2222222222222222,\"#7201a8\"],[0.3333333333333333,\"#9c179e\"],[0.4444444444444444,\"#bd3786\"],[0.5555555555555556,\"#d8576b\"],[0.6666666666666666,\"#ed7953\"],[0.7777777777777778,\"#fb9f3a\"],[0.8888888888888888,\"#fdca26\"],[1.0,\"#f0f921\"]]}],\"mesh3d\":[{\"type\":\"mesh3d\",\"colorbar\":{\"outlinewidth\":0,\"ticks\":\"\"}}],\"scatter\":[{\"fillpattern\":{\"fillmode\":\"overlay\",\"size\":10,\"solidity\":0.2},\"type\":\"scatter\"}],\"parcoords\":[{\"type\":\"parcoords\",\"line\":{\"colorbar\":{\"outlinewidth\":0,\"ticks\":\"\"}}}],\"scatterpolargl\":[{\"type\":\"scatterpolargl\",\"marker\":{\"colorbar\":{\"outlinewidth\":0,\"ticks\":\"\"}}}],\"bar\":[{\"error_x\":{\"color\":\"#2a3f5f\"},\"error_y\":{\"color\":\"#2a3f5f\"},\"marker\":{\"line\":{\"color\":\"#E5ECF6\",\"width\":0.5},\"pattern\":{\"fillmode\":\"overlay\",\"size\":10,\"solidity\":0.2}},\"type\":\"bar\"}],\"scattergeo\":[{\"type\":\"scattergeo\",\"marker\":{\"colorbar\":{\"outlinewidth\":0,\"ticks\":\"\"}}}],\"scatterpolar\":[{\"type\":\"scatterpolar\",\"marker\":{\"colorbar\":{\"outlinewidth\":0,\"ticks\":\"\"}}}],\"histogram\":[{\"marker\":{\"pattern\":{\"fillmode\":\"overlay\",\"size\":10,\"solidity\":0.2}},\"type\":\"histogram\"}],\"scattergl\":[{\"type\":\"scattergl\",\"marker\":{\"colorbar\":{\"outlinewidth\":0,\"ticks\":\"\"}}}],\"scatter3d\":[{\"type\":\"scatter3d\",\"line\":{\"colorbar\":{\"outlinewidth\":0,\"ticks\":\"\"}},\"marker\":{\"colorbar\":{\"outlinewidth\":0,\"ticks\":\"\"}}}],\"scattermapbox\":[{\"type\":\"scattermapbox\",\"marker\":{\"colorbar\":{\"outlinewidth\":0,\"ticks\":\"\"}}}],\"scatterternary\":[{\"type\":\"scatterternary\",\"marker\":{\"colorbar\":{\"outlinewidth\":0,\"ticks\":\"\"}}}],\"scattercarpet\":[{\"type\":\"scattercarpet\",\"marker\":{\"colorbar\":{\"outlinewidth\":0,\"ticks\":\"\"}}}],\"carpet\":[{\"aaxis\":{\"endlinecolor\":\"#2a3f5f\",\"gridcolor\":\"white\",\"linecolor\":\"white\",\"minorgridcolor\":\"white\",\"startlinecolor\":\"#2a3f5f\"},\"baxis\":{\"endlinecolor\":\"#2a3f5f\",\"gridcolor\":\"white\",\"linecolor\":\"white\",\"minorgridcolor\":\"white\",\"startlinecolor\":\"#2a3f5f\"},\"type\":\"carpet\"}],\"table\":[{\"cells\":{\"fill\":{\"color\":\"#EBF0F8\"},\"line\":{\"color\":\"white\"}},\"header\":{\"fill\":{\"color\":\"#C8D4E3\"},\"line\":{\"color\":\"white\"}},\"type\":\"table\"}],\"barpolar\":[{\"marker\":{\"line\":{\"color\":\"#E5ECF6\",\"width\":0.5},\"pattern\":{\"fillmode\":\"overlay\",\"size\":10,\"solidity\":0.2}},\"type\":\"barpolar\"}],\"pie\":[{\"automargin\":true,\"type\":\"pie\"}]},\"layout\":{\"autotypenumbers\":\"strict\",\"colorway\":[\"#636efa\",\"#EF553B\",\"#00cc96\",\"#ab63fa\",\"#FFA15A\",\"#19d3f3\",\"#FF6692\",\"#B6E880\",\"#FF97FF\",\"#FECB52\"],\"font\":{\"color\":\"#2a3f5f\"},\"hovermode\":\"closest\",\"hoverlabel\":{\"align\":\"left\"},\"paper_bgcolor\":\"white\",\"plot_bgcolor\":\"#E5ECF6\",\"polar\":{\"bgcolor\":\"#E5ECF6\",\"angularaxis\":{\"gridcolor\":\"white\",\"linecolor\":\"white\",\"ticks\":\"\"},\"radialaxis\":{\"gridcolor\":\"white\",\"linecolor\":\"white\",\"ticks\":\"\"}},\"ternary\":{\"bgcolor\":\"#E5ECF6\",\"aaxis\":{\"gridcolor\":\"white\",\"linecolor\":\"white\",\"ticks\":\"\"},\"baxis\":{\"gridcolor\":\"white\",\"linecolor\":\"white\",\"ticks\":\"\"},\"caxis\":{\"gridcolor\":\"white\",\"linecolor\":\"white\",\"ticks\":\"\"}},\"coloraxis\":{\"colorbar\":{\"outlinewidth\":0,\"ticks\":\"\"}},\"colorscale\":{\"sequential\":[[0.0,\"#0d0887\"],[0.1111111111111111,\"#46039f\"],[0.2222222222222222,\"#7201a8\"],[0.3333333333333333,\"#9c179e\"],[0.4444444444444444,\"#bd3786\"],[0.5555555555555556,\"#d8576b\"],[0.6666666666666666,\"#ed7953\"],[0.7777777777777778,\"#fb9f3a\"],[0.8888888888888888,\"#fdca26\"],[1.0,\"#f0f921\"]],\"sequentialminus\":[[0.0,\"#0d0887\"],[0.1111111111111111,\"#46039f\"],[0.2222222222222222,\"#7201a8\"],[0.3333333333333333,\"#9c179e\"],[0.4444444444444444,\"#bd3786\"],[0.5555555555555556,\"#d8576b\"],[0.6666666666666666,\"#ed7953\"],[0.7777777777777778,\"#fb9f3a\"],[0.8888888888888888,\"#fdca26\"],[1.0,\"#f0f921\"]],\"diverging\":[[0,\"#8e0152\"],[0.1,\"#c51b7d\"],[0.2,\"#de77ae\"],[0.3,\"#f1b6da\"],[0.4,\"#fde0ef\"],[0.5,\"#f7f7f7\"],[0.6,\"#e6f5d0\"],[0.7,\"#b8e186\"],[0.8,\"#7fbc41\"],[0.9,\"#4d9221\"],[1,\"#276419\"]]},\"xaxis\":{\"gridcolor\":\"white\",\"linecolor\":\"white\",\"ticks\":\"\",\"title\":{\"standoff\":15},\"zerolinecolor\":\"white\",\"automargin\":true,\"zerolinewidth\":2},\"yaxis\":{\"gridcolor\":\"white\",\"linecolor\":\"white\",\"ticks\":\"\",\"title\":{\"standoff\":15},\"zerolinecolor\":\"white\",\"automargin\":true,\"zerolinewidth\":2},\"scene\":{\"xaxis\":{\"backgroundcolor\":\"#E5ECF6\",\"gridcolor\":\"white\",\"linecolor\":\"white\",\"showbackground\":true,\"ticks\":\"\",\"zerolinecolor\":\"white\",\"gridwidth\":2},\"yaxis\":{\"backgroundcolor\":\"#E5ECF6\",\"gridcolor\":\"white\",\"linecolor\":\"white\",\"showbackground\":true,\"ticks\":\"\",\"zerolinecolor\":\"white\",\"gridwidth\":2},\"zaxis\":{\"backgroundcolor\":\"#E5ECF6\",\"gridcolor\":\"white\",\"linecolor\":\"white\",\"showbackground\":true,\"ticks\":\"\",\"zerolinecolor\":\"white\",\"gridwidth\":2}},\"shapedefaults\":{\"line\":{\"color\":\"#2a3f5f\"}},\"annotationdefaults\":{\"arrowcolor\":\"#2a3f5f\",\"arrowhead\":0,\"arrowwidth\":1},\"geo\":{\"bgcolor\":\"white\",\"landcolor\":\"#E5ECF6\",\"subunitcolor\":\"white\",\"showland\":true,\"showlakes\":true,\"lakecolor\":\"white\"},\"title\":{\"x\":0.05},\"mapbox\":{\"style\":\"light\"}}},\"xaxis\":{\"anchor\":\"y\",\"domain\":[0.0,1.0],\"title\":{\"text\":\"CATEGORY\"}},\"yaxis\":{\"anchor\":\"x\",\"domain\":[0.0,1.0],\"title\":{\"text\":\"MILES\"}},\"legend\":{\"tracegroupgap\":0},\"title\":{\"text\":\"Box Plot of MILES by CATEGORY\"},\"boxmode\":\"group\"},                        {\"responsive\": true}                    ).then(function(){\n",
       "                            \n",
       "var gd = document.getElementById('f7b07bec-85a0-4d1f-a0bb-6c7c5256e2ac');\n",
       "var x = new MutationObserver(function (mutations, observer) {{\n",
       "        var display = window.getComputedStyle(gd).display;\n",
       "        if (!display || display === 'none') {{\n",
       "            console.log([gd, 'removed!']);\n",
       "            Plotly.purge(gd);\n",
       "            observer.disconnect();\n",
       "        }}\n",
       "}});\n",
       "\n",
       "// Listen for the removal of the full notebook cells\n",
       "var notebookContainer = gd.closest('#notebook-container');\n",
       "if (notebookContainer) {{\n",
       "    x.observe(notebookContainer, {childList: true});\n",
       "}}\n",
       "\n",
       "// Listen for the clearing of the current output cell\n",
       "var outputEl = gd.closest('.output');\n",
       "if (outputEl) {{\n",
       "    x.observe(outputEl, {childList: true});\n",
       "}}\n",
       "\n",
       "                        })                };                });            </script>        </div>"
      ]
     },
     "metadata": {},
     "output_type": "display_data"
    }
   ],
   "source": [
    "#Box plot of 'MILES' by 'CATEGORY'\n",
    "fig_box_category = px.box(df_cleaned, x='CATEGORY', y='MILES', title='Box Plot of MILES by CATEGORY')\n",
    "fig_box_category.show()"
   ]
  },
  {
   "cell_type": "code",
   "execution_count": 52,
   "id": "3cdc5129",
   "metadata": {},
   "outputs": [
    {
     "data": {
      "image/png": "[encoded data removed]",
      "text/plain": [
       "<Figure size 1000x600 with 1 Axes>"
      ]
     },
     "metadata": {},
     "output_type": "display_data"
    }
   ],
   "source": [
    "# Day of the week analysis\n",
    "day_of_week_order = ['Monday', 'Tuesday', 'Wednesday', 'Thursday', 'Friday', 'Saturday', 'Sunday']\n",
    "plt.figure(figsize=(10, 6))\n",
    "sns.countplot(x='START_DAY', data=df, order=day_of_week_order)\n",
    "plt.xlabel('Day of the Week')\n",
    "plt.ylabel('Number of Rides')\n",
    "plt.title('Ride Trends by Day of the Week')\n",
    "plt.show()"
   ]
  },
  {
   "cell_type": "markdown",
   "id": "c4bef00a",
   "metadata": {},
   "source": [
    "# TIme Based Analysis"
   ]
  },
  {
   "cell_type": "code",
   "execution_count": 57,
   "id": "1ba80b75",
   "metadata": {},
   "outputs": [],
   "source": [
    "# Extract information about the month, day, and hour\n",
    "df['Month'] = df['START_DATE'].dt.month\n",
    "df['Day'] = df['START_DATE'].dt.day\n",
    "df['Hour'] = df['START_DATE'].dt.hour"
   ]
  },
  {
   "cell_type": "code",
   "execution_count": 54,
   "id": "20613a18",
   "metadata": {},
   "outputs": [],
   "source": [
    "# Calculate duration of the trip\n",
    "df['DURATION_MINUTES'] = (df['END_DATE'] - df['START_DATE']).dt.total_seconds() / 60"
   ]
  },
  {
   "cell_type": "code",
   "execution_count": 58,
   "id": "9c3f3dea",
   "metadata": {},
   "outputs": [
    {
     "data": {
      "image/png": "[encoded data removed]",
      "text/plain": [
       "<Figure size 1200x600 with 1 Axes>"
      ]
     },
     "metadata": {},
     "output_type": "display_data"
    }
   ],
   "source": [
    "# Plot the number of rides per month\n",
    "plt.figure(figsize=(12, 6))\n",
    "sns.countplot(x='Month', data=df)\n",
    "plt.title('Number of Rides per Month')\n",
    "plt.xlabel('Month')\n",
    "plt.ylabel('Number of Rides')\n",
    "plt.show()"
   ]
  },
  {
   "cell_type": "code",
   "execution_count": 59,
   "id": "6319873b",
   "metadata": {},
   "outputs": [
    {
     "data": {
      "image/png": "[encoded data removed]",
      "text/plain": [
       "<Figure size 1600x1000 with 1 Axes>"
      ]
     },
     "metadata": {},
     "output_type": "display_data"
    }
   ],
   "source": [
    "# Plot the number of rides per day\n",
    "plt.figure(figsize=(16, 10))\n",
    "sns.countplot(x='Day', data=df)\n",
    "plt.title('Number of Rides per Day')\n",
    "plt.xlabel('Day')\n",
    "plt.ylabel('Number of Rides')\n",
    "plt.show()"
   ]
  },
  {
   "cell_type": "code",
   "execution_count": 76,
   "id": "c6b05b08",
   "metadata": {},
   "outputs": [
    {
     "data": {
      "image/png": "[encoded data removed]",
      "text/plain": [
       "<Figure size 1400x600 with 1 Axes>"
      ]
     },
     "metadata": {},
     "output_type": "display_data"
    }
   ],
   "source": [
    "# Plot the number of rides per hour\n",
    "plt.figure(figsize=(14, 6))\n",
    "sns.countplot(x='Hour', data=df)\n",
    "plt.title('Number of Rides per Hour')\n",
    "plt.xlabel('Hour of the Day')\n",
    "plt.ylabel('Number of Rides')\n",
    "plt.show()"
   ]
  },
  {
   "cell_type": "code",
   "execution_count": null,
   "id": "3798ecfb",
   "metadata": {},
   "outputs": [],
   "source": []
  },
  {
   "cell_type": "code",
   "execution_count": 61,
   "id": "c6231eae",
   "metadata": {},
   "outputs": [
    {
     "data": {
      "image/png": "[encoded data removed]",
      "text/plain": [
       "<Figure size 1200x600 with 1 Axes>"
      ]
     },
     "metadata": {},
     "output_type": "display_data"
    }
   ],
   "source": [
    "# Plot the distribution of ride purposes\n",
    "plt.figure(figsize=(12, 6))\n",
    "sns.countplot(x='PURPOSE', data=df, order=df['PURPOSE'].value_counts().index)\n",
    "plt.title('Distribution of Ride Purposes')\n",
    "plt.xlabel('Ride Purpose')\n",
    "plt.ylabel('Number of Rides')\n",
    "plt.xticks(rotation=45)  # Rotate x-axis labels for better readability\n",
    "plt.show()"
   ]
  },
  {
   "cell_type": "markdown",
   "id": "74f81d78",
   "metadata": {},
   "source": []
  },
  {
   "cell_type": "code",
   "execution_count": 62,
   "id": "6856ac93",
   "metadata": {},
   "outputs": [
    {
     "data": {
      "image/png": "[encoded data removed]",
      "text/plain": [
       "<Figure size 1200x600 with 1 Axes>"
      ]
     },
     "metadata": {},
     "output_type": "display_data"
    }
   ],
   "source": [
    "popular_destinations = df['STOP'].value_counts().head(10)\n",
    "\n",
    "# Plot the top 10 popular destinations\n",
    "plt.figure(figsize=(12, 6))\n",
    "sns.barplot(x=popular_destinations.values, y=popular_destinations.index, palette='viridis')\n",
    "plt.title('Top 10 Popular Destinations')\n",
    "plt.xlabel('Number of Rides')\n",
    "plt.ylabel('Destination')\n",
    "plt.show()"
   ]
  },
  {
   "cell_type": "markdown",
   "id": "c0a90b8f",
   "metadata": {},
   "source": [
    "# Correlation Analysis"
   ]
  },
  {
   "cell_type": "code",
   "execution_count": 63,
   "id": "3cc5c892",
   "metadata": {},
   "outputs": [
    {
     "data": {
      "image/png": "[encoded data removed]",
      "text/plain": [
       "<Figure size 1000x800 with 2 Axes>"
      ]
     },
     "metadata": {},
     "output_type": "display_data"
    }
   ],
   "source": [
    "# Selecting numerical columns for correlation analysis\n",
    "numerical_columns = df.select_dtypes(include=['float64', 'int64']).columns\n",
    "\n",
    "# Calculate the correlation matrix\n",
    "correlation_matrix = df[numerical_columns].corr()\n",
    "\n",
    "# Plot the correlation matrix as a heatmap\n",
    "plt.figure(figsize=(10, 8))\n",
    "sns.heatmap(correlation_matrix, annot=True, cmap='coolwarm', fmt=\".2f\", linewidths=.5)\n",
    "plt.title('Correlation Matrix of Numerical Columns')\n",
    "plt.show()"
   ]
  },
  {
   "cell_type": "markdown",
   "id": "cbba423e",
   "metadata": {},
   "source": [
    "### Predictive Modeling"
   ]
  },
  {
   "cell_type": "markdown",
   "id": "90de06c5",
   "metadata": {},
   "source": [
    "Linear Regression"
   ]
  },
  {
   "cell_type": "code",
   "execution_count": 64,
   "id": "334c5790",
   "metadata": {},
   "outputs": [],
   "source": [
    "from sklearn.model_selection import train_test_split\n",
    "from sklearn.linear_model import LinearRegression\n",
    "from sklearn.metrics import mean_squared_error, r2_score"
   ]
  },
  {
   "cell_type": "code",
   "execution_count": 65,
   "id": "505e1e26",
   "metadata": {},
   "outputs": [],
   "source": [
    "# Selecting features and target variable\n",
    "features = df[['MILES']]  # Add more features as needed\n",
    "target = df['DURATION_MINUTES']"
   ]
  },
  {
   "cell_type": "code",
   "execution_count": 66,
   "id": "d9ece8da",
   "metadata": {},
   "outputs": [],
   "source": [
    "# Splitting the data into training and testing sets\n",
    "X_train, X_test, y_train, y_test = train_test_split(features, target, test_size=0.2, random_state=42)"
   ]
  },
  {
   "cell_type": "code",
   "execution_count": 67,
   "id": "9147cd9b",
   "metadata": {},
   "outputs": [],
   "source": [
    "# Creating a linear regression model\n",
    "model = LinearRegression()"
   ]
  },
  {
   "cell_type": "code",
   "execution_count": 68,
   "id": "5773e72c",
   "metadata": {},
   "outputs": [
    {
     "data": {
      "text/html": [
       "<style>#sk-container-id-1 {color: black;}#sk-container-id-1 pre{padding: 0;}#sk-container-id-1 div.sk-toggleable {background-color: white;}#sk-container-id-1 label.sk-toggleable__label {cursor: pointer;display: block;width: 100%;margin-bottom: 0;padding: 0.3em;box-sizing: border-box;text-align: center;}#sk-container-id-1 label.sk-toggleable__label-arrow:before {content: \"▸\";float: left;margin-right: 0.25em;color: #696969;}#sk-container-id-1 label.sk-toggleable__label-arrow:hover:before {color: black;}#sk-container-id-1 div.sk-estimator:hover label.sk-toggleable__label-arrow:before {color: black;}#sk-container-id-1 div.sk-toggleable__content {max-height: 0;max-width: 0;overflow: hidden;text-align: left;background-color: #f0f8ff;}#sk-container-id-1 div.sk-toggleable__content pre {margin: 0.2em;color: black;border-radius: 0.25em;background-color: #f0f8ff;}#sk-container-id-1 input.sk-toggleable__control:checked~div.sk-toggleable__content {max-height: 200px;max-width: 100%;overflow: auto;}#sk-container-id-1 input.sk-toggleable__control:checked~label.sk-toggleable__label-arrow:before {content: \"▾\";}#sk-container-id-1 div.sk-estimator input.sk-toggleable__control:checked~label.sk-toggleable__label {background-color: #d4ebff;}#sk-container-id-1 div.sk-label input.sk-toggleable__control:checked~label.sk-toggleable__label {background-color: #d4ebff;}#sk-container-id-1 input.sk-hidden--visually {border: 0;clip: rect(1px 1px 1px 1px);clip: rect(1px, 1px, 1px, 1px);height: 1px;margin: -1px;overflow: hidden;padding: 0;position: absolute;width: 1px;}#sk-container-id-1 div.sk-estimator {font-family: monospace;background-color: #f0f8ff;border: 1px dotted black;border-radius: 0.25em;box-sizing: border-box;margin-bottom: 0.5em;}#sk-container-id-1 div.sk-estimator:hover {background-color: #d4ebff;}#sk-container-id-1 div.sk-parallel-item::after {content: \"\";width: 100%;border-bottom: 1px solid gray;flex-grow: 1;}#sk-container-id-1 div.sk-label:hover label.sk-toggleable__label {background-color: #d4ebff;}#sk-container-id-1 div.sk-serial::before {content: \"\";position: absolute;border-left: 1px solid gray;box-sizing: border-box;top: 0;bottom: 0;left: 50%;z-index: 0;}#sk-container-id-1 div.sk-serial {display: flex;flex-direction: column;align-items: center;background-color: white;padding-right: 0.2em;padding-left: 0.2em;position: relative;}#sk-container-id-1 div.sk-item {position: relative;z-index: 1;}#sk-container-id-1 div.sk-parallel {display: flex;align-items: stretch;justify-content: center;background-color: white;position: relative;}#sk-container-id-1 div.sk-item::before, #sk-container-id-1 div.sk-parallel-item::before {content: \"\";position: absolute;border-left: 1px solid gray;box-sizing: border-box;top: 0;bottom: 0;left: 50%;z-index: -1;}#sk-container-id-1 div.sk-parallel-item {display: flex;flex-direction: column;z-index: 1;position: relative;background-color: white;}#sk-container-id-1 div.sk-parallel-item:first-child::after {align-self: flex-end;width: 50%;}#sk-container-id-1 div.sk-parallel-item:last-child::after {align-self: flex-start;width: 50%;}#sk-container-id-1 div.sk-parallel-item:only-child::after {width: 0;}#sk-container-id-1 div.sk-dashed-wrapped {border: 1px dashed gray;margin: 0 0.4em 0.5em 0.4em;box-sizing: border-box;padding-bottom: 0.4em;background-color: white;}#sk-container-id-1 div.sk-label label {font-family: monospace;font-weight: bold;display: inline-block;line-height: 1.2em;}#sk-container-id-1 div.sk-label-container {text-align: center;}#sk-container-id-1 div.sk-container {/* jupyter's `normalize.less` sets `[hidden] { display: none; }` but bootstrap.min.css set `[hidden] { display: none !important; }` so we also need the `!important` here to be able to override the default hidden behavior on the sphinx rendered scikit-learn.org. See: https://github.com/scikit-learn/scikit-learn/issues/21755 */display: inline-block !important;position: relative;}#sk-container-id-1 div.sk-text-repr-fallback {display: none;}</style><div id=\"sk-container-id-1\" class=\"sk-top-container\"><div class=\"sk-text-repr-fallback\"><pre>LinearRegression()</pre><b>In a Jupyter environment, please rerun this cell to show the HTML representation or trust the notebook. <br />On GitHub, the HTML representation is unable to render, please try loading this page with nbviewer.org.</b></div><div class=\"sk-container\" hidden><div class=\"sk-item\"><div class=\"sk-estimator sk-toggleable\"><input class=\"sk-toggleable__control sk-hidden--visually\" id=\"sk-estimator-id-1\" type=\"checkbox\" checked><label for=\"sk-estimator-id-1\" class=\"sk-toggleable__label sk-toggleable__label-arrow\">LinearRegression</label><div class=\"sk-toggleable__content\"><pre>LinearRegression()</pre></div></div></div></div></div>"
      ],
      "text/plain": [
       "LinearRegression()"
      ]
     },
     "execution_count": 68,
     "metadata": {},
     "output_type": "execute_result"
    }
   ],
   "source": [
    "# Training the model\n",
    "model.fit(X_train, y_train)"
   ]
  },
  {
   "cell_type": "code",
   "execution_count": 70,
   "id": "23beb9d3",
   "metadata": {},
   "outputs": [],
   "source": [
    "# Making predictions on the test set\n",
    "y_pred = model.predict(X_test)"
   ]
  },
  {
   "cell_type": "code",
   "execution_count": 71,
   "id": "d01b8fd5",
   "metadata": {},
   "outputs": [
    {
     "name": "stdout",
     "output_type": "stream",
     "text": [
      "Mean Squared Error: 229.62278830009757\n",
      "R-squared: 0.6682533952930346\n"
     ]
    }
   ],
   "source": [
    "# Evaluating the model\n",
    "mse = mean_squared_error(y_test, y_pred)\n",
    "r2 = r2_score(y_test, y_pred)\n",
    "\n",
    "print(f'Mean Squared Error: {mse}')\n",
    "print(f'R-squared: {r2}')"
   ]
  },
  {
   "cell_type": "code",
   "execution_count": 72,
   "id": "49221036",
   "metadata": {},
   "outputs": [
    {
     "data": {
      "image/png": "[encoded data removed]",
      "text/plain": [
       "<Figure size 640x480 with 1 Axes>"
      ]
     },
     "metadata": {},
     "output_type": "display_data"
    }
   ],
   "source": [
    "# Visualizing the predictions\n",
    "plt.scatter(X_test, y_test, color='black', label='Actual')\n",
    "plt.scatter(X_test, y_pred, color='blue', label='Predicted')\n",
    "plt.xlabel('Distance (Miles)')\n",
    "plt.ylabel('Duration (Minutes)')\n",
    "plt.legend()\n",
    "plt.show()"
   ]
  },
  {
   "cell_type": "markdown",
   "id": "0ea0e3f8",
   "metadata": {},
   "source": [
    "# Key Findings:\n",
    "\n",
    "1.The data cleaning process addressed missing values, ensuring a reliable dataset for analysis.\n",
    "\n",
    "2.Outlier detection and removal enhanced the accuracy of subsequent analyses.\n",
    "\n",
    "3.Ride trends vary significantly by day of the week, and popular destinations exhibit distinct patterns.\n",
    "\n",
    "4.The correlation matrix highlights potential relationships between numerical features.\n",
    "\n",
    "5.The linear regression model provides insights into the predictive power of selected features for ride duration."
   ]
  },
  {
   "cell_type": "markdown",
   "id": "faa8c42d",
   "metadata": {},
   "source": [
    "# Conclusion:\n",
    "\n",
    "In conclusion, this Uber data analysis project provides valuable insights into ride patterns and trends, shedding light on temporal variations, popular destinations, and potential correlations between numerical features. The combination of exploratory and predictive analyses contributes to a comprehensive understanding of the factors influencing Uber ride durations and user behaviors. Further refinement and exploration could unveil additional layers of insights for optimizing user experiences and operational efficiency in the realm of ride-sharing services."
   ]
  }
 ],
 "metadata": {
  "kernelspec": {
   "display_name": "Python 3 (ipykernel)",
   "language": "python",
   "name": "python3"
  },
  "language_info": {
   "codemirror_mode": {
    "name": "ipython",
    "version": 3
   },
   "file_extension": ".py",
   "mimetype": "text/x-python",
   "name": "python",
   "nbconvert_exporter": "python",
   "pygments_lexer": "ipython3",
   "version": "3.11.4"
  }
 },
 "nbformat": 4,
 "nbformat_minor": 5
}
